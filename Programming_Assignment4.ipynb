{
 "cells": [
  {
   "cell_type": "markdown",
   "id": "7b8a1863",
   "metadata": {},
   "source": [
    "#### 1. Write a Python Program to Find the Factorial of a Number?"
   ]
  },
  {
   "cell_type": "code",
   "execution_count": 1,
   "id": "ea83c0aa",
   "metadata": {},
   "outputs": [
    {
     "name": "stdout",
     "output_type": "stream",
     "text": [
      "Enter a number : 6\n",
      "Factorial of a given number is  720\n"
     ]
    }
   ],
   "source": [
    "num=int(input(\"Enter a number : \"))\n",
    "fact=1\n",
    "for i in range(1,num+1):\n",
    "    fact=fact*i\n",
    "print(\"Factorial of a given number is \",fact)"
   ]
  },
  {
   "cell_type": "markdown",
   "id": "5a15065a",
   "metadata": {},
   "source": [
    "#### 2. Write a Python Program to Display the multiplication Table?"
   ]
  },
  {
   "cell_type": "code",
   "execution_count": 2,
   "id": "b4939cc7",
   "metadata": {},
   "outputs": [
    {
     "name": "stdout",
     "output_type": "stream",
     "text": [
      "Enter a number : 7\n",
      "7 * 1 = 7\n",
      "7 * 2 = 14\n",
      "7 * 3 = 21\n",
      "7 * 4 = 28\n",
      "7 * 5 = 35\n",
      "7 * 6 = 42\n",
      "7 * 7 = 49\n",
      "7 * 8 = 56\n",
      "7 * 9 = 63\n",
      "7 * 10 = 70\n"
     ]
    }
   ],
   "source": [
    "def diplayMultiplicationTable(num):\n",
    "    for i in range(1,11):\n",
    "        print(f\"{num} * {i} = {num*i}\")\n",
    "num=int(input(\"Enter a number : \"))\n",
    "diplayMultiplicationTable(num)"
   ]
  },
  {
   "cell_type": "markdown",
   "id": "d58c4e7d",
   "metadata": {},
   "source": [
    "#### 3. Write a Python Program to Print the Fibonacci sequence?"
   ]
  },
  {
   "cell_type": "code",
   "execution_count": 4,
   "id": "46ab5842",
   "metadata": {},
   "outputs": [
    {
     "name": "stdout",
     "output_type": "stream",
     "text": [
      "15\n",
      "0 1 1 2 3 5 8 13 21 34 55 89 144 233 377 "
     ]
    }
   ],
   "source": [
    "def fibSequence(num):\n",
    "    if num in [0,1]:\n",
    "        return num\n",
    "    else:\n",
    "        return fibSequence(num-1)+fibSequence(num-2)\n",
    "num=int(input(\"Enter a number\"))\n",
    "for i in range(num):\n",
    "    print(fibSequence(i),end=\" \")"
   ]
  },
  {
   "cell_type": "markdown",
   "id": "9e0963cb",
   "metadata": {},
   "source": [
    "#### 4. Write a Python Program to Check Armstrong Number?"
   ]
  },
  {
   "cell_type": "code",
   "execution_count": 8,
   "id": "47697562",
   "metadata": {},
   "outputs": [
    {
     "name": "stdout",
     "output_type": "stream",
     "text": [
      "Enter number : 153\n",
      "The given number is armstrong number\n"
     ]
    }
   ],
   "source": [
    "num=int(input(\"Enter number : \"))\n",
    "dup=num\n",
    "sum=0\n",
    "l=len(str(num))\n",
    "while num>0:\n",
    "    rem=num%10\n",
    "    sum+=rem**l\n",
    "    num=num//10\n",
    "if sum==dup:\n",
    "    print(\"The given number is armstrong number\")\n",
    "else:\n",
    "    print(\"The given number is not a armstrong number\")"
   ]
  },
  {
   "cell_type": "markdown",
   "id": "b8304d44",
   "metadata": {},
   "source": [
    "#### 5. Write a Python Program to Find Armstrong Number in an Interval?"
   ]
  },
  {
   "cell_type": "code",
   "execution_count": 11,
   "id": "7402c43e",
   "metadata": {},
   "outputs": [
    {
     "name": "stdout",
     "output_type": "stream",
     "text": [
      "1 10000\n",
      "1 2 3 4 5 6 7 8 9 153 370 371 407 1634 8208 9474 "
     ]
    }
   ],
   "source": [
    "def armstrongInterval(num):\n",
    "    dup=num\n",
    "    sum=0\n",
    "    l=len(str(num))\n",
    "    while num>0:\n",
    "        rem=num%10\n",
    "        sum+=rem**l\n",
    "        num=num//10\n",
    "    if sum==dup:\n",
    "        print(dup,end=\" \")\n",
    "start,end=map(int,input().split())\n",
    "for i in range(start,end+1):\n",
    "    armstrongInterval(i)"
   ]
  },
  {
   "cell_type": "markdown",
   "id": "3ccd0590",
   "metadata": {},
   "source": [
    "#### 6. Write a Python Program to Find the Sum of Natural Numbers?"
   ]
  },
  {
   "cell_type": "code",
   "execution_count": 12,
   "id": "d07c0d16",
   "metadata": {},
   "outputs": [
    {
     "name": "stdout",
     "output_type": "stream",
     "text": [
      "Enter a number : 100\n",
      "5050\n"
     ]
    }
   ],
   "source": [
    "def sumOfNaturalNums(num):\n",
    "    return num*(num+1)//2\n",
    "num=int(input(\"Enter a number : \"))\n",
    "print(sumOfNaturalNums(num))"
   ]
  }
 ],
 "metadata": {
  "kernelspec": {
   "display_name": "Python 3 (ipykernel)",
   "language": "python",
   "name": "python3"
  },
  "language_info": {
   "codemirror_mode": {
    "name": "ipython",
    "version": 3
   },
   "file_extension": ".py",
   "mimetype": "text/x-python",
   "name": "python",
   "nbconvert_exporter": "python",
   "pygments_lexer": "ipython3",
   "version": "3.10.3"
  }
 },
 "nbformat": 4,
 "nbformat_minor": 5
}
