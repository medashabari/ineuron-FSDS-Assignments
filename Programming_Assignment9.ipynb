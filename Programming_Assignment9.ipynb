{
 "cells": [
  {
   "cell_type": "markdown",
   "id": "db3a2217",
   "metadata": {},
   "source": [
    "#### 1. Write a Python program to check if the given number is a Disarium Number?"
   ]
  },
  {
   "cell_type": "code",
   "execution_count": 4,
   "id": "ef97fa43",
   "metadata": {},
   "outputs": [
    {
     "name": "stdout",
     "output_type": "stream",
     "text": [
      "Enter a number : 175\n",
      "The given number is disarium number\n"
     ]
    }
   ],
   "source": [
    "def disarium(num):\n",
    "    s=i=0\n",
    "    dup=num\n",
    "    l=len(str(num))\n",
    "    while num>0:\n",
    "        rem=num%10\n",
    "        s=s+rem**(l-i)\n",
    "        num//=10\n",
    "        i+=1\n",
    "    if s==dup:\n",
    "        print(\"The given number is disarium number\")\n",
    "    else:\n",
    "        print(\"The given number is not a disarium number\")\n",
    "       \n",
    "num =int(input(\"Enter a number : \"))\n",
    "disarium(num)\n",
    "  "
   ]
  },
  {
   "cell_type": "markdown",
   "id": "cec975a5",
   "metadata": {},
   "source": [
    "#### 2. Write a Python program to print all disarium numbers between 1 to 100?"
   ]
  },
  {
   "cell_type": "code",
   "execution_count": 5,
   "id": "9514139b",
   "metadata": {},
   "outputs": [
    {
     "name": "stdout",
     "output_type": "stream",
     "text": [
      "1 100\n",
      "1 2 3 4 5 6 7 8 9 89 "
     ]
    }
   ],
   "source": [
    "def disarium(num):\n",
    "    s=i=0\n",
    "    dup=num\n",
    "    l=len(str(num))\n",
    "    while num>0:\n",
    "        rem=num%10\n",
    "        s=s+rem**(l-i)\n",
    "        num//=10\n",
    "        i+=1\n",
    "    if s==dup:\n",
    "        print(dup,end=\" \")\n",
    "       \n",
    "start,end=map(int,input().split())\n",
    "for i in range(start,end+1):\n",
    "    disarium(i)"
   ]
  },
  {
   "cell_type": "markdown",
   "id": "96f73fff",
   "metadata": {},
   "source": [
    "#### 3. Write a Python program to check if the given number is Happy Number?"
   ]
  },
  {
   "cell_type": "code",
   "execution_count": 6,
   "id": "764e62a1",
   "metadata": {},
   "outputs": [
    {
     "name": "stdout",
     "output_type": "stream",
     "text": [
      "Enter a number : 19\n",
      "Happy Number\n"
     ]
    }
   ],
   "source": [
    "def happyNum(num):\n",
    "    n=str(num)\n",
    "    sums=[]\n",
    "    while n!='1':\n",
    "        s=0\n",
    "        for i in n:\n",
    "            s+=int(i)**2\n",
    "        n=str(s)\n",
    "        if n not in sums:\n",
    "            sums.append(n)\n",
    "        else:\n",
    "            print('Not a Happy number')\n",
    "            break\n",
    "    if n=='1':\n",
    "        print(\"Happy Number\")\n",
    "happyNum(int(input(\"Enter a number : \")))"
   ]
  },
  {
   "cell_type": "markdown",
   "id": "907f4370",
   "metadata": {},
   "source": [
    "#### 4. Write a Python program to print all happy numbers between 1 and 100?"
   ]
  },
  {
   "cell_type": "code",
   "execution_count": 7,
   "id": "6dddf20b",
   "metadata": {},
   "outputs": [
    {
     "name": "stdout",
     "output_type": "stream",
     "text": [
      "1 100\n",
      "1 7 10 13 19 23 28 31 32 44 49 68 70 79 82 86 91 94 97 100 "
     ]
    }
   ],
   "source": [
    "def happyNum(num):\n",
    "    n=str(num)\n",
    "    sums=[]\n",
    "    while n!='1':\n",
    "        s=0\n",
    "        for i in n:\n",
    "            s+=int(i)**2\n",
    "        n=str(s)\n",
    "        if n not in sums:\n",
    "            sums.append(n)\n",
    "        else:\n",
    "            break\n",
    "    if n=='1':\n",
    "        print(num,end=\" \")\n",
    "start,end=map(int,input().split())\n",
    "for i in range(start,end+1):\n",
    "    happyNum(i)\n",
    "\n"
   ]
  },
  {
   "cell_type": "markdown",
   "id": "d8b2f90d",
   "metadata": {},
   "source": [
    "#### 5. Write a Python program to determine whether the given number is a Harshad Number?"
   ]
  },
  {
   "cell_type": "code",
   "execution_count": 8,
   "id": "ca825c3e",
   "metadata": {},
   "outputs": [
    {
     "name": "stdout",
     "output_type": "stream",
     "text": [
      "Enter a number : 120\n",
      "The given number is harshad number\n"
     ]
    }
   ],
   "source": [
    "def harshadNumber(num):\n",
    "    temp=num\n",
    "    sum=0\n",
    "    while temp>0:\n",
    "        rem=temp%10\n",
    "        sum+=rem\n",
    "        temp//=10\n",
    "    if num%sum==0:\n",
    "        print(\"The given number is harshad number\")\n",
    "    else:\n",
    "        print(\"The given number is not a harshad number\")\n",
    "harshadNumber(int(input(\"Enter a number : \")))"
   ]
  },
  {
   "cell_type": "markdown",
   "id": "3fc1da9b",
   "metadata": {},
   "source": [
    "#### 6. Write a Python program to print all pronic numbers between 1 and 100?"
   ]
  },
  {
   "cell_type": "code",
   "execution_count": 9,
   "id": "614694c1",
   "metadata": {},
   "outputs": [
    {
     "name": "stdout",
     "output_type": "stream",
     "text": [
      "1 100\n",
      "2 6 12 20 30 42 56 72 90 "
     ]
    }
   ],
   "source": [
    "def pronic(num):\n",
    "    for i in range(num):\n",
    "        if i*(i+1)==num:\n",
    "            print(num,end=\" \")\n",
    "start,end=map(int,input().split())\n",
    "for i in range(start,end+1):\n",
    "    pronic(i)"
   ]
  }
 ],
 "metadata": {
  "kernelspec": {
   "display_name": "Python 3 (ipykernel)",
   "language": "python",
   "name": "python3"
  },
  "language_info": {
   "codemirror_mode": {
    "name": "ipython",
    "version": 3
   },
   "file_extension": ".py",
   "mimetype": "text/x-python",
   "name": "python",
   "nbconvert_exporter": "python",
   "pygments_lexer": "ipython3",
   "version": "3.10.3"
  }
 },
 "nbformat": 4,
 "nbformat_minor": 5
}
