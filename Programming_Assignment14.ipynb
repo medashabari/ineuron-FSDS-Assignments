{
 "cells": [
  {
   "cell_type": "markdown",
   "id": "6532d1fc",
   "metadata": {},
   "source": [
    "### Question 1:\n",
    "\n",
    "Define a class with a generator which can iterate the numbers, which are divisible by 7, between a given range 0 and n."
   ]
  },
  {
   "cell_type": "code",
   "execution_count": 1,
   "id": "b3dd2348",
   "metadata": {},
   "outputs": [
    {
     "name": "stdout",
     "output_type": "stream",
     "text": [
      "Enter N value : 100\n",
      "0 7 14 21 28 35 42 49 56 63 70 77 84 91 98 "
     ]
    }
   ],
   "source": [
    "class Generator:\n",
    "    def factorsOf_7(self,n):\n",
    "        for i in range(n):\n",
    "            if i%7==0:\n",
    "                yield i\n",
    "\n",
    "n=int(input(\"Enter N value : \"))\n",
    "g=Generator()\n",
    "for i in g.factorsOf_7(n):\n",
    "    print(i,end=\" \")"
   ]
  },
  {
   "cell_type": "markdown",
   "id": "1acd955c",
   "metadata": {},
   "source": [
    "### Question 2:\n",
    "\n",
    "Write a program to compute the frequency of the words from the input. The output\n",
    "\n",
    "should output after sorting the key alphanumerically.\n",
    "\n",
    "Suppose the following input is supplied to the program:\n",
    "\n",
    "New to Python or choosing between Python 2 and Python 3? Read Python 2 or\n",
    "\n",
    "Python 3.\n",
    "\n",
    "Then, the output should be:\n",
    "\n",
    "2:2\n",
    "\n",
    "3.:1\n",
    "\n",
    "3?:1\n",
    "\n",
    "New:1\n",
    "\n",
    "Python:5\n",
    "\n",
    "Read:1\n",
    "\n",
    "and:1\n",
    "\n",
    "between:1\n",
    "\n",
    "choosing:1\n",
    "\n",
    "or:2\n",
    "\n",
    "to:1"
   ]
  },
  {
   "cell_type": "code",
   "execution_count": 2,
   "id": "af374813",
   "metadata": {},
   "outputs": [
    {
     "name": "stdout",
     "output_type": "stream",
     "text": [
      "Enter sentence : New to Python or choosing between Python 2 and Python 3? Read Python 2 or  Python 3.\n",
      "2 : 2\n",
      "3. : 1\n",
      "3? : 1\n",
      "New : 1\n",
      "Python : 5\n",
      "Read : 1\n",
      "and : 1\n",
      "between : 1\n",
      "choosing : 1\n",
      "or : 2\n",
      "to : 1\n"
     ]
    }
   ],
   "source": [
    "def frequency(str1):\n",
    "    st=str1.split()\n",
    "    d={}\n",
    "    for i in st:\n",
    "        if i not in d:\n",
    "            d[i]=1\n",
    "        else:\n",
    "            d[i]+=1\n",
    "    return dict(sorted(d.items(),key=lambda x:x[0]))\n",
    "s=input(\"Enter sentence : \")\n",
    "d=frequency(s)\n",
    "for i,j in d.items():\n",
    "    print(i,':',j)"
   ]
  },
  {
   "cell_type": "markdown",
   "id": "0978247c",
   "metadata": {},
   "source": [
    "### Question 3:\n",
    "\n",
    "Define a class Person and its two child classes: Male and Female. All classes have a\n",
    "method &quot;getGender&quot; which can print &quot;Male&quot; for Male class and &quot;Female&quot; for Female\n",
    "class."
   ]
  },
  {
   "cell_type": "code",
   "execution_count": 3,
   "id": "c1b0fe39",
   "metadata": {},
   "outputs": [
    {
     "name": "stdout",
     "output_type": "stream",
     "text": [
      "Male\n",
      "Female\n"
     ]
    }
   ],
   "source": [
    "class Person:\n",
    "    def getGender(self):\n",
    "        pass\n",
    "class Male(Person):\n",
    "    def getGender(self):\n",
    "        print(\"Male\")\n",
    "class Female(Person):\n",
    "    def getGender(self):\n",
    "        print(\"Female\")\n",
    "m=Male()\n",
    "m.getGender()\n",
    "f=Female()\n",
    "f.getGender()"
   ]
  },
  {
   "cell_type": "markdown",
   "id": "dc148531",
   "metadata": {},
   "source": [
    "### Question 4:\n",
    "\n",
    "Please write a program to generate all sentences where subject is in [&quot;I&quot;, &quot;You&quot;] and\n",
    "\n",
    "verb is in [&quot;Play&quot;, &quot;Love&quot;] and the object is in [&quot;Hockey&quot;,&quot;Football&quot;]."
   ]
  },
  {
   "cell_type": "code",
   "execution_count": 4,
   "id": "52538a76",
   "metadata": {},
   "outputs": [
    {
     "name": "stdout",
     "output_type": "stream",
     "text": [
      "The generated sentences are \n",
      "I Play Hockey\n",
      "I Play Football\n",
      "I Love Hockey\n",
      "I Love Football\n",
      "You Play Hockey\n",
      "You Play Football\n",
      "You Love Hockey\n",
      "You Love Football\n"
     ]
    }
   ],
   "source": [
    "subject=[\"I\",\"You\"]\n",
    "verb=[\"Play\",\"Love\"]\n",
    "objects=[\"Hockey\",\"Football\"]\n",
    "\n",
    "print(\"The generated sentences are \")\n",
    "for s in subject:\n",
    "    for v in verb:\n",
    "        for ob in objects:\n",
    "            print(s,v,ob)"
   ]
  },
  {
   "cell_type": "markdown",
   "id": "190fa720",
   "metadata": {},
   "source": [
    "### Question 5:\n",
    "\n",
    "Please write a program to compress and decompress the string &quot;hello world!hello\n",
    "\n",
    "world!hello world!hello world!&quot;."
   ]
  },
  {
   "cell_type": "code",
   "execution_count": 8,
   "id": "f201595f",
   "metadata": {},
   "outputs": [
    {
     "name": "stdout",
     "output_type": "stream",
     "text": [
      "After compressing the string  hello world!\n",
      "After decompressing the string  hello world!hello world!hello world!hello world!\n"
     ]
    }
   ],
   "source": [
    "st=\"hello world!hello world!hello world!hello world!\"\n",
    "l=st.split('!')\n",
    "cstr=list(set(l))\n",
    "print(\"After compressing the string \",cstr[0]+'!')\n",
    "dstr=cstr[0]+'!'\n",
    "print(\"After decompressing the string \",dstr*(len(l)-1))"
   ]
  },
  {
   "cell_type": "markdown",
   "id": "407c6510",
   "metadata": {},
   "source": [
    "### Question 6:\n",
    "Please write a binary search function which searches an item in a sorted list. The function should return the index of element to be searched in the list."
   ]
  },
  {
   "cell_type": "code",
   "execution_count": 4,
   "id": "a797f202",
   "metadata": {},
   "outputs": [
    {
     "name": "stdout",
     "output_type": "stream",
     "text": [
      "10 20 30 40 50\n",
      "Enter element to find index :1\n",
      "Element not found\n"
     ]
    }
   ],
   "source": [
    "def binary_search(arr,ele,low,high):\n",
    "    while low<=high:\n",
    "        mid=(low+high)//2\n",
    "        if arr[mid]==ele:\n",
    "            return mid\n",
    "        elif ele<arr[mid]:\n",
    "            high=mid-1\n",
    "        elif ele>arr[mid]:\n",
    "            low=mid+1\n",
    "    return \"Element not found\"\n",
    "    \n",
    "arr=list(map(int,input().split()))\n",
    "arr.sort()\n",
    "n=int(input(\"Enter element to find index :\"))\n",
    "low=0\n",
    "high=len(arr)-1\n",
    "res=binary_search(arr,n,low,high)\n",
    "if type(res)==int:\n",
    "    print(\"The index of the given element is \",res)\n",
    "else:\n",
    "    print(res)"
   ]
  }
 ],
 "metadata": {
  "kernelspec": {
   "display_name": "Python 3 (ipykernel)",
   "language": "python",
   "name": "python3"
  },
  "language_info": {
   "codemirror_mode": {
    "name": "ipython",
    "version": 3
   },
   "file_extension": ".py",
   "mimetype": "text/x-python",
   "name": "python",
   "nbconvert_exporter": "python",
   "pygments_lexer": "ipython3",
   "version": "3.10.3"
  }
 },
 "nbformat": 4,
 "nbformat_minor": 5
}
