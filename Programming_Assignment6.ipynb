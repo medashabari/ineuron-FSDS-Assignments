{
 "cells": [
  {
   "cell_type": "markdown",
   "id": "a6661c73",
   "metadata": {},
   "source": [
    "#### 1. Write a Python Program to Display Fibonacci Sequence Using Recursion?"
   ]
  },
  {
   "cell_type": "code",
   "execution_count": 2,
   "id": "ccc60cec",
   "metadata": {},
   "outputs": [
    {
     "name": "stdout",
     "output_type": "stream",
     "text": [
      "Enter a the range : 10\n",
      "0 1 1 2 3 5 8 13 21 34 "
     ]
    }
   ],
   "source": [
    "def fib(n):\n",
    "    if n in [0,1]:\n",
    "        return n\n",
    "    else:\n",
    "        return fib(n-1)+fib(n-2)\n",
    "n=int(input(\"Enter a the range : \"))\n",
    "for i in range(n):\n",
    "    print(fib(i),end=\" \")"
   ]
  },
  {
   "cell_type": "markdown",
   "id": "426da01e",
   "metadata": {},
   "source": [
    "#### 2. Write a Python Program to Find Factorial of Number Using Recursion?"
   ]
  },
  {
   "cell_type": "code",
   "execution_count": 5,
   "id": "42937f85",
   "metadata": {},
   "outputs": [
    {
     "name": "stdout",
     "output_type": "stream",
     "text": [
      "Enter a number : 6\n",
      "720\n"
     ]
    }
   ],
   "source": [
    "def fact(n):\n",
    "    if n==1:\n",
    "        return 1\n",
    "    else:\n",
    "        return n*fact(n-1)\n",
    "n=int(input(\"Enter a number : \"))\n",
    "print(fact(n))"
   ]
  },
  {
   "cell_type": "markdown",
   "id": "f8c6a1b1",
   "metadata": {},
   "source": [
    "#### 3. Write a Python Program to calculate your Body Mass Index?"
   ]
  },
  {
   "cell_type": "code",
   "execution_count": 3,
   "id": "5734fab7",
   "metadata": {},
   "outputs": [
    {
     "name": "stdout",
     "output_type": "stream",
     "text": [
      "Enter weight in kgs 68\n",
      "Enter height in centimeters : 165\n",
      "Your BMI is  24.977043158861342\n",
      "You are healthy\n"
     ]
    }
   ],
   "source": [
    "def bmi(weight,height):\n",
    "    return weight/(height/100)**2\n",
    "weight=int(input(\"Enter weight in kgs \"))\n",
    "height=int(input(\"Enter height in centimeters : \"))\n",
    "b=bmi(weight,height)\n",
    "print(\"Your BMI is \",b)\n",
    "if b<18.5:\n",
    "    print(\"You are under weight\")\n",
    "elif b>=18.5 or b <=24.9:\n",
    "    print(\"You are healthy\")\n",
    "elif  b>=25.0 or b<=29.9:\n",
    "    print(\"You are over weight\")\n",
    "elif b>=30.0:\n",
    "    print(\"You are Obesity\")"
   ]
  },
  {
   "cell_type": "markdown",
   "id": "5b222249",
   "metadata": {},
   "source": [
    "#### 4. Write a Python Program to calculate the natural logarithm of any number?"
   ]
  },
  {
   "cell_type": "code",
   "execution_count": 4,
   "id": "b97defe0",
   "metadata": {},
   "outputs": [
    {
     "name": "stdout",
     "output_type": "stream",
     "text": [
      "Enter a number : 10\n",
      "The log value of 10 is (2.302585092994046+0j)\n"
     ]
    }
   ],
   "source": [
    "import cmath as cm\n",
    "num=int(input(\"Enter a number : \"))\n",
    "print(f\"The log value of {num} is {cm.log(num)}\")"
   ]
  },
  {
   "cell_type": "markdown",
   "id": "6d9dad31",
   "metadata": {},
   "source": [
    "#### 5. Write a Python Program for cube sum of first n natural numbers?"
   ]
  },
  {
   "cell_type": "code",
   "execution_count": 7,
   "id": "94f044db",
   "metadata": {},
   "outputs": [
    {
     "name": "stdout",
     "output_type": "stream",
     "text": [
      "Enter n value : 10\n",
      "The cube sum of first n natural numbers is  3025\n"
     ]
    }
   ],
   "source": [
    "n=int(input(\"Enter n value : \"))\n",
    "s=((n**2)*(n+1)**2)//4\n",
    "print(\"The cube sum of first n natural numbers is \",s)"
   ]
  }
 ],
 "metadata": {
  "kernelspec": {
   "display_name": "Python 3 (ipykernel)",
   "language": "python",
   "name": "python3"
  },
  "language_info": {
   "codemirror_mode": {
    "name": "ipython",
    "version": 3
   },
   "file_extension": ".py",
   "mimetype": "text/x-python",
   "name": "python",
   "nbconvert_exporter": "python",
   "pygments_lexer": "ipython3",
   "version": "3.10.3"
  }
 },
 "nbformat": 4,
 "nbformat_minor": 5
}
