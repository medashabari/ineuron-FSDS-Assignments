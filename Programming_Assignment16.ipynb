{
 "cells": [
  {
   "cell_type": "markdown",
   "id": "0a370ccf",
   "metadata": {},
   "source": [
    "### Question1. Write a function that stutters a word as if someone is struggling to read it. The\n",
    "\n",
    "first two letters are repeated twice with an ellipsis ... and space after each, and then the\n",
    "\n",
    "word is pronounced with a question mark ?.\n",
    "\n",
    "Examples\n",
    "\n",
    "stutter(&quot;incredible&quot;) ➞ &quot;in... in... incredible?&quot;\n",
    "\n",
    "stutter(&quot;enthusiastic&quot;) ➞ &quot;en... en... enthusiastic?&quot;\n",
    "\n",
    "stutter(&quot;outstanding&quot;) ➞ &quot;ou... ou... outstanding?&quot;\n",
    "\n",
    "Hint :- Assume all input is in lower case and at least two characters long."
   ]
  },
  {
   "cell_type": "code",
   "execution_count": 3,
   "id": "e213ef48",
   "metadata": {},
   "outputs": [
    {
     "name": "stdout",
     "output_type": "stream",
     "text": [
      "in...in...incredible?\n",
      "en...en...enthusiastic?\n",
      "ou...ou...outstanding?\n"
     ]
    }
   ],
   "source": [
    "def stutter(word):\n",
    "    return word[:2]+'...'+word[:2]+'...'+word+'?'\n",
    "print(stutter(\"incredible\"))\n",
    "\n",
    "print(stutter(\"enthusiastic\"))\n",
    "\n",
    "print(stutter(\"outstanding\"))"
   ]
  },
  {
   "cell_type": "markdown",
   "id": "783138e6",
   "metadata": {},
   "source": [
    "### Question 2.Create a function that takes an angle in radians and returns the corresponding\n",
    "\n",
    "angle in degrees rounded to one decimal place.\n",
    "\n",
    "Examples\n",
    "\n",
    "radians_to_degrees(1) ➞ 57.3\n",
    "\n",
    "radians_to_degrees(20) ➞ 1145.9\n",
    "\n",
    "radians_to_degrees(50) ➞ 2864.8"
   ]
  },
  {
   "cell_type": "code",
   "execution_count": 6,
   "id": "50149397",
   "metadata": {},
   "outputs": [
    {
     "name": "stdout",
     "output_type": "stream",
     "text": [
      "57.3\n",
      "1145.9\n",
      "2864.8\n"
     ]
    }
   ],
   "source": [
    "from math import pi\n",
    "def radians_to_degrees(rad):\n",
    "    return round(rad*180/pi,1)\n",
    "print(radians_to_degrees(1))\n",
    "\n",
    "print(radians_to_degrees(20))\n",
    "\n",
    "print(radians_to_degrees(50))"
   ]
  },
  {
   "cell_type": "markdown",
   "id": "8666d6a1",
   "metadata": {},
   "source": [
    "### Question 3. In this challenge, establish if a given integer num is a Curzon number. If 1 plus\n",
    "\n",
    "2 elevated to num is exactly divisible by 1 plus 2 multiplied by num, then num is a Curzon\n",
    "\n",
    "number.\n",
    "\n",
    "Given a non-negative integer num, implement a function that returns True if num is a Curzon\n",
    "\n",
    "number, or False otherwise.\n",
    "\n",
    "Examples\n",
    "\n",
    "is_curzon(5) ➞ True\n",
    "\n",
    "2 ** 5 + 1 = 33\n",
    "\n",
    "2 * 5 + 1 = 11\n",
    "\n",
    "33 is a multiple of 11\n",
    "\n",
    "is_curzon(10) ➞ False\n",
    "\n",
    "2 ** 10 + 1 = 1025\n",
    "\n",
    "2 * 10 + 1 = 21\n",
    "\n",
    "1025 is not a multiple of 21\n",
    "\n",
    "is_curzon(14) ➞ True\n",
    "\n",
    "2 ** 14 + 1 = 16385\n",
    "\n",
    "2 * 14 + 1 = 29\n",
    "\n",
    "16385 is a multiple of 29"
   ]
  },
  {
   "cell_type": "code",
   "execution_count": 15,
   "id": "9e6dba2c",
   "metadata": {},
   "outputs": [
    {
     "name": "stdout",
     "output_type": "stream",
     "text": [
      "33 is a multiple of 11\n",
      "1025 is not a multiple of 21\n",
      "16385 is a multiple of 29\n"
     ]
    }
   ],
   "source": [
    "def is_curzon(n):\n",
    "    if (2**n+1)%(2*n+1)==0:\n",
    "        print(f\"{2**n+1} is a multiple of {2*n+1}\")\n",
    "    else:\n",
    "        print(f\"{2**n+1} is not a multiple of {2*n+1}\")\n",
    "is_curzon(5)\n",
    "is_curzon(10)\n",
    "is_curzon(14)\n"
   ]
  },
  {
   "cell_type": "markdown",
   "id": "7bcba00f",
   "metadata": {},
   "source": [
    "### Question 4.Given the side length x find the area of a hexagon.\n",
    "\n",
    "area_of_hexagon(1) ➞ 2.6\n",
    "\n",
    "area_of_hexagon(2) ➞ 10.4\n",
    "\n",
    "area_of_hexagon(3) ➞ 23.4"
   ]
  },
  {
   "cell_type": "code",
   "execution_count": 18,
   "id": "507f989d",
   "metadata": {},
   "outputs": [
    {
     "name": "stdout",
     "output_type": "stream",
     "text": [
      "2.6\n",
      "10.4\n",
      "23.4\n"
     ]
    }
   ],
   "source": [
    "from math import sqrt\n",
    "def area_of_hexagon(s):\n",
    "    return round((3*sqrt(3)*s**2)/2,1)\n",
    "print(area_of_hexagon(1))\n",
    "print(area_of_hexagon(2))\n",
    "print(area_of_hexagon(3)) "
   ]
  },
  {
   "cell_type": "markdown",
   "id": "401e18ec",
   "metadata": {},
   "source": [
    "### Question 5. Create a function that returns a base-2 (binary) representation of a base-10\n",
    "\n",
    "(decimal) string number. To convert is simple: ((2) means base-2 and (10) means base-10)\n",
    "\n",
    "010101001(2) = 1 + 8 + 32 + 128.\n",
    "\n",
    "Going from right to left, the value of the most right bit is 1, now from that every bit to the left\n",
    "\n",
    "will be x2 the value, value of an 8 bit binary numbers are (256, 128, 64, 32, 16, 8, 4, 2, 1).\n",
    "\n",
    "Examples\n",
    "\n",
    "binary(1) ➞ &quot;1&quot;\n",
    "\n",
    "1*1 = 1\n",
    "\n",
    "binary(5) ➞ &quot;101&quot;\n",
    "\n",
    "1*1 + 1*4 = 5\n",
    "\n",
    "binary(10) ➞ &quot;1010&quot;\n",
    "\n",
    "1*2 + 1*8 = 10"
   ]
  },
  {
   "cell_type": "code",
   "execution_count": 23,
   "id": "647894e2",
   "metadata": {},
   "outputs": [
    {
     "name": "stdout",
     "output_type": "stream",
     "text": [
      "1\n",
      "101\n",
      "1010\n"
     ]
    }
   ],
   "source": [
    "def binary(n):\n",
    "    print(bin(n)[2:])\n",
    "binary(1)\n",
    "binary(5)\n",
    "binary(10)"
   ]
  }
 ],
 "metadata": {
  "kernelspec": {
   "display_name": "Python 3 (ipykernel)",
   "language": "python",
   "name": "python3"
  },
  "language_info": {
   "codemirror_mode": {
    "name": "ipython",
    "version": 3
   },
   "file_extension": ".py",
   "mimetype": "text/x-python",
   "name": "python",
   "nbconvert_exporter": "python",
   "pygments_lexer": "ipython3",
   "version": "3.10.3"
  }
 },
 "nbformat": 4,
 "nbformat_minor": 5
}
