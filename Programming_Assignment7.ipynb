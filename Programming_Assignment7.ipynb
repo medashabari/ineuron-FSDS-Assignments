{
 "cells": [
  {
   "cell_type": "markdown",
   "id": "b5efb916",
   "metadata": {},
   "source": [
    "#### 1. Write a Python Program to find sum of array?"
   ]
  },
  {
   "cell_type": "code",
   "execution_count": 4,
   "id": "4a519d96",
   "metadata": {},
   "outputs": [
    {
     "name": "stdout",
     "output_type": "stream",
     "text": [
      "Enter number of elements : 5\n",
      "10\n",
      "20\n",
      "30\n",
      "40\n",
      "50\n",
      "[10, 20, 30, 40, 50]\n",
      "150\n"
     ]
    }
   ],
   "source": [
    "def sumArray(arr):\n",
    "    return sum(arr)\n",
    "n=int(input(\"Enter number of elements : \"))\n",
    "arr=[int(input()) for i in range(n)]\n",
    "print(arr)\n",
    "print(sumArray(arr))"
   ]
  },
  {
   "cell_type": "markdown",
   "id": "521c149e",
   "metadata": {},
   "source": [
    "#### 2. Write a Python Program to find largest element in an array?"
   ]
  },
  {
   "cell_type": "code",
   "execution_count": 5,
   "id": "a33c924e",
   "metadata": {},
   "outputs": [
    {
     "name": "stdout",
     "output_type": "stream",
     "text": [
      "Enter number of elements : 5\n",
      "19\n",
      "-1\n",
      "92\n",
      "0\n",
      "1\n",
      "[19, -1, 92, 0, 1]\n",
      "92\n"
     ]
    }
   ],
   "source": [
    "def maxElement(arr):\n",
    "    return max(arr)\n",
    "n=int(input(\"Enter number of elements : \"))\n",
    "arr=[int(input()) for i in range(n)]\n",
    "print(arr)\n",
    "print(maxElement(arr))"
   ]
  },
  {
   "cell_type": "markdown",
   "id": "bbe599b8",
   "metadata": {},
   "source": [
    "#### 3. Write a Python Program for array rotation?"
   ]
  },
  {
   "cell_type": "code",
   "execution_count": 11,
   "id": "3fb04b99",
   "metadata": {},
   "outputs": [
    {
     "name": "stdout",
     "output_type": "stream",
     "text": [
      "Enter number of elements : 6\n",
      "10\n",
      "20\n",
      "30\n",
      "40\n",
      "50\n",
      "60\n",
      "Enter number of rotations : 3\n",
      "[10, 20, 30, 40, 50, 60]\n",
      "[40, 50, 60, 10, 20, 30]\n"
     ]
    }
   ],
   "source": [
    "def arrayRotation(arr,k):\n",
    "    for i in range(k):\n",
    "        t= arr[0]\n",
    "        del arr[0]\n",
    "        arr.append(t)\n",
    "    return arr\n",
    "n=int(input(\"Enter number of elements : \"))\n",
    "arr=[int(input()) for i in range(n)]\n",
    "k=int(input(\"Enter number of rotations : \"))\n",
    "print(arr)\n",
    "print(arrayRotation(arr,k))"
   ]
  },
  {
   "cell_type": "markdown",
   "id": "f90368b1",
   "metadata": {},
   "source": [
    "#### 4. Write a Python Program to Split the array and add the first part to the end?"
   ]
  },
  {
   "cell_type": "code",
   "execution_count": 13,
   "id": "c43e0ca0",
   "metadata": {},
   "outputs": [
    {
     "name": "stdout",
     "output_type": "stream",
     "text": [
      "Enter number of elements : 6\n",
      "1\n",
      "2\n",
      "3\n",
      "4\n",
      "5\n",
      "6\n",
      "[4, 5, 6, 1, 2, 3]\n"
     ]
    }
   ],
   "source": [
    "def splitArr(arr):\n",
    "    return arr[len(arr)//2:]+arr[:len(arr)//2]\n",
    "n=int(input(\"Enter number of elements : \"))\n",
    "arr=[int(input()) for i in range(n)]\n",
    "print(splitArr(arr))"
   ]
  },
  {
   "cell_type": "markdown",
   "id": "3db61ebe",
   "metadata": {},
   "source": [
    "#### 5. Write a Python Program to check if given array is Monotonic?"
   ]
  },
  {
   "cell_type": "code",
   "execution_count": 17,
   "id": "7fa51011",
   "metadata": {},
   "outputs": [
    {
     "name": "stdout",
     "output_type": "stream",
     "text": [
      "Enter number of elements : 5\n",
      "1\n",
      "4\n",
      "2\n",
      "4\n",
      "2\n",
      "The given array is not a monotonic array\n"
     ]
    }
   ],
   "source": [
    "def monotonic(arr):\n",
    "    return all(arr[i-1]<arr[i] for i in range(1,len(arr))) or all(arr[i-1]>arr[i] for i in range(1,len(arr)))\n",
    "\n",
    "n=int(input(\"Enter number of elements : \"))\n",
    "arr=[int(input()) for i in range(n)]\n",
    "print(\"The given array is monotonic\") if monotonic(arr) else print(\"The given array is not a monotonic array\")"
   ]
  }
 ],
 "metadata": {
  "kernelspec": {
   "display_name": "Python 3 (ipykernel)",
   "language": "python",
   "name": "python3"
  },
  "language_info": {
   "codemirror_mode": {
    "name": "ipython",
    "version": 3
   },
   "file_extension": ".py",
   "mimetype": "text/x-python",
   "name": "python",
   "nbconvert_exporter": "python",
   "pygments_lexer": "ipython3",
   "version": "3.10.3"
  }
 },
 "nbformat": 4,
 "nbformat_minor": 5
}
