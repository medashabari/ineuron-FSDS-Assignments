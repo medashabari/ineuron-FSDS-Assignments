{
 "cells": [
  {
   "cell_type": "markdown",
   "id": "430b7b6b",
   "metadata": {},
   "source": [
    "#### 1. Write a Python Program to Add Two Matrices?"
   ]
  },
  {
   "cell_type": "code",
   "execution_count": 11,
   "id": "9c0af43c",
   "metadata": {},
   "outputs": [
    {
     "name": "stdout",
     "output_type": "stream",
     "text": [
      "Enter number of rows : 3\n",
      "Enter number of cols : 3\n",
      "1 1 1\n",
      "1 1 1\n",
      "1 1 1\n",
      "1 1 1\n",
      "1 1 1\n",
      "1 1 1\n",
      "The addition of two matrices : \n",
      "[[2, 2, 2], [2, 2, 2], [2, 2, 2]]\n"
     ]
    }
   ],
   "source": [
    "rows=int(input(\"Enter number of rows : \"))\n",
    "cols=int(input(\"Enter number of cols : \"))\n",
    "mat=[[int(i) for i in input().split()] for _ in range(rows)]\n",
    "mat1=[[int(i) for i in input().split()] for _ in range(rows)]\n",
    "print(\"The addition of two matrices : \")\n",
    "res=[[mat1[i][j]+mat1[i][j] for j in range(cols)] for i in range(rows)]\n",
    "print(res)"
   ]
  },
  {
   "cell_type": "markdown",
   "id": "283f5a46",
   "metadata": {},
   "source": [
    "## 2. Write a Python Program to Multiply Two Matrices?"
   ]
  },
  {
   "cell_type": "code",
   "execution_count": 3,
   "id": "f950baf0",
   "metadata": {},
   "outputs": [
    {
     "name": "stdout",
     "output_type": "stream",
     "text": [
      "Enter number of rows3\n",
      "Enter number of cols3\n",
      "2 1 3\n",
      "4 2 1\n",
      "4 5 6\n",
      "7 8 9\n",
      "0 1 2\n",
      "2 5 6\n",
      "[[20, 30, 40], [32, 39, 67], [38, 46, 82]]\n"
     ]
    }
   ],
   "source": [
    "rows=int(input(\"Enter number of rows\"))\n",
    "cols=int(input(\"Enter number of cols\"))\n",
    "mat=[[int(i) for i in input().split()] for _ in range(rows)]\n",
    "mat1=[[int(i) for i in input().split()] for j in range(rows)]\n",
    "mat_mul=[[0 for j in range(cols)] for i in range(rows)]\n",
    "for i in range(rows):\n",
    "    for j in range(cols):\n",
    "        for k in range(cols):\n",
    "            mat_mul[i][j]+=mat[j][k]*mat1[k][i]\n",
    "print(mat_mul)"
   ]
  },
  {
   "cell_type": "markdown",
   "id": "05154503",
   "metadata": {},
   "source": [
    "#### 3. Write a Python Program to Transpose a Matrix?"
   ]
  },
  {
   "cell_type": "code",
   "execution_count": 7,
   "id": "504d1f83",
   "metadata": {},
   "outputs": [
    {
     "name": "stdout",
     "output_type": "stream",
     "text": [
      "Enter number of rows3\n",
      "Enter number of cols3\n",
      "1 2 3\n",
      "4 5 6\n",
      "7 8 9\n",
      "Original matrix\n",
      "1 2 3 \n",
      "4 5 6 \n",
      "7 8 9 \n",
      "Transpose matrix\n",
      "1 4 7 \n",
      "2 5 8 \n",
      "3 6 9 \n"
     ]
    }
   ],
   "source": [
    "rows=int(input(\"Enter number of rows\"))\n",
    "cols=int(input(\"Enter number of cols\"))\n",
    "o_arr=[[int(i) for i in input().split()] for _ in range(rows)]\n",
    "print(\"Original matrix\")\n",
    "for i in range(rows):\n",
    "    for j in range(cols):\n",
    "        print(o_arr[i][j],end=' ')\n",
    "    print()\n",
    "print(\"Transpose matrix\")\n",
    "for i in range(rows):\n",
    "    for j in range(cols):\n",
    "        print(o_arr[j][i],end=' ')\n",
    "    print()"
   ]
  },
  {
   "cell_type": "markdown",
   "id": "8a52467a",
   "metadata": {},
   "source": [
    "#### 4. Write a Python Program to Sort Words in Alphabetic Order?"
   ]
  },
  {
   "cell_type": "code",
   "execution_count": 15,
   "id": "fcb9e5c5",
   "metadata": {},
   "outputs": [
    {
     "name": "stdout",
     "output_type": "stream",
     "text": [
      "Enter the string this is a  python code\n",
      "a code is python this\n"
     ]
    }
   ],
   "source": [
    "s=input(\"Enter the string \").split()\n",
    "print(' '.join(sorted(s)))"
   ]
  },
  {
   "cell_type": "markdown",
   "id": "7aa30a02",
   "metadata": {},
   "source": [
    "#### 5. Write a Python Program to Remove Punctuation From a String?"
   ]
  },
  {
   "cell_type": "code",
   "execution_count": 17,
   "id": "7e711435",
   "metadata": {},
   "outputs": [
    {
     "name": "stdout",
     "output_type": "stream",
     "text": [
      "this is, a python! code. Learn@ Coding*\n",
      "this is a python code Learn Coding\n"
     ]
    }
   ],
   "source": [
    "s = input()\n",
    "punctuations = '''!@#$^&*()-[]{};:'\"\\,<>./?_~'''\n",
    "res= ''\n",
    "for char in s:\n",
    "    if char not in punctuations:\n",
    "        res += char\n",
    "print(res)"
   ]
  }
 ],
 "metadata": {
  "kernelspec": {
   "display_name": "Python 3 (ipykernel)",
   "language": "python",
   "name": "python3"
  },
  "language_info": {
   "codemirror_mode": {
    "name": "ipython",
    "version": 3
   },
   "file_extension": ".py",
   "mimetype": "text/x-python",
   "name": "python",
   "nbconvert_exporter": "python",
   "pygments_lexer": "ipython3",
   "version": "3.10.3"
  }
 },
 "nbformat": 4,
 "nbformat_minor": 5
}
