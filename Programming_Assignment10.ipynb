{
 "cells": [
  {
   "cell_type": "markdown",
   "id": "cbf50544",
   "metadata": {},
   "source": [
    "#### 1. Write a Python program to find sum of elements in list?"
   ]
  },
  {
   "cell_type": "code",
   "execution_count": 2,
   "id": "60eb75ea",
   "metadata": {},
   "outputs": [
    {
     "name": "stdout",
     "output_type": "stream",
     "text": [
      "10 20 30 40 50 60 1 2 10\n",
      "The sum of the array is :  223\n"
     ]
    }
   ],
   "source": [
    "def sumArray(arr):\n",
    "    sum=0\n",
    "    for ele in arr:\n",
    "        sum+=ele\n",
    "    return sum\n",
    "arr=list(map(int,input().split()))\n",
    "print(\"The sum of the array is : \",sumArray(arr))"
   ]
  },
  {
   "cell_type": "markdown",
   "id": "483393bc",
   "metadata": {},
   "source": [
    "#### 2. Write a Python program to Multiply all numbers in the list?"
   ]
  },
  {
   "cell_type": "code",
   "execution_count": 4,
   "id": "1df9bb43",
   "metadata": {},
   "outputs": [
    {
     "name": "stdout",
     "output_type": "stream",
     "text": [
      "1 2 3 4 5 6\n",
      "The product of all elements in the array is :  720\n"
     ]
    }
   ],
   "source": [
    "def mulArray(arr):\n",
    "    sum=1\n",
    "    for ele in arr:\n",
    "        sum=sum*ele\n",
    "    return sum\n",
    "arr=list(map(int,input().split()))\n",
    "print(\"The product of all elements in the array is : \",mulArray(arr))"
   ]
  },
  {
   "cell_type": "markdown",
   "id": "989cf9ac",
   "metadata": {},
   "source": [
    "#### 3. Write a Python program to find smallest number in a list?"
   ]
  },
  {
   "cell_type": "code",
   "execution_count": 9,
   "id": "25138d44",
   "metadata": {},
   "outputs": [
    {
     "name": "stdout",
     "output_type": "stream",
     "text": [
      "0 -11 -1 -19 10 20 30 40 0 50 60 1 2 10\n",
      "The minimum element in the array is :  -19\n"
     ]
    }
   ],
   "source": [
    "def minEle(arr):\n",
    "    min=arr[0]\n",
    "    for i in range(1,len(arr)):\n",
    "        if arr[i]<min:\n",
    "            min=arr[i]\n",
    "    return min\n",
    "arr=list(map(int,input().split()))\n",
    "print(\"The minimum element in the array is : \",minEle(arr))"
   ]
  },
  {
   "cell_type": "markdown",
   "id": "80df05e7",
   "metadata": {},
   "source": [
    "#### 4. Write a Python program to find largest number in a list?"
   ]
  },
  {
   "cell_type": "code",
   "execution_count": 10,
   "id": "c31fc624",
   "metadata": {},
   "outputs": [
    {
     "name": "stdout",
     "output_type": "stream",
     "text": [
      "0 -11 -1 -19 10 20 30 40 0 50 60 1 2 10\n",
      "The maximum element in the array is :  60\n"
     ]
    }
   ],
   "source": [
    "def maxEle(arr):\n",
    "    max=arr[0]\n",
    "    for i in range(1,len(arr)):\n",
    "        if arr[i]>max:\n",
    "            max=arr[i]\n",
    "    return max\n",
    "arr=list(map(int,input().split()))\n",
    "print(\"The maximum element in the array is : \",maxEle(arr))"
   ]
  },
  {
   "cell_type": "markdown",
   "id": "c10a7d23",
   "metadata": {},
   "source": [
    "#### 5. Write a Python program to find second largest number in a list?"
   ]
  },
  {
   "cell_type": "code",
   "execution_count": 11,
   "id": "0882ffd6",
   "metadata": {},
   "outputs": [
    {
     "name": "stdout",
     "output_type": "stream",
     "text": [
      "0 -11 -1 -19 10 20 30 40 0 50 60 1 2 10\n",
      "The second maximum element in the array is :  50\n"
     ]
    }
   ],
   "source": [
    "def secondMaxEle(arr):\n",
    "    max=arr[0]\n",
    "    for i in range(1,len(arr)):\n",
    "        if arr[i]>max:\n",
    "            second=max\n",
    "            max=arr[i]\n",
    "    return second\n",
    "arr=list(map(int,input().split()))\n",
    "print(\"The second maximum element in the array is : \",secondMaxEle(arr))"
   ]
  },
  {
   "cell_type": "markdown",
   "id": "0a047f7c",
   "metadata": {},
   "source": [
    "#### 6. Write a Python program to find N largest elements from a list?"
   ]
  },
  {
   "cell_type": "code",
   "execution_count": 13,
   "id": "803f8eb8",
   "metadata": {},
   "outputs": [
    {
     "name": "stdout",
     "output_type": "stream",
     "text": [
      "0 -11 -1 -19 10 20 30 40 0 50 60 1 2 10\n",
      "Enter n value : 5\n",
      "The 5 largest elements in the array is : [20, 30, 40, 50, 60]\n"
     ]
    }
   ],
   "source": [
    "def nlargesteElement(arr,n):\n",
    "    new=sorted(arr)\n",
    "    return new[len(arr)-n:]\n",
    "arr=list(map(int,input().split()))\n",
    "n=int(input(\"Enter n value : \"))\n",
    "print(f\"The {n} largest elements in the array is : {nlargesteElement(arr,n)}\")"
   ]
  },
  {
   "cell_type": "markdown",
   "id": "a743beaa",
   "metadata": {},
   "source": [
    "#### 7. Write a Python program to print even numbers in a list?"
   ]
  },
  {
   "cell_type": "code",
   "execution_count": 15,
   "id": "b31207a9",
   "metadata": {},
   "outputs": [
    {
     "name": "stdout",
     "output_type": "stream",
     "text": [
      "12 13 15 18 2 1 4 3 89 87 9 12 \n",
      "The Even numbers in the list \n",
      "12 18 2 4 12 "
     ]
    }
   ],
   "source": [
    "def evenNumbers(arr):\n",
    "    for ele in arr:\n",
    "        if ele%2==0:\n",
    "            print(ele,end=\" \")\n",
    "arr=list(map(int,input().split()))\n",
    "print(\"The Even numbers in the list \")\n",
    "evenNumbers(arr)"
   ]
  },
  {
   "cell_type": "markdown",
   "id": "62453e52",
   "metadata": {},
   "source": [
    "#### 8. Write a Python program to print odd numbers in a List?"
   ]
  },
  {
   "cell_type": "code",
   "execution_count": 16,
   "id": "144480e9",
   "metadata": {},
   "outputs": [
    {
     "name": "stdout",
     "output_type": "stream",
     "text": [
      "10 2 3 4 5 6 7 8 11 13 78 90 19\n",
      "The odd numbers in the list \n",
      "3 5 7 11 13 19 "
     ]
    }
   ],
   "source": [
    "def oddNumbers(arr):\n",
    "    for ele in arr:\n",
    "        if ele%2!=0:\n",
    "            print(ele,end=\" \")\n",
    "arr=list(map(int,input().split()))\n",
    "print(\"The odd numbers in the list \")\n",
    "oddNumbers(arr)"
   ]
  },
  {
   "cell_type": "markdown",
   "id": "a49ffe63",
   "metadata": {},
   "source": [
    "#### 9. Write a Python program to Remove empty List from List?"
   ]
  },
  {
   "cell_type": "code",
   "execution_count": 7,
   "id": "9f17ba60",
   "metadata": {},
   "outputs": [
    {
     "name": "stdout",
     "output_type": "stream",
     "text": [
      "[[1], [1, 2, 3], [10, 20]]\n"
     ]
    }
   ],
   "source": [
    "def removeEmptyLists(arr):\n",
    "    l=[]\n",
    "    for ele in arr:\n",
    "        if len(ele)!=0:\n",
    "            l.append(ele)\n",
    "    return l\n",
    "arr=[[],[1],[],[1,2,3],[],[10,20],[],[]]\n",
    "print(removeEmptyLists(arr))"
   ]
  },
  {
   "cell_type": "markdown",
   "id": "55c70ddd",
   "metadata": {},
   "source": [
    "#### 10. Write a Python program to Cloning or Copying a list?"
   ]
  },
  {
   "cell_type": "code",
   "execution_count": 8,
   "id": "79c9ddb6",
   "metadata": {},
   "outputs": [
    {
     "name": "stdout",
     "output_type": "stream",
     "text": [
      "[1, 2, 3, 4] [1, 2, 3, 4, 5]\n"
     ]
    }
   ],
   "source": [
    "#cloning\n",
    "l=[1,2,3,4]\n",
    "new_l=l[:]\n",
    "new_l.append(5)\n",
    "print(l,new_l)"
   ]
  },
  {
   "cell_type": "code",
   "execution_count": 9,
   "id": "c0b30177",
   "metadata": {},
   "outputs": [
    {
     "name": "stdout",
     "output_type": "stream",
     "text": [
      "[1, 2, 3, 4] [1, 2, 3, 4]\n"
     ]
    }
   ],
   "source": [
    "#copying a list\n",
    "l=[1,2,3,4]\n",
    "new_l=l.copy()\n",
    "print(l,new_l)"
   ]
  },
  {
   "cell_type": "markdown",
   "id": "7e741826",
   "metadata": {},
   "source": [
    "#### 11. Write a Python program to Count occurrences of an element in a list?"
   ]
  },
  {
   "cell_type": "code",
   "execution_count": 11,
   "id": "deae23ae",
   "metadata": {},
   "outputs": [
    {
     "name": "stdout",
     "output_type": "stream",
     "text": [
      "Enter elements : 1 1 2 1 4 5 6 6 7 8 1 2 9 2 0 2 4 5 \n",
      "Enter element to count number of occurances : 2\n",
      "The element 2 occurs 4 times in the given list\n"
     ]
    }
   ],
   "source": [
    "def countOccurances(arr,ele):\n",
    "    return arr.count(ele)\n",
    "arr=list(map(int,input(\"Enter elements : \").split()))\n",
    "ele=int(input(\"Enter element to count number of occurances : \"))\n",
    "print(f\"The element {ele} occurs {countOccurances(arr,ele)} times in the given list\")"
   ]
  }
 ],
 "metadata": {
  "kernelspec": {
   "display_name": "Python 3 (ipykernel)",
   "language": "python",
   "name": "python3"
  },
  "language_info": {
   "codemirror_mode": {
    "name": "ipython",
    "version": 3
   },
   "file_extension": ".py",
   "mimetype": "text/x-python",
   "name": "python",
   "nbconvert_exporter": "python",
   "pygments_lexer": "ipython3",
   "version": "3.10.3"
  }
 },
 "nbformat": 4,
 "nbformat_minor": 5
}
