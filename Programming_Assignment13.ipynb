{
 "cells": [
  {
   "cell_type": "markdown",
   "id": "f0b25048",
   "metadata": {},
   "source": [
    "### Question 1:\n",
    "\n",
    "Write a program that calculates and prints the value according to the given formula:\n",
    "\n",
    "Q = Square root of [(2 * C * D)/H]\n",
    "\n",
    "Following are the fixed values of C and H:\n",
    "\n",
    "C is 50. H is 30.\n",
    "\n",
    "D is the variable whose values should be input to your program in a comma-separated\n",
    "\n",
    "sequence.\n",
    "\n",
    "Example\n",
    "\n",
    "Let us assume the following comma separated input sequence is given to the program:\n",
    "\n",
    "100,150,180\n",
    "\n",
    "The output of the program should be:\n",
    "\n",
    "18,22,24"
   ]
  },
  {
   "cell_type": "code",
   "execution_count": 16,
   "id": "7ce43cd3",
   "metadata": {},
   "outputs": [
    {
     "name": "stdout",
     "output_type": "stream",
     "text": [
      "100,150,180\n",
      "18 22 24\n"
     ]
    }
   ],
   "source": [
    "#solution for question 1\n",
    "import math\n",
    "c,h=50,30\n",
    "d=list(map(int,input().split(\",\")))\n",
    "res=list(map(lambda x:int(math.sqrt((2*c*x)/h)),d))\n",
    "print(*res)"
   ]
  },
  {
   "cell_type": "markdown",
   "id": "9aee3876",
   "metadata": {},
   "source": [
    "### Question 2:\n",
    "\n",
    "Write a program which takes 2 digits, X,Y as input and generates a 2-dimensional array. The\n",
    "\n",
    "element value in the i-th row and j-th column of the array should be i*j.\n",
    "\n",
    "Note: i=0,1.., X-1; j=0,1,¡Y-1.\n",
    "\n",
    "Example\n",
    "\n",
    "Suppose the following inputs are given to the program:\n",
    "\n",
    "3,5\n",
    "\n",
    "Then, the output of the program should be:\n",
    "\n",
    "[[0, 0, 0, 0, 0], [0, 1, 2, 3, 4], [0, 2, 4, 6, 8]]"
   ]
  },
  {
   "cell_type": "code",
   "execution_count": 10,
   "id": "3d098479",
   "metadata": {},
   "outputs": [
    {
     "name": "stdout",
     "output_type": "stream",
     "text": [
      "3,5\n",
      "[[0, 0, 0, 0, 0], [0, 1, 2, 3, 4], [0, 2, 4, 6, 8]]\n"
     ]
    }
   ],
   "source": [
    "x,y=[int(i) for i in input().split(\",\")]\n",
    "res=[[i*j for j in range(y)] for i in range(x)]\n",
    "print(res)"
   ]
  },
  {
   "cell_type": "markdown",
   "id": "7d2dc12e",
   "metadata": {},
   "source": [
    "### Question 3:\n",
    "\n",
    "Write a program that accepts a comma separated sequence of words as input and prints the\n",
    "\n",
    "words in a comma-separated sequence after sorting them alphabetically.\n",
    "\n",
    "Suppose the following input is supplied to the program:\n",
    "\n",
    "without,hello,bag,world\n",
    "\n",
    "Then, the output should be:\n",
    "\n",
    "bag,hello,without,world"
   ]
  },
  {
   "cell_type": "code",
   "execution_count": 20,
   "id": "a3ce4c37",
   "metadata": {},
   "outputs": [
    {
     "name": "stdout",
     "output_type": "stream",
     "text": [
      "without,hello,bag,world\n",
      "------------------------------------\n",
      "The sequence before sorting them alphabetically\n",
      "without,hello,bag,world\n",
      "The sequence after sorting them alphabetically\n",
      "bag,hello,without,world\n"
     ]
    }
   ],
   "source": [
    "arr=[ele for ele in input().split(\",\")]\n",
    "print(\"------------------------------------\")\n",
    "print(\"The sequence before sorting them alphabetically\")\n",
    "print(\",\".join(arr))\n",
    "print(\"The sequence after sorting them alphabetically\")\n",
    "print(','.join(sorted(arr)))"
   ]
  },
  {
   "cell_type": "markdown",
   "id": "fb6ff71f",
   "metadata": {},
   "source": [
    "### Question 4:\n",
    "\n",
    "Write a program that accepts a sequence of whitespace separated words as input and prints\n",
    "\n",
    "the words after removing all duplicate words and sorting them alphanumerically.\n",
    "\n",
    "Suppose the following input is supplied to the program:\n",
    "\n",
    "hello world and practice makes perfect and hello world again\n",
    "\n",
    "Then, the output should be:\n",
    "\n",
    "again and hello makes perfect practice world"
   ]
  },
  {
   "cell_type": "code",
   "execution_count": 24,
   "id": "5b4c742c",
   "metadata": {},
   "outputs": [
    {
     "name": "stdout",
     "output_type": "stream",
     "text": [
      "Enter a sentence : hello world and practice makes perfect and hello world again\n",
      "\n",
      "The sentence after deleting duplicate words and sorting them alphanumeically\n",
      "\n",
      "again and hello makes perfect practice world\n"
     ]
    }
   ],
   "source": [
    "s=input(\"Enter a sentence : \")\n",
    "new=set(s.split())\n",
    "print(\"\\nThe sentence after deleting duplicate words and sorting them alphanumeically\\n\")\n",
    "print(' '.join(sorted(new)))"
   ]
  },
  {
   "cell_type": "markdown",
   "id": "e3c5d208",
   "metadata": {},
   "source": [
    "### Question 5:\n",
    "\n",
    "Write a program that accepts a sentence and calculate the number of letters and digits.\n",
    "\n",
    "Suppose the following input is supplied to the program:\n",
    "\n",
    "hello world! 123\n",
    "\n",
    "Then, the output should be:\n",
    "\n",
    "LETTERS 10\n",
    "\n",
    "DIGITS 3"
   ]
  },
  {
   "cell_type": "code",
   "execution_count": 27,
   "id": "c4e8ff8e",
   "metadata": {},
   "outputs": [
    {
     "name": "stdout",
     "output_type": "stream",
     "text": [
      "Enter a sentence : hello world! 123\n",
      "LETTERS  10\n",
      "DIGITS  3\n"
     ]
    }
   ],
   "source": [
    "def countLetters_Digits(s):\n",
    "    l=0\n",
    "    d=0\n",
    "    for i in s:\n",
    "        if i.isalpha():\n",
    "            l+=1\n",
    "        elif i.isdigit():\n",
    "            d+=1\n",
    "    return l,d\n",
    "s=input(\"Enter a sentence : \")\n",
    "l,d=countLetters_Digits(s)\n",
    "print(\"LETTERS \",l)\n",
    "print(\"DIGITS \",d)\n",
    "    "
   ]
  },
  {
   "cell_type": "markdown",
   "id": "aca0486e",
   "metadata": {},
   "source": [
    "### Question 6:\n",
    "A website requires the users to input username and password to register. Write a program to\n",
    "check the validity of password input by users.\n",
    "Following are the criteria for checking the password:\n",
    "1. At least 1 letter between [a-z]\n",
    "2. At least 1 number between [0-9]\n",
    "1. At least 1 letter between [A-Z]\n",
    "3. At least 1 character from [$#@]\n",
    "4. Minimum length of transaction password: 6\n",
    "5. Maximum length of transaction password: 12\n",
    "\n",
    "Your program should accept a sequence of comma separated passwords and will check them\n",
    "according to the above criteria. Passwords that match the criteria are to be printed, each\n",
    "separated by a comma.\n",
    "\n",
    "Example\n",
    "\n",
    "If the following passwords are given as input to the program:\n",
    "\n",
    "ABd1234@1,a F1#,2w3E*,2We3345\n",
    "\n",
    "Then, the output of the program should be:\n",
    "\n",
    "ABd1234@1"
   ]
  },
  {
   "cell_type": "code",
   "execution_count": 7,
   "id": "66d975b3",
   "metadata": {},
   "outputs": [
    {
     "name": "stdout",
     "output_type": "stream",
     "text": [
      "ABd1234@1,a F1#,2w3E*,2We3345\n",
      "ABd1234@1\n"
     ]
    }
   ],
   "source": [
    "import re\n",
    "def validate_password(pwd):\n",
    "    valid=[]\n",
    "    for i in pwd:\n",
    "        if len(i)<6 or len(i)>12:\n",
    "            continue\n",
    "        elif not re.search(\"([a-z])+\",i):\n",
    "            continue\n",
    "        elif not re.search(\"([A-Z])+\",i):\n",
    "            continue\n",
    "        elif not re.search(\"([0-9])+\",i):\n",
    "            continue\n",
    "        elif not re.search(\"([$#@])+\",i):\n",
    "            continue\n",
    "        else:\n",
    "            valid.append(i)\n",
    "    return valid\n",
    "pwds=input().split(\",\")\n",
    "valid=validate_password(pwds)\n",
    "print(\",\".join(valid))"
   ]
  }
 ],
 "metadata": {
  "kernelspec": {
   "display_name": "Python 3 (ipykernel)",
   "language": "python",
   "name": "python3"
  },
  "language_info": {
   "codemirror_mode": {
    "name": "ipython",
    "version": 3
   },
   "file_extension": ".py",
   "mimetype": "text/x-python",
   "name": "python",
   "nbconvert_exporter": "python",
   "pygments_lexer": "ipython3",
   "version": "3.10.3"
  }
 },
 "nbformat": 4,
 "nbformat_minor": 5
}
