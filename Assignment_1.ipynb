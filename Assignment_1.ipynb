{
 "cells": [
  {
   "cell_type": "markdown",
   "id": "266f5510",
   "metadata": {},
   "source": [
    "<b>1. In the below elements which of them are values or an expression? eg:- values can be</b>\n",
    "\n",
    "<b>integer or string and expressions will be mathematical operators.</b>\n",
    "\n",
    "*\n",
    "\n",
    "&#39;hello&#39;\n",
    "\n",
    "-87.8\n",
    "\n",
    "-\n",
    "\n",
    "/\n",
    "\n",
    "+\n",
    "\n",
    "6"
   ]
  },
  {
   "cell_type": "markdown",
   "id": "f81209eb",
   "metadata": {},
   "source": [
    "1. *is a expression(multiplication operator)\n",
    "\n",
    "2. 'hello' is a string data type\n",
    "\n",
    "3. -87.8 is floating point data type\n",
    "\n",
    "4. -is a expression(subtraction operator)\n",
    "\n",
    "5. / is a expression(division operator)\n",
    "\n",
    "6. +is a expression(addition operator)\n",
    "\n",
    "7. 6 is a integer value"
   ]
  },
  {
   "cell_type": "markdown",
   "id": "dfc5a66c",
   "metadata": {},
   "source": [
    "2.<b> What is the difference between string and variable?</b>\n",
    "\n",
    "- <b>string</b>\n",
    "    - String is a group of characters, which are enclosed within the single quotes(' ') or double quotes(\" \") and stored in a variable.\n",
    "    - A String can be represented using triple single quotes(''') or triple double quotes(\"\"\"),which is called multiline string.The advantage of multiline string it contains more than one line including spaces.\n",
    "      - Example\n",
    "        - s=\"assign\"\n",
    "        - here \"assign\" is string data type.\n",
    "- <b>Variable</b>\n",
    "    - variable which is used to store the data in it. Variable points to a memory location where the data is stored.\n",
    "    - <b>Rules for creating variables</b>\n",
    "    - It can be only one word with no spaces.\n",
    "    - It can use only letters, numbers, and the underscore (_) character.\n",
    "    - It cannot begin with a number.\n",
    "        - Example \n",
    "            - var = 10\n",
    "            - here 10 is the data which is stored in variable var.\n",
    "            - By using var we can retrieve thee value 10.\n",
    "            - var which points to data 10 in memory location internally.\n",
    "    - some valid varaible names\n",
    "       a,ab,a_b,a12\n",
    "    - invalid variable names\n",
    "       @a, 12A,123\n",
    "       "
   ]
  },
  {
   "cell_type": "markdown",
   "id": "f45a4e6f",
   "metadata": {},
   "source": [
    "<b>3. Describe three different data types.</b>\n",
    "\n",
    "- Data types represents the type of data that will be stored in a variable.\n",
    "- The data types in python are also called as \" Built-in datatypes\".\n",
    "\n",
    "- The most common datatypes in python are\n",
    "\n",
    "\n",
    "- Integer - A number which doesn't contain any floating point values\n",
    "   - Example\n",
    "      - 2, 3, 5, 6, 7, -10 \n",
    "\n",
    "- Float - A number which contains the fraction part known as float datatype.\n",
    "    - Example\n",
    "      - 2.4,-1.50, 4.0 \n",
    "\n",
    "- String - String is a group of characters, which are enclosed within the single quotes(' ') or double quotes(\" \")\" \n",
    "    - Example\n",
    "    \n",
    "        - 'abc', \"Hello\" , \"Welcome to Python\"\n"
   ]
  },
  {
   "cell_type": "markdown",
   "id": "a6079907",
   "metadata": {},
   "source": [
    "<b>4. What is an expression made up of? What do all expressions do?</b>\n",
    "\n",
    "<b>Expressions</b>\n",
    "\n",
    "- Expressions are made up values, variables and operators which are evaluated and reduce dowm to a single value.\n",
    "- All expressions evaluated by interpreter and finds the value."
   ]
  },
  {
   "cell_type": "code",
   "execution_count": 1,
   "id": "3cabc8fb",
   "metadata": {},
   "outputs": [
    {
     "name": "stdout",
     "output_type": "stream",
     "text": [
      "6\n",
      "20\n"
     ]
    }
   ],
   "source": [
    "#Examples of expressions\n",
    "print(4+2)\n",
    "n=10\n",
    "print(n+10)"
   ]
  },
  {
   "cell_type": "markdown",
   "id": "b823a084",
   "metadata": {},
   "source": [
    "<b>5. This assignment statements, like spam = 10. What is the difference between an\n",
    "expression and a statement?</b>\n",
    "\n",
    "<b>Expression</b>\n",
    "- Expressions are made up values, variables and operators which are evaluated and reduce dowm to a single value.\n",
    "<b>Statement</b>\n",
    "- A statement is a unit of code which has an effect like print a variable, calling a function.\n",
    "\n",
    "1. spam=10\n",
    "\n",
    "2. print(spam)\n",
    "\n",
    "line 1 represents assignment statement, the value 10 is assigned to variable samp.\n",
    "\n",
    "line 2 represents printing statement which prints the value on console.\n"
   ]
  },
  {
   "cell_type": "markdown",
   "id": "39d7023c",
   "metadata": {},
   "source": [
    "<b>6. After running the following code, what does the variable bacon contain?\n",
    "    \n",
    "bacon = 22\n",
    "    \n",
    "bacon + 1 </b>\n",
    "\n",
    "- The variable bacon contains the value 22. Because we just incremented the bacon value in runtime but we are not reassigned to the variable bacon."
   ]
  },
  {
   "cell_type": "code",
   "execution_count": 2,
   "id": "8e74003d",
   "metadata": {},
   "outputs": [
    {
     "data": {
      "text/plain": [
       "23"
      ]
     },
     "execution_count": 2,
     "metadata": {},
     "output_type": "execute_result"
    }
   ],
   "source": [
    "bacon=22\n",
    "bacon+1 # we incremented in runtime"
   ]
  },
  {
   "cell_type": "code",
   "execution_count": 3,
   "id": "90add0ae",
   "metadata": {},
   "outputs": [
    {
     "data": {
      "text/plain": [
       "22"
      ]
     },
     "execution_count": 3,
     "metadata": {},
     "output_type": "execute_result"
    }
   ],
   "source": [
    "bacon #but the original value is not affected."
   ]
  },
  {
   "cell_type": "markdown",
   "id": "f84bcae4",
   "metadata": {},
   "source": [
    "<b>7. What should the values of the following two terms be?\n",
    "    \n",
    "&#39;spam&#39; + &#39;spamspam&#39;\n",
    "    \n",
    "&#39;spam&#39; * 3</b>"
   ]
  },
  {
   "cell_type": "markdown",
   "id": "22779c9a",
   "metadata": {},
   "source": [
    "'spam'+'spamspam' --> results in 'spamspamspam'\n",
    "\n",
    "'spam' * 3     --> results in 'spamspamspam'"
   ]
  },
  {
   "cell_type": "markdown",
   "id": "9c9bae08",
   "metadata": {},
   "source": [
    "<b>8. Why is eggs a valid variable name while 100 is invalid?</b>\n",
    "\n",
    "- eggs is valid varible\n",
    "    - because the varaible started with alphabet.\n",
    "    - and it does not contain any special character in the variable name.\n",
    "- 100 is invalid\n",
    "    - because the variable started with number.\n",
    "    - It cannot begin with number.\n",
    "    - It can use only letters, numbers, and the underscore (_) character."
   ]
  },
  {
   "cell_type": "markdown",
   "id": "2029497f",
   "metadata": {},
   "source": [
    "<b>9. What three functions can be used to get the integer, floating-point number, or string\n",
    "version of a value?</b>\n",
    "\n",
    "- The three functions can be used to get the integer, floating-point number, or string version of a value.\n",
    "    - int() to get integer.\n",
    "    \n",
    "    - float() to get floating point number.\n",
    "    \n",
    "    - str() to get string version of a value."
   ]
  },
  {
   "cell_type": "markdown",
   "id": "6c62aee4",
   "metadata": {},
   "source": [
    "<b>10. Why does this expression cause an error? How can you fix it?</b>\n",
    "<b>&#39;I have eaten &#39; + 99 + &#39; burritos.&#39;</b>"
   ]
  },
  {
   "cell_type": "markdown",
   "id": "65573725",
   "metadata": {},
   "source": [
    "'i have eaten'+99+'burritos'\n",
    "\n",
    "- Because the expression causes error we can concatenate str to str (not of type int)\n",
    "\n",
    "- To fix the error we can enclose the value 99 inside single or double quotes.\n",
    "\n",
    "'i have eaten'+'99'+'burritos'\n"
   ]
  },
  {
   "cell_type": "code",
   "execution_count": 12,
   "id": "5bd99095",
   "metadata": {},
   "outputs": [
    {
     "data": {
      "text/plain": [
       "'i have eaten 99 burritos'"
      ]
     },
     "execution_count": 12,
     "metadata": {},
     "output_type": "execute_result"
    }
   ],
   "source": [
    "'i have eaten '+'99'+' burritos'"
   ]
  },
  {
   "cell_type": "code",
   "execution_count": null,
   "id": "feaff397",
   "metadata": {},
   "outputs": [],
   "source": []
  }
 ],
 "metadata": {
  "kernelspec": {
   "display_name": "Python 3 (ipykernel)",
   "language": "python",
   "name": "python3"
  },
  "language_info": {
   "codemirror_mode": {
    "name": "ipython",
    "version": 3
   },
   "file_extension": ".py",
   "mimetype": "text/x-python",
   "name": "python",
   "nbconvert_exporter": "python",
   "pygments_lexer": "ipython3",
   "version": "3.10.3"
  }
 },
 "nbformat": 4,
 "nbformat_minor": 5
}
