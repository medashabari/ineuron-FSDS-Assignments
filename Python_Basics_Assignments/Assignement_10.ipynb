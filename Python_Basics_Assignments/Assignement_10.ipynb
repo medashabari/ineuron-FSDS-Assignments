{
 "cells": [
  {
   "cell_type": "markdown",
   "id": "b717f2cd",
   "metadata": {},
   "source": [
    "#### 1. How do you distinguish between shutil.copy() and shutil.copytree()?"
   ]
  },
  {
   "cell_type": "markdown",
   "id": "8de687eb",
   "metadata": {},
   "source": [
    "`shutil.copy():` Copies the contents of one file to another file or folder. \n",
    "\n",
    "`shutil.copytree()` : It recursively copies the entire directory files to another directory\n"
   ]
  },
  {
   "cell_type": "markdown",
   "id": "54f6dd94",
   "metadata": {},
   "source": [
    "#### 2. What function is used to rename files??"
   ]
  },
  {
   "cell_type": "markdown",
   "id": "8807f333",
   "metadata": {},
   "source": [
    "`os.rename():` funtion is used to rename the files"
   ]
  },
  {
   "cell_type": "markdown",
   "id": "b645662e",
   "metadata": {},
   "source": [
    "#### 3. What is the difference between the delete functions in the send2trash and shutil modules?"
   ]
  },
  {
   "cell_type": "markdown",
   "id": "dedc906e",
   "metadata": {},
   "source": [
    "<b>Shutil module:</b>\n",
    "    Shutil module provides a function called `shutil.rmtree()` which recursively deletes a directory tree similiar to os.remove()-removes a file and os.rmdir() - removes a directory. But the major drawback is if we accidently remove a file or directory we cannot recover those files or directories.\n",
    "  \n",
    "<b>send2trash Module</b>\n",
    "    This module provides a funtion called send2trash.send2trash() which removes a file or directory. But Instead of deleting it permantly it sends the deleted files or directory to trash directory so we can recover if we accidentaly removes any files or folders\n",
    "   - It needs to be explictily installed using the command `!pip install send2trash`"
   ]
  },
  {
   "cell_type": "markdown",
   "id": "feb8764b",
   "metadata": {},
   "source": [
    "#### 4.ZipFile objects have a close() method just like File objects’ close() method. What ZipFile method is equivalent to File objects’ open() method?"
   ]
  },
  {
   "cell_type": "markdown",
   "id": "f85b9dbf",
   "metadata": {},
   "source": [
    "- `zipfile.Zipfile()` method is equivalent to open() that is used for file objects\n",
    "\n",
    "`zipfile.ZipFile(file,mode='r')`"
   ]
  },
  {
   "cell_type": "markdown",
   "id": "4f3a47fe",
   "metadata": {},
   "source": [
    "#### 5. Create a programme that searches a folder tree for files with a certain file extension (such as .pdf or .jpg). Copy these files from whatever location they are in to a new folder."
   ]
  },
  {
   "cell_type": "code",
   "execution_count": 25,
   "id": "1dcbe179",
   "metadata": {},
   "outputs": [
    {
     "name": "stdout",
     "output_type": "stream",
     "text": [
      "['1-DDL_DML-script+(School+DB).sql', '2-SQL_SELECT_Queries.sql', '4443093125.pdf', 'download.jpg', 'MedaShabarish.jpg', 'practice.sql', 'select_and_case_queries.sql', 'Shabarish.png']\n",
      "Successfull copied 4443093125.pdf\n",
      "Successfull copied download.jpg\n",
      "Successfull copied MedaShabarish.jpg\n",
      "Successfull copied Shabarish.png\n"
     ]
    }
   ],
   "source": [
    "import os\n",
    "import shutil\n",
    "\n",
    "def search_copy(source,destination,file_types:list):\n",
    "    files = os.listdir(source)\n",
    "    print(files)\n",
    "    for file in files:\n",
    "        for file_type in file_types:\n",
    "            if file_type in file:\n",
    "                shutil.copy(source+\"/\"+file,destination)\n",
    "                print(f\"Successfull copied {file}\")\n",
    "    \n",
    "\n",
    "source = r\"E:\\DataScience-Main\\Python Data Science Practise\\ineuron assignments\\source\"\n",
    "destination = r\"E:\\DataScience-Main\\Python Data Science Practise\\ineuron assignments\\dest\"\n",
    "file_types = ['.png','.jpg','.pdf','.jpeg']\n",
    "search_copy(source,destination,file_types)"
   ]
  },
  {
   "cell_type": "code",
   "execution_count": null,
   "id": "6d2bcc2e",
   "metadata": {},
   "outputs": [],
   "source": []
  }
 ],
 "metadata": {
  "kernelspec": {
   "display_name": "Python 3 (ipykernel)",
   "language": "python",
   "name": "python3"
  },
  "language_info": {
   "codemirror_mode": {
    "name": "ipython",
    "version": 3
   },
   "file_extension": ".py",
   "mimetype": "text/x-python",
   "name": "python",
   "nbconvert_exporter": "python",
   "pygments_lexer": "ipython3",
   "version": "3.9.12"
  }
 },
 "nbformat": 4,
 "nbformat_minor": 5
}
