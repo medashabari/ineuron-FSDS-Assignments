{
 "cells": [
  {
   "cell_type": "markdown",
   "id": "cfef56d0",
   "metadata": {},
   "source": [
    "#### 1. To what does a relative path refer?"
   ]
  },
  {
   "cell_type": "markdown",
   "id": "851203e1",
   "metadata": {},
   "source": [
    "- Relative path refers to the path to a file or dir that is relative to the current directory.\n",
    "- path - `Example c:\\dir1\\dir2\\sample.py`\n",
    "- PWD = c:\\dir1\\dir2\n",
    "- relative path to sample.py is =` dir2\\sample.py`\n",
    "- PWD + relative path = absolute path"
   ]
  },
  {
   "cell_type": "markdown",
   "id": "36d1ff7b",
   "metadata": {},
   "source": [
    "#### 2. What does an absolute path start with your operating system?"
   ]
  },
  {
   "cell_type": "markdown",
   "id": "6f4ba9b2",
   "metadata": {},
   "source": [
    "- The the absolute path start to operating system is `C:` in windows\n",
    "- where as in Linux not absolute path to os `/`"
   ]
  },
  {
   "cell_type": "markdown",
   "id": "aae4c56a",
   "metadata": {},
   "source": [
    "#### 3. What do the functions os.getcwd() and os.chdir() do?"
   ]
  },
  {
   "cell_type": "markdown",
   "id": "d6b6a386",
   "metadata": {},
   "source": [
    "`os.getcwd()` - returns the current working directory path\n",
    "`os.chdir(path)` - Changes the current working directory to the specified path.\n"
   ]
  },
  {
   "cell_type": "code",
   "execution_count": 1,
   "id": "08715d33",
   "metadata": {},
   "outputs": [],
   "source": [
    "import os"
   ]
  },
  {
   "cell_type": "code",
   "execution_count": 2,
   "id": "a6f2ff25",
   "metadata": {},
   "outputs": [
    {
     "data": {
      "text/plain": [
       "'E:\\\\DataScience-Main\\\\Python Data Science Practise\\\\ineuron assignments\\\\Python_Basics_Assignments'"
      ]
     },
     "execution_count": 2,
     "metadata": {},
     "output_type": "execute_result"
    }
   ],
   "source": [
    "os.getcwd()"
   ]
  },
  {
   "cell_type": "code",
   "execution_count": 3,
   "id": "b9e0fa50",
   "metadata": {},
   "outputs": [],
   "source": [
    "path = 'E:\\\\DataScience-Main\\\\Python Data Science Practise\\\\'\n",
    "os.chdir(path)"
   ]
  },
  {
   "cell_type": "code",
   "execution_count": 4,
   "id": "6a49673c",
   "metadata": {},
   "outputs": [
    {
     "data": {
      "text/plain": [
       "'E:\\\\DataScience-Main\\\\Python Data Science Practise'"
      ]
     },
     "execution_count": 4,
     "metadata": {},
     "output_type": "execute_result"
    }
   ],
   "source": [
    "os.getcwd()"
   ]
  },
  {
   "cell_type": "markdown",
   "id": "a0bdb60d",
   "metadata": {},
   "source": [
    "#### 4. What are the . and .. folders?"
   ]
  },
  {
   "cell_type": "markdown",
   "id": "cd44680f",
   "metadata": {},
   "source": [
    "`.` - . represents the current directory \\\n",
    "`..` - .. represents the parent directory of current directory means previous directory of current directory"
   ]
  },
  {
   "cell_type": "markdown",
   "id": "a80fb473",
   "metadata": {},
   "source": [
    "#### 5. In C:\\bacon\\eggs\\spam.txt, which part is the dir name, and which part is the base name?"
   ]
  },
  {
   "cell_type": "markdown",
   "id": "f8362c6a",
   "metadata": {},
   "source": [
    "- For C:\\bacon\\eggs\\spam.txt\n",
    "- The Directory name is C:\\\\bacon\\\\eggs\n",
    "- The Base name is spam.txt"
   ]
  },
  {
   "cell_type": "markdown",
   "id": "3bd81ff9",
   "metadata": {},
   "source": [
    "#### 6. What are the three “mode” arguments that can be passed to the open() function?"
   ]
  },
  {
   "cell_type": "markdown",
   "id": "84d9cd04",
   "metadata": {},
   "source": [
    "-  When open() is used to open a file in a text mode ('w','r', 'wt', 'rt', etc.)\n",
    "Character Meaning\n",
    "--------- ---------------------------------------------------------------\n",
    "'r'     -   open for reading (default) \\\n",
    "'w'     -   open for writing, truncating the file first \\\n",
    "'x'     -   create a new file and open it for writing \\\n",
    "'a'     -   open for writing, appending to the end of the file if it exists \\\n",
    "'b'     -   binary mode \\\n",
    "'t'     -   text mode (default) \\\n",
    "'+'     -   open a disk file for updating (reading and writing) \\\n",
    "'U'     -   universal newline mode (deprecated) \\"
   ]
  },
  {
   "cell_type": "markdown",
   "id": "e2ef2af2",
   "metadata": {},
   "source": [
    "#### 7. What happens if an existing file is opened in write mode?"
   ]
  },
  {
   "cell_type": "markdown",
   "id": "e638441a",
   "metadata": {},
   "source": [
    "-  Using this mode, we can overwrite any existing content in a file. If the given file does not exist then a new one will be created."
   ]
  },
  {
   "cell_type": "markdown",
   "id": "4dc732c5",
   "metadata": {},
   "source": [
    "#### 8. How do you tell the difference between read() and readlines()?"
   ]
  },
  {
   "cell_type": "markdown",
   "id": "dd0ade58",
   "metadata": {},
   "source": [
    " `read()` - read() Function reads the entire file as a single string. \\\n",
    " `readlines()` - readlines() Return see a list containing all the lines in the file."
   ]
  },
  {
   "cell_type": "code",
   "execution_count": 11,
   "id": "43958046",
   "metadata": {},
   "outputs": [
    {
     "name": "stdout",
     "output_type": "stream",
     "text": [
      "q5 : Try to generate all the even number between 1- 1000\n",
      "\n",
      "q6 : Define a function for all the above problem statememnt  . \n",
      "    \n",
      "q7 : write a code to get a time of your system \n",
      "\n",
      "q8 : Write a code to fetch date form your system \n",
      "\n",
      "q9 : Write a code to send a mail to your friend \n",
      "\n",
      "q10 : write a code to trigger alarm for you at scheduled time \n",
      "\n",
      "q11 : write a code to check ip address of your system \n"
     ]
    }
   ],
   "source": [
    "path = r\"E:\\DataScience-Main\\Python Data Science Practise\\ineuron assignments\\live class assesments\\file.txt\"\n",
    "with open(path) as f:\n",
    "    print(f.read())"
   ]
  },
  {
   "cell_type": "code",
   "execution_count": 17,
   "id": "463eb04d",
   "metadata": {},
   "outputs": [
    {
     "name": "stdout",
     "output_type": "stream",
     "text": [
      "['Your First Challenge : \\n', '    \\n', '\\n', '\\n', 'q1 : Try to print this by using while loop \\n', '* \\n', '* * \\n', '* * * \\n', '* * * * \\n', '* * * * * \\n', '* * * * * * \\n', '* * * * * * * \\n', '* * * * * * * * \\n', '* * * * * * * * * \\n', '\\n', 'q2 : try to print below by using while loop : \\n', '        \\n', 'A\\n', 'B H \\n', 'C I N\\n', 'D J o S\\n', 'E K p T W\\n', 'F L Q U X z\\n', 'G M R V Y \\n', '\\n', 'q3 : Try to print all the number divisible by 3 in between a range of 40 - 400\\n', '    \\n', 'q4 : Try to filter out all the vowels form below text by using while loop : \\n', ' \"\"\"Python is a high-level, interpreted, general-purpose programming language. Its design philosophy emphasizes code readability with the use of significant indentation.[32]\\n', '\\n', 'Python is dynamically-typed and garbage-collected. It supports multiple programming paradigms, including structured (particularly procedural), object-oriented and functional programming. It is often described as a \"batteries included\" language due to its comprehensive standard library.[33][34]\\n', '\\n', 'Guido van Rossum began working on Python in the late 1980s as a successor to the ABC programming language and first released it in 1991 as Python 0.9.0.[35] Python 2.0 was released in 2000 and introduced new features such as list comprehensions, cycle-detecting garbage collection, reference counting, and Unicode support. Python 3.0, released in 2008, was a major revision that is not completely backward-compatible with earlier versions. Python 2 was discontinued with version 2.7.18 in 2020.[36]\\n', '\\n', 'Python consistently ranks as one of the most popular programming languagesc\"\"\" \\n', '\\n', '\\n', 'q5 : Try to generate all the even number between 1- 1000\\n', '\\n', 'q6 : Define a function for all the above problem statememnt  . \\n', '    \\n', 'q7 : write a code to get a time of your system \\n', '\\n', 'q8 : Write a code to fetch date form your system \\n', '\\n', 'q9 : Write a code to send a mail to your friend \\n', '\\n', 'q10 : write a code to trigger alarm for you at scheduled time \\n', '\\n', 'q11 : write a code to check ip address of your system \\n', '\\n', 'q12 : Write a code to check a perticular installation in your system\\n', '\\n', 'q13 : Write a code to convert any text in to voice \\n', '\\n', 'q14 : you have to write a fun which will take string and return a len of \\n', 'it without using a inbuilt fun len\\n', '\\n', 'q15 :write a fun which will be able to print an index of all premitive element which you will pass \\n', '\\n', 'q16 : Write a fun which will take input as a dict and give me out as a list of all the values \\n', 'even in case of 2 level nesting it should work . \\n', '\\n', 'q17 : write a function whihc will take multiple list as a input and give me concatnation of all the element as \\n', 'and output\\n', '\\n', 'q18 : Write a function which will whould return list of all the file name from a directory . \\n', '\\n', 'q19 : write a function whihc will be able to read a image file and show it to you .\\n', '    \\n', 'q20 : write a function by which you will be able to append two PDF files . \\n', '    \\n', 'q21 : write a function which can help you to filter only word file from a directory . \\n', '    \\n', 'q22 : write a function which can read video file and play for you . \\n', '    \\n', 'q23 : write a function which will be able to shutdonw your system . \\n', '\\n', 'q24 : Write a function which will whould return list of all the file name from a directory . \\n', '\\n', 'q25 : write a function whihc will be able to access your mail . \\n', '        ']\n"
     ]
    }
   ],
   "source": [
    "path = \"E:\\DataScience-Main\\Python Data Science Practise\\ineuron assignments\\live class assesments\\challenge1.txt\"\n",
    "with open(path) as f:\n",
    "    print(f.readlines())"
   ]
  },
  {
   "cell_type": "markdown",
   "id": "c29c3ebc",
   "metadata": {},
   "source": [
    "#### 9. What data structure does a shelf value resemble?"
   ]
  },
  {
   "cell_type": "markdown",
   "id": "8816e3ba",
   "metadata": {},
   "source": [
    "- shelf resembles the key-value pair(dictionary data structure)."
   ]
  },
  {
   "cell_type": "code",
   "execution_count": 25,
   "id": "993b9051",
   "metadata": {},
   "outputs": [],
   "source": [
    "import shelve"
   ]
  },
  {
   "cell_type": "code",
   "execution_count": 26,
   "id": "3a029217",
   "metadata": {},
   "outputs": [
    {
     "name": "stdout",
     "output_type": "stream",
     "text": [
      "Successfully created the shelve file\n",
      "Successflly stored the data\n"
     ]
    }
   ],
   "source": [
    "shelvevar = shelve.open('shelvefile')\n",
    "print(\"Successfully created the shelve file\")\n",
    "shelvevar['name'] = \"Bunny\"\n",
    "shelvevar['age'] = \"23\"\n",
    "shelvevar['yob'] = \"2001\"\n",
    "print('Successflly stored the data')"
   ]
  },
  {
   "cell_type": "code",
   "execution_count": 29,
   "id": "abe26d00",
   "metadata": {},
   "outputs": [
    {
     "data": {
      "text/plain": [
       "['name', 'age', 'yob']"
      ]
     },
     "execution_count": 29,
     "metadata": {},
     "output_type": "execute_result"
    }
   ],
   "source": [
    "list(shelvevar.keys())"
   ]
  },
  {
   "cell_type": "code",
   "execution_count": 31,
   "id": "29972380",
   "metadata": {},
   "outputs": [
    {
     "data": {
      "text/plain": [
       "['Bunny', '23', '2001']"
      ]
     },
     "execution_count": 31,
     "metadata": {},
     "output_type": "execute_result"
    }
   ],
   "source": [
    "list(shelvevar.values())"
   ]
  },
  {
   "cell_type": "code",
   "execution_count": 30,
   "id": "90ed34e3",
   "metadata": {},
   "outputs": [
    {
     "data": {
      "text/plain": [
       "[('name', 'Bunny'), ('age', '23'), ('yob', '2001')]"
      ]
     },
     "execution_count": 30,
     "metadata": {},
     "output_type": "execute_result"
    }
   ],
   "source": [
    "list(shelvevar.items())"
   ]
  },
  {
   "cell_type": "code",
   "execution_count": null,
   "id": "b5bc3470",
   "metadata": {},
   "outputs": [],
   "source": []
  }
 ],
 "metadata": {
  "kernelspec": {
   "display_name": "Python 3 (ipykernel)",
   "language": "python",
   "name": "python3"
  },
  "language_info": {
   "codemirror_mode": {
    "name": "ipython",
    "version": 3
   },
   "file_extension": ".py",
   "mimetype": "text/x-python",
   "name": "python",
   "nbconvert_exporter": "python",
   "pygments_lexer": "ipython3",
   "version": "3.9.12"
  }
 },
 "nbformat": 4,
 "nbformat_minor": 5
}
