{
 "cells": [
  {
   "cell_type": "code",
   "execution_count": 10,
   "id": "6bcd35d3",
   "metadata": {},
   "outputs": [],
   "source": [
    "import pandas as pd\n",
    "import numpy as np\n",
    "import warnings\n",
    "warnings.filterwarnings(\"ignore\")\n",
    "pd.set_option('display.max_columns', None)"
   ]
  },
  {
   "cell_type": "markdown",
   "id": "0604f907",
   "metadata": {},
   "source": [
    "## Regression"
   ]
  },
  {
   "cell_type": "code",
   "execution_count": 11,
   "id": "f39c2178",
   "metadata": {},
   "outputs": [],
   "source": [
    "dataset=pd.read_csv('Datasets/outlier_handled_target')\n",
    "dataset.drop(['Unnamed: 0','Date'],axis=1,inplace=True)"
   ]
  },
  {
   "cell_type": "code",
   "execution_count": 12,
   "id": "2b8133f3",
   "metadata": {},
   "outputs": [
    {
     "data": {
      "text/html": [
       "<div>\n",
       "<style scoped>\n",
       "    .dataframe tbody tr th:only-of-type {\n",
       "        vertical-align: middle;\n",
       "    }\n",
       "\n",
       "    .dataframe tbody tr th {\n",
       "        vertical-align: top;\n",
       "    }\n",
       "\n",
       "    .dataframe thead th {\n",
       "        text-align: right;\n",
       "    }\n",
       "</style>\n",
       "<table border=\"1\" class=\"dataframe\">\n",
       "  <thead>\n",
       "    <tr style=\"text-align: right;\">\n",
       "      <th></th>\n",
       "      <th>Global_active_power</th>\n",
       "      <th>Global_reactive_power</th>\n",
       "      <th>Voltage</th>\n",
       "      <th>Global_intensity</th>\n",
       "      <th>Total_power_consumed</th>\n",
       "    </tr>\n",
       "  </thead>\n",
       "  <tbody>\n",
       "    <tr>\n",
       "      <th>0</th>\n",
       "      <td>1209.176</td>\n",
       "      <td>50.212</td>\n",
       "      <td>341733.055</td>\n",
       "      <td>5180.8</td>\n",
       "      <td>14680.933333</td>\n",
       "    </tr>\n",
       "    <tr>\n",
       "      <th>1</th>\n",
       "      <td>2985.470</td>\n",
       "      <td>226.006</td>\n",
       "      <td>345725.320</td>\n",
       "      <td>12375.6</td>\n",
       "      <td>27354.983333</td>\n",
       "    </tr>\n",
       "    <tr>\n",
       "      <th>2</th>\n",
       "      <td>2203.826</td>\n",
       "      <td>161.792</td>\n",
       "      <td>347373.640</td>\n",
       "      <td>9247.2</td>\n",
       "      <td>19028.433333</td>\n",
       "    </tr>\n",
       "    <tr>\n",
       "      <th>3</th>\n",
       "      <td>1666.194</td>\n",
       "      <td>150.942</td>\n",
       "      <td>348479.010</td>\n",
       "      <td>7094.0</td>\n",
       "      <td>13131.900000</td>\n",
       "    </tr>\n",
       "    <tr>\n",
       "      <th>4</th>\n",
       "      <td>2225.748</td>\n",
       "      <td>160.998</td>\n",
       "      <td>348923.610</td>\n",
       "      <td>9313.0</td>\n",
       "      <td>20384.800000</td>\n",
       "    </tr>\n",
       "  </tbody>\n",
       "</table>\n",
       "</div>"
      ],
      "text/plain": [
       "   Global_active_power  Global_reactive_power     Voltage  Global_intensity  \\\n",
       "0             1209.176                 50.212  341733.055            5180.8   \n",
       "1             2985.470                226.006  345725.320           12375.6   \n",
       "2             2203.826                161.792  347373.640            9247.2   \n",
       "3             1666.194                150.942  348479.010            7094.0   \n",
       "4             2225.748                160.998  348923.610            9313.0   \n",
       "\n",
       "   Total_power_consumed  \n",
       "0          14680.933333  \n",
       "1          27354.983333  \n",
       "2          19028.433333  \n",
       "3          13131.900000  \n",
       "4          20384.800000  "
      ]
     },
     "execution_count": 12,
     "metadata": {},
     "output_type": "execute_result"
    }
   ],
   "source": [
    "dataset.head()"
   ]
  },
  {
   "cell_type": "code",
   "execution_count": 13,
   "id": "ad7db0fe",
   "metadata": {},
   "outputs": [],
   "source": [
    "## Dependent and independent features\n",
    "\n",
    "X=dataset.iloc[:,:4]\n",
    "y=dataset.loc[:,'Total_power_consumed']"
   ]
  },
  {
   "cell_type": "code",
   "execution_count": 14,
   "id": "3efa9c09",
   "metadata": {},
   "outputs": [
    {
     "data": {
      "text/html": [
       "<div>\n",
       "<style scoped>\n",
       "    .dataframe tbody tr th:only-of-type {\n",
       "        vertical-align: middle;\n",
       "    }\n",
       "\n",
       "    .dataframe tbody tr th {\n",
       "        vertical-align: top;\n",
       "    }\n",
       "\n",
       "    .dataframe thead th {\n",
       "        text-align: right;\n",
       "    }\n",
       "</style>\n",
       "<table border=\"1\" class=\"dataframe\">\n",
       "  <thead>\n",
       "    <tr style=\"text-align: right;\">\n",
       "      <th></th>\n",
       "      <th>Global_active_power</th>\n",
       "      <th>Global_reactive_power</th>\n",
       "      <th>Voltage</th>\n",
       "      <th>Global_intensity</th>\n",
       "    </tr>\n",
       "  </thead>\n",
       "  <tbody>\n",
       "    <tr>\n",
       "      <th>0</th>\n",
       "      <td>1209.176</td>\n",
       "      <td>50.212</td>\n",
       "      <td>341733.055</td>\n",
       "      <td>5180.8</td>\n",
       "    </tr>\n",
       "    <tr>\n",
       "      <th>1</th>\n",
       "      <td>2985.470</td>\n",
       "      <td>226.006</td>\n",
       "      <td>345725.320</td>\n",
       "      <td>12375.6</td>\n",
       "    </tr>\n",
       "    <tr>\n",
       "      <th>2</th>\n",
       "      <td>2203.826</td>\n",
       "      <td>161.792</td>\n",
       "      <td>347373.640</td>\n",
       "      <td>9247.2</td>\n",
       "    </tr>\n",
       "    <tr>\n",
       "      <th>3</th>\n",
       "      <td>1666.194</td>\n",
       "      <td>150.942</td>\n",
       "      <td>348479.010</td>\n",
       "      <td>7094.0</td>\n",
       "    </tr>\n",
       "    <tr>\n",
       "      <th>4</th>\n",
       "      <td>2225.748</td>\n",
       "      <td>160.998</td>\n",
       "      <td>348923.610</td>\n",
       "      <td>9313.0</td>\n",
       "    </tr>\n",
       "  </tbody>\n",
       "</table>\n",
       "</div>"
      ],
      "text/plain": [
       "   Global_active_power  Global_reactive_power     Voltage  Global_intensity\n",
       "0             1209.176                 50.212  341733.055            5180.8\n",
       "1             2985.470                226.006  345725.320           12375.6\n",
       "2             2203.826                161.792  347373.640            9247.2\n",
       "3             1666.194                150.942  348479.010            7094.0\n",
       "4             2225.748                160.998  348923.610            9313.0"
      ]
     },
     "execution_count": 14,
     "metadata": {},
     "output_type": "execute_result"
    }
   ],
   "source": [
    "X.head()"
   ]
  },
  {
   "cell_type": "code",
   "execution_count": 15,
   "id": "af5d55c7",
   "metadata": {},
   "outputs": [
    {
     "data": {
      "text/plain": [
       "0    14680.933333\n",
       "1    27354.983333\n",
       "2    19028.433333\n",
       "3    13131.900000\n",
       "4    20384.800000\n",
       "Name: Total_power_consumed, dtype: float64"
      ]
     },
     "execution_count": 15,
     "metadata": {},
     "output_type": "execute_result"
    }
   ],
   "source": [
    "y.head()"
   ]
  },
  {
   "cell_type": "code",
   "execution_count": 16,
   "id": "3e4c1ef6",
   "metadata": {},
   "outputs": [],
   "source": [
    "## Splitting train and test data\n",
    "\n",
    "from sklearn.model_selection import train_test_split\n",
    "\n",
    "X_train,X_test,y_train,y_test=train_test_split(X,y,test_size=0.25,random_state=42)"
   ]
  },
  {
   "cell_type": "code",
   "execution_count": 17,
   "id": "696d1e3a",
   "metadata": {},
   "outputs": [],
   "source": [
    "## Applying standard Scaler\n",
    "from sklearn.preprocessing import StandardScaler\n",
    "scaler = StandardScaler()\n",
    "X_train_scaled=scaler.fit_transform(X_train)\n",
    "X_test_scaled=scaler.transform(X_test)\n"
   ]
  },
  {
   "cell_type": "markdown",
   "id": "6259ade9",
   "metadata": {},
   "source": [
    "### RandomForestRegressor"
   ]
  },
  {
   "cell_type": "code",
   "execution_count": 18,
   "id": "7675d1f1",
   "metadata": {},
   "outputs": [
    {
     "name": "stdout",
     "output_type": "stream",
     "text": [
      "Training r2 score 0.9742143779154343\n",
      "Training Adjusted r2 score 0.9741178928936024\n",
      "Testing r2 score 0.8204401203700327\n",
      "Testing Adjusted r2 score 0.8184111951764736\n",
      "Mean squared error 5250267.134886854\n",
      "Mean absolute error 1710.2045171773436\n",
      "Root Mean squared error 2291.3461403478204\n"
     ]
    }
   ],
   "source": [
    "from sklearn.ensemble import RandomForestRegressor\n",
    "from sklearn.metrics import r2_score,mean_squared_error,mean_absolute_error\n",
    "rfr=RandomForestRegressor()\n",
    "\n",
    "rfr.fit(X_train,y_train)\n",
    "x_predicted=rfr.predict(X_train)\n",
    "score=r2_score(y_train,x_predicted)\n",
    "print(f\"Training r2 score {score}\")\n",
    "print(f\"Training Adjusted r2 score {1 - (1-score)*(len(y_train)-1)/(len(y_train)-X_train.shape[1]-1)}\")\n",
    "y_pred = rfr.predict(X_test)\n",
    "score=r2_score(y_test,y_pred)\n",
    "print(f\"Testing r2 score {score}\")\n",
    "print(f\"Testing Adjusted r2 score {1 - (1-score)*(len(y_test)-1)/(len(y_test)-X_test.shape[1]-1)}\")\n",
    "\n",
    "## MAE MSE AND RMSE\n",
    "\n",
    "print(f\"Mean squared error {mean_squared_error(y_test,y_pred)}\")\n",
    "print(f\"Mean absolute error {mean_absolute_error(y_test,y_pred)}\")\n",
    "print(f\"Root Mean squared error {np.sqrt(mean_squared_error(y_test,y_pred))}\")"
   ]
  },
  {
   "cell_type": "markdown",
   "id": "5d419d8d",
   "metadata": {},
   "source": [
    "#### Bagging Regressor"
   ]
  },
  {
   "cell_type": "code",
   "execution_count": 19,
   "id": "da13493a",
   "metadata": {},
   "outputs": [
    {
     "name": "stdout",
     "output_type": "stream",
     "text": [
      "Training r2 score 0.9635738512398112\n",
      "Training Adjusted r2 score 0.9634375513379957\n",
      "Testing r2 score 0.8084728160876928\n",
      "Testing Adjusted r2 score 0.8063086671169323\n",
      "Mean squared error 5600186.86359374\n",
      "Mean absolute error 1767.3294661095636\n",
      "Root Mean squared error 2366.471395050813\n"
     ]
    }
   ],
   "source": [
    "from sklearn.ensemble import BaggingRegressor\n",
    "from sklearn.metrics import r2_score,mean_squared_error,mean_absolute_error\n",
    "bgr = BaggingRegressor() # base_estimator is decision tree regressor\n",
    "bgr.fit(X_train,y_train)\n",
    "x_predicted=bgr.predict(X_train)\n",
    "score=r2_score(y_train,x_predicted)\n",
    "print(f\"Training r2 score {score}\")\n",
    "print(f\"Training Adjusted r2 score {1 - (1-score)*(len(y_train)-1)/(len(y_train)-X_train.shape[1]-1)}\")\n",
    "y_pred = bgr.predict(X_test)\n",
    "score=r2_score(y_test,y_pred)\n",
    "print(f\"Testing r2 score {score}\")\n",
    "print(f\"Testing Adjusted r2 score {1 - (1-score)*(len(y_test)-1)/(len(y_test)-X_test.shape[1]-1)}\")\n",
    "\n",
    "## MAE MSE AND RMSE\n",
    "\n",
    "print(f\"Mean squared error {mean_squared_error(y_test,y_pred)}\")\n",
    "print(f\"Mean absolute error {mean_absolute_error(y_test,y_pred)}\")\n",
    "print(f\"Root Mean squared error {np.sqrt(mean_squared_error(y_test,y_pred))}\")"
   ]
  },
  {
   "cell_type": "markdown",
   "id": "028b6981",
   "metadata": {},
   "source": [
    "### ExtraTreeRegressor"
   ]
  },
  {
   "cell_type": "code",
   "execution_count": 20,
   "id": "f5d80d05",
   "metadata": {},
   "outputs": [
    {
     "name": "stdout",
     "output_type": "stream",
     "text": [
      "Training r2 score 0.9999993014176962\n",
      "Training Adjusted r2 score 0.9999992988037306\n",
      "Testing r2 score 0.8178388220387196\n",
      "Testing Adjusted r2 score 0.8157805036436769\n",
      "Mean squared error 5326328.174608386\n",
      "Mean absolute error 1752.368388115134\n",
      "Root Mean squared error 2307.883917056572\n"
     ]
    }
   ],
   "source": [
    "from sklearn.ensemble import ExtraTreesRegressor\n",
    "extr=ExtraTreesRegressor()\n",
    "\n",
    "extr.fit(X_train,y_train)\n",
    "x_predicted=extr.predict(X_train)\n",
    "score=r2_score(y_train,x_predicted)\n",
    "print(f\"Training r2 score {score}\")\n",
    "print(f\"Training Adjusted r2 score {1 - (1-score)*(len(y_train)-1)/(len(y_train)-X_train.shape[1]-1)}\")\n",
    "y_pred = extr.predict(X_test)\n",
    "score=r2_score(y_test,y_pred)\n",
    "print(f\"Testing r2 score {score}\")\n",
    "print(f\"Testing Adjusted r2 score {1 - (1-score)*(len(y_test)-1)/(len(y_test)-X_test.shape[1]-1)}\")\n",
    "\n",
    "## MAE MSE AND RMSE\n",
    "\n",
    "print(f\"Mean squared error {mean_squared_error(y_test,y_pred)}\")\n",
    "print(f\"Mean absolute error {mean_absolute_error(y_test,y_pred)}\")\n",
    "print(f\"Root Mean squared error {np.sqrt(mean_squared_error(y_test,y_pred))}\")"
   ]
  },
  {
   "cell_type": "markdown",
   "id": "3a521621",
   "metadata": {},
   "source": [
    "### VotingRegressor\n"
   ]
  },
  {
   "cell_type": "code",
   "execution_count": 21,
   "id": "db62c703",
   "metadata": {},
   "outputs": [
    {
     "name": "stdout",
     "output_type": "stream",
     "text": [
      "Training r2 score 0.9785199522796529\n",
      "Training Adjusted r2 score 0.9784395779196142\n",
      "Testing r2 score 0.8261929805612122\n",
      "Testing Adjusted r2 score 0.82422905943761\n",
      "Mean squared error 5082055.545217754\n",
      "Mean absolute error 1682.3391269873175\n",
      "Root Mean squared error 2254.3414881551894\n"
     ]
    }
   ],
   "source": [
    "from sklearn.ensemble import VotingRegressor,RandomForestRegressor,BaggingRegressor,ExtraTreesRegressor\n",
    "from sklearn.linear_model import LinearRegression\n",
    "from sklearn.tree import DecisionTreeRegressor\n",
    "\n",
    "lr=LinearRegression()\n",
    "rf=RandomForestRegressor()\n",
    "bgr1=BaggingRegressor()\n",
    "extr=ExtraTreesRegressor()\n",
    "dtr=DecisionTreeRegressor()\n",
    "vr=VotingRegressor([('lr',lr),('rf',rf),('bgr',bgr1),('extr',extr),('dtr',dtr)])\n",
    "\n",
    "vr.fit(X_train,y_train)\n",
    "x_predicted=vr.predict(X_train)\n",
    "score=r2_score(y_train,x_predicted)\n",
    "print(f\"Training r2 score {score}\")\n",
    "print(f\"Training Adjusted r2 score {1 - (1-score)*(len(y_train)-1)/(len(y_train)-X_train.shape[1]-1)}\")\n",
    "y_pred = vr.predict(X_test)\n",
    "score=r2_score(y_test,y_pred)\n",
    "print(f\"Testing r2 score {score}\")\n",
    "print(f\"Testing Adjusted r2 score {1 - (1-score)*(len(y_test)-1)/(len(y_test)-X_test.shape[1]-1)}\")\n",
    "\n",
    "## MAE MSE AND RMSE\n",
    "\n",
    "print(f\"Mean squared error {mean_squared_error(y_test,y_pred)}\")\n",
    "print(f\"Mean absolute error {mean_absolute_error(y_test,y_pred)}\")\n",
    "print(f\"Root Mean squared error {np.sqrt(mean_squared_error(y_test,y_pred))}\")"
   ]
  },
  {
   "cell_type": "markdown",
   "id": "d093d4d1",
   "metadata": {},
   "source": [
    "## Classification"
   ]
  },
  {
   "cell_type": "code",
   "execution_count": 22,
   "id": "19b59628",
   "metadata": {},
   "outputs": [
    {
     "data": {
      "text/html": [
       "<div>\n",
       "<style scoped>\n",
       "    .dataframe tbody tr th:only-of-type {\n",
       "        vertical-align: middle;\n",
       "    }\n",
       "\n",
       "    .dataframe tbody tr th {\n",
       "        vertical-align: top;\n",
       "    }\n",
       "\n",
       "    .dataframe thead th {\n",
       "        text-align: right;\n",
       "    }\n",
       "</style>\n",
       "<table border=\"1\" class=\"dataframe\">\n",
       "  <thead>\n",
       "    <tr style=\"text-align: right;\">\n",
       "      <th></th>\n",
       "      <th>age</th>\n",
       "      <th>workclass</th>\n",
       "      <th>fnlwgt</th>\n",
       "      <th>education_num</th>\n",
       "      <th>marital_status</th>\n",
       "      <th>occupation</th>\n",
       "      <th>relationship</th>\n",
       "      <th>race</th>\n",
       "      <th>sex</th>\n",
       "      <th>hours_per_week</th>\n",
       "      <th>income</th>\n",
       "      <th>capital_income</th>\n",
       "      <th>native_countryUnited-States</th>\n",
       "      <th>native_countryMexico</th>\n",
       "      <th>native_countryPhilippines</th>\n",
       "      <th>native_countryGermany</th>\n",
       "      <th>native_countryPuerto-Rico</th>\n",
       "      <th>native_countryCanada</th>\n",
       "      <th>native_countryEl-Salvador</th>\n",
       "      <th>native_countryIndia</th>\n",
       "      <th>native_countryCuba</th>\n",
       "      <th>native_countryEngland</th>\n",
       "    </tr>\n",
       "  </thead>\n",
       "  <tbody>\n",
       "    <tr>\n",
       "      <th>0</th>\n",
       "      <td>0.169493</td>\n",
       "      <td>2</td>\n",
       "      <td>-1.205842</td>\n",
       "      <td>13.0</td>\n",
       "      <td>0</td>\n",
       "      <td>1</td>\n",
       "      <td>0</td>\n",
       "      <td>0</td>\n",
       "      <td>0</td>\n",
       "      <td>-0.085137</td>\n",
       "      <td>0</td>\n",
       "      <td>0.401903</td>\n",
       "      <td>1</td>\n",
       "      <td>0</td>\n",
       "      <td>0</td>\n",
       "      <td>0</td>\n",
       "      <td>0</td>\n",
       "      <td>0</td>\n",
       "      <td>0</td>\n",
       "      <td>0</td>\n",
       "      <td>0</td>\n",
       "      <td>0</td>\n",
       "    </tr>\n",
       "    <tr>\n",
       "      <th>1</th>\n",
       "      <td>0.887249</td>\n",
       "      <td>6</td>\n",
       "      <td>-1.119670</td>\n",
       "      <td>13.0</td>\n",
       "      <td>1</td>\n",
       "      <td>2</td>\n",
       "      <td>1</td>\n",
       "      <td>0</td>\n",
       "      <td>0</td>\n",
       "      <td>-1.587107</td>\n",
       "      <td>0</td>\n",
       "      <td>0.046414</td>\n",
       "      <td>1</td>\n",
       "      <td>0</td>\n",
       "      <td>0</td>\n",
       "      <td>0</td>\n",
       "      <td>0</td>\n",
       "      <td>0</td>\n",
       "      <td>0</td>\n",
       "      <td>0</td>\n",
       "      <td>0</td>\n",
       "      <td>0</td>\n",
       "    </tr>\n",
       "    <tr>\n",
       "      <th>2</th>\n",
       "      <td>0.096429</td>\n",
       "      <td>7</td>\n",
       "      <td>0.405653</td>\n",
       "      <td>9.0</td>\n",
       "      <td>2</td>\n",
       "      <td>3</td>\n",
       "      <td>0</td>\n",
       "      <td>0</td>\n",
       "      <td>0</td>\n",
       "      <td>-0.085137</td>\n",
       "      <td>0</td>\n",
       "      <td>0.046414</td>\n",
       "      <td>1</td>\n",
       "      <td>0</td>\n",
       "      <td>0</td>\n",
       "      <td>0</td>\n",
       "      <td>0</td>\n",
       "      <td>0</td>\n",
       "      <td>0</td>\n",
       "      <td>0</td>\n",
       "      <td>0</td>\n",
       "      <td>0</td>\n",
       "    </tr>\n",
       "    <tr>\n",
       "      <th>3</th>\n",
       "      <td>1.060580</td>\n",
       "      <td>7</td>\n",
       "      <td>0.584575</td>\n",
       "      <td>7.0</td>\n",
       "      <td>1</td>\n",
       "      <td>3</td>\n",
       "      <td>1</td>\n",
       "      <td>1</td>\n",
       "      <td>0</td>\n",
       "      <td>-0.085137</td>\n",
       "      <td>0</td>\n",
       "      <td>0.046414</td>\n",
       "      <td>1</td>\n",
       "      <td>0</td>\n",
       "      <td>0</td>\n",
       "      <td>0</td>\n",
       "      <td>0</td>\n",
       "      <td>0</td>\n",
       "      <td>0</td>\n",
       "      <td>0</td>\n",
       "      <td>0</td>\n",
       "      <td>0</td>\n",
       "    </tr>\n",
       "    <tr>\n",
       "      <th>4</th>\n",
       "      <td>-0.735021</td>\n",
       "      <td>7</td>\n",
       "      <td>1.460655</td>\n",
       "      <td>13.0</td>\n",
       "      <td>1</td>\n",
       "      <td>4</td>\n",
       "      <td>2</td>\n",
       "      <td>1</td>\n",
       "      <td>1</td>\n",
       "      <td>-0.085137</td>\n",
       "      <td>0</td>\n",
       "      <td>0.046414</td>\n",
       "      <td>0</td>\n",
       "      <td>0</td>\n",
       "      <td>0</td>\n",
       "      <td>0</td>\n",
       "      <td>0</td>\n",
       "      <td>0</td>\n",
       "      <td>0</td>\n",
       "      <td>0</td>\n",
       "      <td>1</td>\n",
       "      <td>0</td>\n",
       "    </tr>\n",
       "  </tbody>\n",
       "</table>\n",
       "</div>"
      ],
      "text/plain": [
       "        age  workclass    fnlwgt  education_num  marital_status  occupation  \\\n",
       "0  0.169493          2 -1.205842           13.0               0           1   \n",
       "1  0.887249          6 -1.119670           13.0               1           2   \n",
       "2  0.096429          7  0.405653            9.0               2           3   \n",
       "3  1.060580          7  0.584575            7.0               1           3   \n",
       "4 -0.735021          7  1.460655           13.0               1           4   \n",
       "\n",
       "   relationship  race  sex  hours_per_week  income  capital_income  \\\n",
       "0             0     0    0       -0.085137       0        0.401903   \n",
       "1             1     0    0       -1.587107       0        0.046414   \n",
       "2             0     0    0       -0.085137       0        0.046414   \n",
       "3             1     1    0       -0.085137       0        0.046414   \n",
       "4             2     1    1       -0.085137       0        0.046414   \n",
       "\n",
       "   native_countryUnited-States  native_countryMexico  \\\n",
       "0                            1                     0   \n",
       "1                            1                     0   \n",
       "2                            1                     0   \n",
       "3                            1                     0   \n",
       "4                            0                     0   \n",
       "\n",
       "   native_countryPhilippines  native_countryGermany  \\\n",
       "0                          0                      0   \n",
       "1                          0                      0   \n",
       "2                          0                      0   \n",
       "3                          0                      0   \n",
       "4                          0                      0   \n",
       "\n",
       "   native_countryPuerto-Rico  native_countryCanada  native_countryEl-Salvador  \\\n",
       "0                          0                     0                          0   \n",
       "1                          0                     0                          0   \n",
       "2                          0                     0                          0   \n",
       "3                          0                     0                          0   \n",
       "4                          0                     0                          0   \n",
       "\n",
       "   native_countryIndia  native_countryCuba  native_countryEngland  \n",
       "0                    0                   0                      0  \n",
       "1                    0                   0                      0  \n",
       "2                    0                   0                      0  \n",
       "3                    0                   0                      0  \n",
       "4                    0                   1                      0  "
      ]
     },
     "execution_count": 22,
     "metadata": {},
     "output_type": "execute_result"
    }
   ],
   "source": [
    "dataset=pd.read_csv('Datasets/scaled_csv')\n",
    "dataset.head()"
   ]
  },
  {
   "cell_type": "code",
   "execution_count": 23,
   "id": "4e5a45c5",
   "metadata": {},
   "outputs": [],
   "source": [
    "y=dataset['income']\n",
    "X=dataset.drop('income',axis=1)"
   ]
  },
  {
   "cell_type": "code",
   "execution_count": 24,
   "id": "3d67ee71",
   "metadata": {},
   "outputs": [],
   "source": [
    "X_train,X_test,y_train,y_test=train_test_split(X,y,test_size=0.33,random_state=42)"
   ]
  },
  {
   "cell_type": "markdown",
   "id": "5d791b38",
   "metadata": {},
   "source": [
    "### RandomForestClassifier"
   ]
  },
  {
   "cell_type": "code",
   "execution_count": 25,
   "id": "2ffc5c16",
   "metadata": {},
   "outputs": [
    {
     "name": "stdout",
     "output_type": "stream",
     "text": [
      "Training accuracy score 0.9998471135029354\n",
      "Testing accuracy score 0.8560432056614315\n",
      "Confusion matrix \n",
      " [[11389   815]\n",
      " [ 1504  2401]]\n",
      "Precision :  0.7465796019900498\n",
      "Recall :  0.6148527528809219\n"
     ]
    }
   ],
   "source": [
    "from sklearn.ensemble import RandomForestClassifier\n",
    "from sklearn.metrics import accuracy_score,confusion_matrix,precision_score,recall_score\n",
    "rfc=RandomForestClassifier()\n",
    "rfc.fit(X_train,y_train)\n",
    "x_predicted=rfc.predict(X_train)\n",
    "score=accuracy_score(y_train,x_predicted)\n",
    "print(f\"Training accuracy score {score}\")\n",
    "\n",
    "y_pred = rfc.predict(X_test)\n",
    "score=accuracy_score(y_test,y_pred)\n",
    "print(f\"Testing accuracy score {score}\")\n",
    "conf_mat=confusion_matrix(y_test,y_pred)\n",
    "print('Confusion matrix \\n',conf_mat)\n",
    "print('Precision : ', precision_score(y_test,y_pred))\n",
    "print('Recall : ',recall_score(y_test,y_pred))\n",
    "\n"
   ]
  },
  {
   "cell_type": "markdown",
   "id": "b8c5ee4a",
   "metadata": {},
   "source": [
    "### Bagging Classifier"
   ]
  },
  {
   "cell_type": "code",
   "execution_count": 26,
   "id": "a40e514d",
   "metadata": {},
   "outputs": [
    {
     "name": "stdout",
     "output_type": "stream",
     "text": [
      "Training accuracy score 0.988380626223092\n",
      "Testing accuracy score 0.8487181078899994\n",
      "Confusion matrix \n",
      " [[11368   836]\n",
      " [ 1601  2304]]\n",
      "Precision :  0.7337579617834394\n",
      "Recall :  0.5900128040973112\n"
     ]
    }
   ],
   "source": [
    "from sklearn.ensemble import BaggingClassifier\n",
    "from sklearn.metrics import accuracy_score,confusion_matrix,precision_score,recall_score\n",
    "bgc=BaggingClassifier()\n",
    "bgc.fit(X_train,y_train)\n",
    "x_predicted=bgc.predict(X_train)\n",
    "score=accuracy_score(y_train,x_predicted)\n",
    "print(f\"Training accuracy score {score}\")\n",
    "\n",
    "y_pred = bgc.predict(X_test)\n",
    "score=accuracy_score(y_test,y_pred)\n",
    "print(f\"Testing accuracy score {score}\")\n",
    "conf_mat=confusion_matrix(y_test,y_pred)\n",
    "print('Confusion matrix \\n',conf_mat)\n",
    "print('Precision : ', precision_score(y_test,y_pred))\n",
    "print('Recall : ',recall_score(y_test,y_pred))\n",
    "\n"
   ]
  },
  {
   "cell_type": "markdown",
   "id": "55d2e84b",
   "metadata": {},
   "source": [
    "### ExtraTree Classifier"
   ]
  },
  {
   "cell_type": "code",
   "execution_count": 27,
   "id": "3a6eccd9",
   "metadata": {},
   "outputs": [
    {
     "name": "stdout",
     "output_type": "stream",
     "text": [
      "Training accuracy score 0.9998776908023483\n",
      "Testing accuracy score 0.8383512322304302\n",
      "Confusion matrix \n",
      " [[11193  1011]\n",
      " [ 1593  2312]]\n",
      "Precision :  0.6957568462232923\n",
      "Recall :  0.5920614596670934\n"
     ]
    }
   ],
   "source": [
    "from sklearn.ensemble import ExtraTreesClassifier\n",
    "from sklearn.metrics import accuracy_score,confusion_matrix,precision_score,recall_score\n",
    "etc=ExtraTreesClassifier()\n",
    "etc.fit(X_train,y_train)\n",
    "x_predicted=etc.predict(X_train)\n",
    "score=accuracy_score(y_train,x_predicted)\n",
    "print(f\"Training accuracy score {score}\")\n",
    "\n",
    "y_pred = etc.predict(X_test)\n",
    "score=accuracy_score(y_test,y_pred)\n",
    "print(f\"Testing accuracy score {score}\")\n",
    "conf_mat=confusion_matrix(y_test,y_pred)\n",
    "print('Confusion matrix \\n',conf_mat)\n",
    "print('Precision : ', precision_score(y_test,y_pred))\n",
    "print('Recall : ',recall_score(y_test,y_pred))\n"
   ]
  },
  {
   "cell_type": "markdown",
   "id": "d7c6c07e",
   "metadata": {},
   "source": [
    "### VotingClassifier"
   ]
  },
  {
   "cell_type": "code",
   "execution_count": 28,
   "id": "a7c4188a",
   "metadata": {},
   "outputs": [
    {
     "name": "stdout",
     "output_type": "stream",
     "text": [
      "Training accuracy score 0.990154109589041\n",
      "Testing accuracy score 0.8480973368924204\n",
      "Confusion matrix \n",
      " [[11686   518]\n",
      " [ 1929  1976]]\n",
      "Precision :  0.7923015236567763\n",
      "Recall :  0.5060179257362356\n"
     ]
    }
   ],
   "source": [
    "from sklearn.ensemble import ExtraTreesClassifier,RandomForestClassifier,VotingClassifier,BaggingClassifier\n",
    "from sklearn.svm import SVC\n",
    "from sklearn.linear_model import LogisticRegression\n",
    "from sklearn.tree import DecisionTreeClassifier\n",
    "logr=LogisticRegression()\n",
    "svc=SVC()\n",
    "extc=ExtraTreesClassifier()\n",
    "bgc=BaggingClassifier()\n",
    "rfc=RandomForestClassifier()\n",
    "dtc=DecisionTreeClassifier()\n",
    "\n",
    "from sklearn.metrics import accuracy_score,confusion_matrix,precision_score,recall_score\n",
    "vtc=VotingClassifier([('logreg',logr),('svc',svc),('extc',extc),('bgc',bgc),('rfc',rfc),('dtc',dtc)])\n",
    "vtc.fit(X_train,y_train)\n",
    "x_predicted=vtc.predict(X_train)\n",
    "score=accuracy_score(y_train,x_predicted)\n",
    "print(f\"Training accuracy score {score}\")\n",
    "\n",
    "y_pred = vtc.predict(X_test)\n",
    "score=accuracy_score(y_test,y_pred)\n",
    "print(f\"Testing accuracy score {score}\")\n",
    "conf_mat=confusion_matrix(y_test,y_pred)\n",
    "print('Confusion matrix \\n',conf_mat)\n",
    "print('Precision : ', precision_score(y_test,y_pred))\n",
    "print('Recall : ',recall_score(y_test,y_pred))"
   ]
  }
 ],
 "metadata": {
  "kernelspec": {
   "display_name": "Python 3 (ipykernel)",
   "language": "python",
   "name": "python3"
  },
  "language_info": {
   "codemirror_mode": {
    "name": "ipython",
    "version": 3
   },
   "file_extension": ".py",
   "mimetype": "text/x-python",
   "name": "python",
   "nbconvert_exporter": "python",
   "pygments_lexer": "ipython3",
   "version": "3.9.12"
  }
 },
 "nbformat": 4,
 "nbformat_minor": 5
}
