{
 "cells": [
  {
   "cell_type": "markdown",
   "id": "8740fd2d",
   "metadata": {},
   "source": [
    "<center> <h2> Data Preparation </h2> </center>"
   ]
  },
  {
   "cell_type": "code",
   "execution_count": 1,
   "id": "258fe2b3",
   "metadata": {},
   "outputs": [],
   "source": [
    "import pandas as pd\n",
    "import numpy as np\n",
    "import seaborn as sns\n",
    "import matplotlib.pyplot as plt\n",
    "%matplotlib inline\n",
    "\n",
    "import warnings\n",
    "warnings.filterwarnings('ignore')"
   ]
  },
  {
   "cell_type": "markdown",
   "id": "3680e9db",
   "metadata": {},
   "source": [
    "Attribute Information:\n",
    "\n",
    "1. date: Date in format dd/mm/yyyy\n",
    "2. time: time in format hh:mm:ss\n",
    "3. global_active_power: household global minute-averaged active power (in kilowatt)\n",
    "4. global_reactive_power: household global minute-averaged reactive power (in kilowatt)\n",
    "5. voltage: minute-averaged voltage (in volt)\n",
    "6. global_intensity: household global minute-averaged current intensity (in ampere)\n",
    "7. sub_metering_1: energy sub-metering No. 1 (in watt-hour of active energy). It corresponds to the kitchen, containing mainly a dishwasher, an oven and a microwave (hot plates are not electric but gas powered).\n",
    "8. sub_metering_2: energy sub-metering No. 2 (in watt-hour of active energy). It corresponds to the laundry room, containing a washing-machine, a tumble-drier, a refrigerator and a light.\n",
    "9. sub_metering_3: energy sub-metering No. 3 (in watt-hour of active energy). It corresponds to an electric water-heater and an air-conditioner"
   ]
  },
  {
   "cell_type": "code",
   "execution_count": 2,
   "id": "ca0f42e3",
   "metadata": {},
   "outputs": [
    {
     "data": {
      "text/html": [
       "<div>\n",
       "<style scoped>\n",
       "    .dataframe tbody tr th:only-of-type {\n",
       "        vertical-align: middle;\n",
       "    }\n",
       "\n",
       "    .dataframe tbody tr th {\n",
       "        vertical-align: top;\n",
       "    }\n",
       "\n",
       "    .dataframe thead th {\n",
       "        text-align: right;\n",
       "    }\n",
       "</style>\n",
       "<table border=\"1\" class=\"dataframe\">\n",
       "  <thead>\n",
       "    <tr style=\"text-align: right;\">\n",
       "      <th></th>\n",
       "      <th>Date</th>\n",
       "      <th>Time</th>\n",
       "      <th>Global_active_power</th>\n",
       "      <th>Global_reactive_power</th>\n",
       "      <th>Voltage</th>\n",
       "      <th>Global_intensity</th>\n",
       "      <th>Sub_metering_1</th>\n",
       "      <th>Sub_metering_2</th>\n",
       "      <th>Sub_metering_3</th>\n",
       "    </tr>\n",
       "  </thead>\n",
       "  <tbody>\n",
       "    <tr>\n",
       "      <th>0</th>\n",
       "      <td>16/12/2006</td>\n",
       "      <td>17:24:00</td>\n",
       "      <td>4.216</td>\n",
       "      <td>0.418</td>\n",
       "      <td>234.840</td>\n",
       "      <td>18.400</td>\n",
       "      <td>0.000</td>\n",
       "      <td>1.000</td>\n",
       "      <td>17.0</td>\n",
       "    </tr>\n",
       "    <tr>\n",
       "      <th>1</th>\n",
       "      <td>16/12/2006</td>\n",
       "      <td>17:25:00</td>\n",
       "      <td>5.360</td>\n",
       "      <td>0.436</td>\n",
       "      <td>233.630</td>\n",
       "      <td>23.000</td>\n",
       "      <td>0.000</td>\n",
       "      <td>1.000</td>\n",
       "      <td>16.0</td>\n",
       "    </tr>\n",
       "    <tr>\n",
       "      <th>2</th>\n",
       "      <td>16/12/2006</td>\n",
       "      <td>17:26:00</td>\n",
       "      <td>5.374</td>\n",
       "      <td>0.498</td>\n",
       "      <td>233.290</td>\n",
       "      <td>23.000</td>\n",
       "      <td>0.000</td>\n",
       "      <td>2.000</td>\n",
       "      <td>17.0</td>\n",
       "    </tr>\n",
       "    <tr>\n",
       "      <th>3</th>\n",
       "      <td>16/12/2006</td>\n",
       "      <td>17:27:00</td>\n",
       "      <td>5.388</td>\n",
       "      <td>0.502</td>\n",
       "      <td>233.740</td>\n",
       "      <td>23.000</td>\n",
       "      <td>0.000</td>\n",
       "      <td>1.000</td>\n",
       "      <td>17.0</td>\n",
       "    </tr>\n",
       "    <tr>\n",
       "      <th>4</th>\n",
       "      <td>16/12/2006</td>\n",
       "      <td>17:28:00</td>\n",
       "      <td>3.666</td>\n",
       "      <td>0.528</td>\n",
       "      <td>235.680</td>\n",
       "      <td>15.800</td>\n",
       "      <td>0.000</td>\n",
       "      <td>1.000</td>\n",
       "      <td>17.0</td>\n",
       "    </tr>\n",
       "  </tbody>\n",
       "</table>\n",
       "</div>"
      ],
      "text/plain": [
       "         Date      Time Global_active_power Global_reactive_power  Voltage  \\\n",
       "0  16/12/2006  17:24:00               4.216                 0.418  234.840   \n",
       "1  16/12/2006  17:25:00               5.360                 0.436  233.630   \n",
       "2  16/12/2006  17:26:00               5.374                 0.498  233.290   \n",
       "3  16/12/2006  17:27:00               5.388                 0.502  233.740   \n",
       "4  16/12/2006  17:28:00               3.666                 0.528  235.680   \n",
       "\n",
       "  Global_intensity Sub_metering_1 Sub_metering_2  Sub_metering_3  \n",
       "0           18.400          0.000          1.000            17.0  \n",
       "1           23.000          0.000          1.000            16.0  \n",
       "2           23.000          0.000          2.000            17.0  \n",
       "3           23.000          0.000          1.000            17.0  \n",
       "4           15.800          0.000          1.000            17.0  "
      ]
     },
     "execution_count": 2,
     "metadata": {},
     "output_type": "execute_result"
    }
   ],
   "source": [
    "dataset=pd.read_table('household_power_consumption.txt',delimiter=';')\n",
    "dataset.head()"
   ]
  },
  {
   "cell_type": "code",
   "execution_count": 9,
   "id": "8f9a2431",
   "metadata": {},
   "outputs": [],
   "source": [
    "### Taking sample rows\n",
    "\n",
    "dataset=dataset.sample(40000,random_state=0,ignore_index=True)"
   ]
  },
  {
   "cell_type": "code",
   "execution_count": 10,
   "id": "40892ac1",
   "metadata": {},
   "outputs": [
    {
     "data": {
      "text/html": [
       "<div>\n",
       "<style scoped>\n",
       "    .dataframe tbody tr th:only-of-type {\n",
       "        vertical-align: middle;\n",
       "    }\n",
       "\n",
       "    .dataframe tbody tr th {\n",
       "        vertical-align: top;\n",
       "    }\n",
       "\n",
       "    .dataframe thead th {\n",
       "        text-align: right;\n",
       "    }\n",
       "</style>\n",
       "<table border=\"1\" class=\"dataframe\">\n",
       "  <thead>\n",
       "    <tr style=\"text-align: right;\">\n",
       "      <th></th>\n",
       "      <th>Date</th>\n",
       "      <th>Time</th>\n",
       "      <th>Global_active_power</th>\n",
       "      <th>Global_reactive_power</th>\n",
       "      <th>Voltage</th>\n",
       "      <th>Global_intensity</th>\n",
       "      <th>Sub_metering_1</th>\n",
       "      <th>Sub_metering_2</th>\n",
       "      <th>Sub_metering_3</th>\n",
       "    </tr>\n",
       "  </thead>\n",
       "  <tbody>\n",
       "    <tr>\n",
       "      <th>0</th>\n",
       "      <td>19/2/2010</td>\n",
       "      <td>12:55:00</td>\n",
       "      <td>0.332</td>\n",
       "      <td>0.074</td>\n",
       "      <td>241.440</td>\n",
       "      <td>1.400</td>\n",
       "      <td>0.000</td>\n",
       "      <td>1.000</td>\n",
       "      <td>0.0</td>\n",
       "    </tr>\n",
       "    <tr>\n",
       "      <th>1</th>\n",
       "      <td>20/9/2008</td>\n",
       "      <td>01:19:00</td>\n",
       "      <td>0.624</td>\n",
       "      <td>0.128</td>\n",
       "      <td>242.910</td>\n",
       "      <td>2.600</td>\n",
       "      <td>0.000</td>\n",
       "      <td>0.000</td>\n",
       "      <td>0.0</td>\n",
       "    </tr>\n",
       "    <tr>\n",
       "      <th>2</th>\n",
       "      <td>28/2/2007</td>\n",
       "      <td>13:28:00</td>\n",
       "      <td>0.214</td>\n",
       "      <td>0.000</td>\n",
       "      <td>240.920</td>\n",
       "      <td>0.800</td>\n",
       "      <td>0.000</td>\n",
       "      <td>0.000</td>\n",
       "      <td>0.0</td>\n",
       "    </tr>\n",
       "    <tr>\n",
       "      <th>3</th>\n",
       "      <td>27/10/2010</td>\n",
       "      <td>00:27:00</td>\n",
       "      <td>0.876</td>\n",
       "      <td>0.238</td>\n",
       "      <td>246.750</td>\n",
       "      <td>3.600</td>\n",
       "      <td>0.000</td>\n",
       "      <td>0.000</td>\n",
       "      <td>1.0</td>\n",
       "    </tr>\n",
       "    <tr>\n",
       "      <th>4</th>\n",
       "      <td>14/7/2007</td>\n",
       "      <td>14:50:00</td>\n",
       "      <td>0.638</td>\n",
       "      <td>0.198</td>\n",
       "      <td>244.190</td>\n",
       "      <td>3.400</td>\n",
       "      <td>2.000</td>\n",
       "      <td>1.000</td>\n",
       "      <td>0.0</td>\n",
       "    </tr>\n",
       "  </tbody>\n",
       "</table>\n",
       "</div>"
      ],
      "text/plain": [
       "         Date      Time Global_active_power Global_reactive_power  Voltage  \\\n",
       "0   19/2/2010  12:55:00               0.332                 0.074  241.440   \n",
       "1   20/9/2008  01:19:00               0.624                 0.128  242.910   \n",
       "2   28/2/2007  13:28:00               0.214                 0.000  240.920   \n",
       "3  27/10/2010  00:27:00               0.876                 0.238  246.750   \n",
       "4   14/7/2007  14:50:00               0.638                 0.198  244.190   \n",
       "\n",
       "  Global_intensity Sub_metering_1 Sub_metering_2  Sub_metering_3  \n",
       "0            1.400          0.000          1.000             0.0  \n",
       "1            2.600          0.000          0.000             0.0  \n",
       "2            0.800          0.000          0.000             0.0  \n",
       "3            3.600          0.000          0.000             1.0  \n",
       "4            3.400          2.000          1.000             0.0  "
      ]
     },
     "execution_count": 10,
     "metadata": {},
     "output_type": "execute_result"
    }
   ],
   "source": [
    "dataset.head()"
   ]
  },
  {
   "cell_type": "code",
   "execution_count": 11,
   "id": "d4f5bb03",
   "metadata": {},
   "outputs": [
    {
     "data": {
      "text/plain": [
       "0"
      ]
     },
     "execution_count": 11,
     "metadata": {},
     "output_type": "execute_result"
    }
   ],
   "source": [
    "## checking for duplicates\n",
    "\n",
    "dataset.duplicated().sum()"
   ]
  },
  {
   "cell_type": "code",
   "execution_count": 12,
   "id": "d596ca53",
   "metadata": {},
   "outputs": [
    {
     "name": "stdout",
     "output_type": "stream",
     "text": [
      "<class 'pandas.core.frame.DataFrame'>\n",
      "RangeIndex: 40000 entries, 0 to 39999\n",
      "Data columns (total 9 columns):\n",
      " #   Column                 Non-Null Count  Dtype  \n",
      "---  ------                 --------------  -----  \n",
      " 0   Date                   40000 non-null  object \n",
      " 1   Time                   40000 non-null  object \n",
      " 2   Global_active_power    40000 non-null  object \n",
      " 3   Global_reactive_power  40000 non-null  object \n",
      " 4   Voltage                40000 non-null  object \n",
      " 5   Global_intensity       40000 non-null  object \n",
      " 6   Sub_metering_1         40000 non-null  object \n",
      " 7   Sub_metering_2         40000 non-null  object \n",
      " 8   Sub_metering_3         39471 non-null  float64\n",
      "dtypes: float64(1), object(8)\n",
      "memory usage: 2.7+ MB\n"
     ]
    }
   ],
   "source": [
    "dataset.info()"
   ]
  },
  {
   "cell_type": "markdown",
   "id": "88051293",
   "metadata": {},
   "source": [
    "###### Chaning date object to date time feature"
   ]
  },
  {
   "cell_type": "code",
   "execution_count": 13,
   "id": "71b127e2",
   "metadata": {},
   "outputs": [],
   "source": [
    "dataset.Date=pd.to_datetime(dataset.Date)"
   ]
  },
  {
   "cell_type": "markdown",
   "id": "7b553870",
   "metadata": {},
   "source": [
    "###### Extracting year,month and day from Date feature"
   ]
  },
  {
   "cell_type": "code",
   "execution_count": 14,
   "id": "274c6f47",
   "metadata": {},
   "outputs": [],
   "source": [
    "dataset['year']=dataset['Date'].dt.year\n",
    "dataset['month']=dataset['Date'].dt.month\n",
    "dataset['day']=dataset['Date'].dt.day"
   ]
  },
  {
   "cell_type": "markdown",
   "id": "ad8a3630",
   "metadata": {},
   "source": [
    "##### changing the object feature into their respected datatype fields"
   ]
  },
  {
   "cell_type": "code",
   "execution_count": 15,
   "id": "f8848316",
   "metadata": {},
   "outputs": [],
   "source": [
    "## Some rows contains ? in their features and we are dropping them\n",
    "\n",
    "for feature in dataset.columns:\n",
    "    index_drop=dataset[dataset[feature]=='?'].index\n",
    "    dataset.drop(index_drop,inplace=True)"
   ]
  },
  {
   "cell_type": "code",
   "execution_count": 16,
   "id": "f7c1ead8",
   "metadata": {},
   "outputs": [
    {
     "name": "stdout",
     "output_type": "stream",
     "text": [
      "<class 'pandas.core.frame.DataFrame'>\n",
      "Int64Index: 39471 entries, 0 to 39999\n",
      "Data columns (total 12 columns):\n",
      " #   Column                 Non-Null Count  Dtype         \n",
      "---  ------                 --------------  -----         \n",
      " 0   Date                   39471 non-null  datetime64[ns]\n",
      " 1   Time                   39471 non-null  object        \n",
      " 2   Global_active_power    39471 non-null  object        \n",
      " 3   Global_reactive_power  39471 non-null  object        \n",
      " 4   Voltage                39471 non-null  object        \n",
      " 5   Global_intensity       39471 non-null  object        \n",
      " 6   Sub_metering_1         39471 non-null  object        \n",
      " 7   Sub_metering_2         39471 non-null  object        \n",
      " 8   Sub_metering_3         39471 non-null  float64       \n",
      " 9   year                   39471 non-null  int64         \n",
      " 10  month                  39471 non-null  int64         \n",
      " 11  day                    39471 non-null  int64         \n",
      "dtypes: datetime64[ns](1), float64(1), int64(3), object(7)\n",
      "memory usage: 3.9+ MB\n"
     ]
    }
   ],
   "source": [
    "dataset.info()"
   ]
  },
  {
   "cell_type": "code",
   "execution_count": 17,
   "id": "c79b371f",
   "metadata": {},
   "outputs": [],
   "source": [
    "for feature in dataset.columns[2:8]:\n",
    "    dataset[feature]=dataset[feature].astype('float')"
   ]
  },
  {
   "cell_type": "code",
   "execution_count": 18,
   "id": "9014d091",
   "metadata": {},
   "outputs": [
    {
     "name": "stdout",
     "output_type": "stream",
     "text": [
      "<class 'pandas.core.frame.DataFrame'>\n",
      "Int64Index: 39471 entries, 0 to 39999\n",
      "Data columns (total 12 columns):\n",
      " #   Column                 Non-Null Count  Dtype         \n",
      "---  ------                 --------------  -----         \n",
      " 0   Date                   39471 non-null  datetime64[ns]\n",
      " 1   Time                   39471 non-null  object        \n",
      " 2   Global_active_power    39471 non-null  float64       \n",
      " 3   Global_reactive_power  39471 non-null  float64       \n",
      " 4   Voltage                39471 non-null  float64       \n",
      " 5   Global_intensity       39471 non-null  float64       \n",
      " 6   Sub_metering_1         39471 non-null  float64       \n",
      " 7   Sub_metering_2         39471 non-null  float64       \n",
      " 8   Sub_metering_3         39471 non-null  float64       \n",
      " 9   year                   39471 non-null  int64         \n",
      " 10  month                  39471 non-null  int64         \n",
      " 11  day                    39471 non-null  int64         \n",
      "dtypes: datetime64[ns](1), float64(7), int64(3), object(1)\n",
      "memory usage: 3.9+ MB\n"
     ]
    }
   ],
   "source": [
    "dataset.info()"
   ]
  },
  {
   "cell_type": "code",
   "execution_count": 19,
   "id": "096e6a09",
   "metadata": {},
   "outputs": [
    {
     "data": {
      "text/html": [
       "<div>\n",
       "<style scoped>\n",
       "    .dataframe tbody tr th:only-of-type {\n",
       "        vertical-align: middle;\n",
       "    }\n",
       "\n",
       "    .dataframe tbody tr th {\n",
       "        vertical-align: top;\n",
       "    }\n",
       "\n",
       "    .dataframe thead th {\n",
       "        text-align: right;\n",
       "    }\n",
       "</style>\n",
       "<table border=\"1\" class=\"dataframe\">\n",
       "  <thead>\n",
       "    <tr style=\"text-align: right;\">\n",
       "      <th></th>\n",
       "      <th>Date</th>\n",
       "      <th>Time</th>\n",
       "      <th>Global_active_power</th>\n",
       "      <th>Global_reactive_power</th>\n",
       "      <th>Voltage</th>\n",
       "      <th>Global_intensity</th>\n",
       "      <th>Sub_metering_1</th>\n",
       "      <th>Sub_metering_2</th>\n",
       "      <th>Sub_metering_3</th>\n",
       "      <th>year</th>\n",
       "      <th>month</th>\n",
       "      <th>day</th>\n",
       "      <th>Total_power_consumed</th>\n",
       "    </tr>\n",
       "  </thead>\n",
       "  <tbody>\n",
       "    <tr>\n",
       "      <th>0</th>\n",
       "      <td>2010-02-19</td>\n",
       "      <td>12:55:00</td>\n",
       "      <td>0.332</td>\n",
       "      <td>0.074</td>\n",
       "      <td>241.44</td>\n",
       "      <td>1.4</td>\n",
       "      <td>0.0</td>\n",
       "      <td>1.0</td>\n",
       "      <td>0.0</td>\n",
       "      <td>2010</td>\n",
       "      <td>2</td>\n",
       "      <td>19</td>\n",
       "      <td>1.0</td>\n",
       "    </tr>\n",
       "    <tr>\n",
       "      <th>1</th>\n",
       "      <td>2008-09-20</td>\n",
       "      <td>01:19:00</td>\n",
       "      <td>0.624</td>\n",
       "      <td>0.128</td>\n",
       "      <td>242.91</td>\n",
       "      <td>2.6</td>\n",
       "      <td>0.0</td>\n",
       "      <td>0.0</td>\n",
       "      <td>0.0</td>\n",
       "      <td>2008</td>\n",
       "      <td>9</td>\n",
       "      <td>20</td>\n",
       "      <td>0.0</td>\n",
       "    </tr>\n",
       "    <tr>\n",
       "      <th>2</th>\n",
       "      <td>2007-02-28</td>\n",
       "      <td>13:28:00</td>\n",
       "      <td>0.214</td>\n",
       "      <td>0.000</td>\n",
       "      <td>240.92</td>\n",
       "      <td>0.8</td>\n",
       "      <td>0.0</td>\n",
       "      <td>0.0</td>\n",
       "      <td>0.0</td>\n",
       "      <td>2007</td>\n",
       "      <td>2</td>\n",
       "      <td>28</td>\n",
       "      <td>0.0</td>\n",
       "    </tr>\n",
       "    <tr>\n",
       "      <th>3</th>\n",
       "      <td>2010-10-27</td>\n",
       "      <td>00:27:00</td>\n",
       "      <td>0.876</td>\n",
       "      <td>0.238</td>\n",
       "      <td>246.75</td>\n",
       "      <td>3.6</td>\n",
       "      <td>0.0</td>\n",
       "      <td>0.0</td>\n",
       "      <td>1.0</td>\n",
       "      <td>2010</td>\n",
       "      <td>10</td>\n",
       "      <td>27</td>\n",
       "      <td>1.0</td>\n",
       "    </tr>\n",
       "    <tr>\n",
       "      <th>4</th>\n",
       "      <td>2007-07-14</td>\n",
       "      <td>14:50:00</td>\n",
       "      <td>0.638</td>\n",
       "      <td>0.198</td>\n",
       "      <td>244.19</td>\n",
       "      <td>3.4</td>\n",
       "      <td>2.0</td>\n",
       "      <td>1.0</td>\n",
       "      <td>0.0</td>\n",
       "      <td>2007</td>\n",
       "      <td>7</td>\n",
       "      <td>14</td>\n",
       "      <td>3.0</td>\n",
       "    </tr>\n",
       "  </tbody>\n",
       "</table>\n",
       "</div>"
      ],
      "text/plain": [
       "        Date      Time  Global_active_power  Global_reactive_power  Voltage  \\\n",
       "0 2010-02-19  12:55:00                0.332                  0.074   241.44   \n",
       "1 2008-09-20  01:19:00                0.624                  0.128   242.91   \n",
       "2 2007-02-28  13:28:00                0.214                  0.000   240.92   \n",
       "3 2010-10-27  00:27:00                0.876                  0.238   246.75   \n",
       "4 2007-07-14  14:50:00                0.638                  0.198   244.19   \n",
       "\n",
       "   Global_intensity  Sub_metering_1  Sub_metering_2  Sub_metering_3  year  \\\n",
       "0               1.4             0.0             1.0             0.0  2010   \n",
       "1               2.6             0.0             0.0             0.0  2008   \n",
       "2               0.8             0.0             0.0             0.0  2007   \n",
       "3               3.6             0.0             0.0             1.0  2010   \n",
       "4               3.4             2.0             1.0             0.0  2007   \n",
       "\n",
       "   month  day  Total_power_consumed  \n",
       "0      2   19                   1.0  \n",
       "1      9   20                   0.0  \n",
       "2      2   28                   0.0  \n",
       "3     10   27                   1.0  \n",
       "4      7   14                   3.0  "
      ]
     },
     "execution_count": 19,
     "metadata": {},
     "output_type": "execute_result"
    }
   ],
   "source": [
    "### Creating target column\n",
    "\n",
    "dataset['Total_power_consumed']=dataset['Sub_metering_1']+dataset['Sub_metering_2']+dataset['Sub_metering_3']\n",
    "\n",
    "dataset.head()"
   ]
  },
  {
   "cell_type": "code",
   "execution_count": 20,
   "id": "508c1450",
   "metadata": {},
   "outputs": [],
   "source": [
    "dataset.to_csv('house_data_prepared')"
   ]
  },
  {
   "cell_type": "code",
   "execution_count": null,
   "id": "0f304cae",
   "metadata": {},
   "outputs": [],
   "source": []
  }
 ],
 "metadata": {
  "kernelspec": {
   "display_name": "Python 3 (ipykernel)",
   "language": "python",
   "name": "python3"
  },
  "language_info": {
   "codemirror_mode": {
    "name": "ipython",
    "version": 3
   },
   "file_extension": ".py",
   "mimetype": "text/x-python",
   "name": "python",
   "nbconvert_exporter": "python",
   "pygments_lexer": "ipython3",
   "version": "3.9.12"
  }
 },
 "nbformat": 4,
 "nbformat_minor": 5
}
