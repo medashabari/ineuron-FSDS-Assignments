{
 "cells": [
  {
   "cell_type": "code",
   "execution_count": 1,
   "id": "6bcd35d3",
   "metadata": {},
   "outputs": [],
   "source": [
    "import pandas as pd\n",
    "import numpy as np\n",
    "import matplotlib.pyplot as plt\n",
    "import seaborn as sns\n",
    "import warnings\n",
    "from sklearn.preprocessing import PowerTransformer\n",
    "from sklearn.preprocessing import FunctionTransformer\n",
    "warnings.filterwarnings(\"ignore\")\n",
    "\n",
    "%matplotlib inline"
   ]
  },
  {
   "cell_type": "code",
   "execution_count": 2,
   "id": "f39c2178",
   "metadata": {},
   "outputs": [],
   "source": [
    "dataset=pd.read_csv('outlier_handled_target')\n",
    "dataset.drop(['Unnamed: 0','Date'],axis=1,inplace=True)"
   ]
  },
  {
   "cell_type": "code",
   "execution_count": 3,
   "id": "2b8133f3",
   "metadata": {},
   "outputs": [
    {
     "data": {
      "text/html": [
       "<div>\n",
       "<style scoped>\n",
       "    .dataframe tbody tr th:only-of-type {\n",
       "        vertical-align: middle;\n",
       "    }\n",
       "\n",
       "    .dataframe tbody tr th {\n",
       "        vertical-align: top;\n",
       "    }\n",
       "\n",
       "    .dataframe thead th {\n",
       "        text-align: right;\n",
       "    }\n",
       "</style>\n",
       "<table border=\"1\" class=\"dataframe\">\n",
       "  <thead>\n",
       "    <tr style=\"text-align: right;\">\n",
       "      <th></th>\n",
       "      <th>Global_active_power</th>\n",
       "      <th>Global_reactive_power</th>\n",
       "      <th>Voltage</th>\n",
       "      <th>Global_intensity</th>\n",
       "      <th>Total_power_consumed</th>\n",
       "    </tr>\n",
       "  </thead>\n",
       "  <tbody>\n",
       "    <tr>\n",
       "      <th>0</th>\n",
       "      <td>1209.176</td>\n",
       "      <td>50.212</td>\n",
       "      <td>341733.055</td>\n",
       "      <td>5180.8</td>\n",
       "      <td>14680.933333</td>\n",
       "    </tr>\n",
       "    <tr>\n",
       "      <th>1</th>\n",
       "      <td>2985.470</td>\n",
       "      <td>226.006</td>\n",
       "      <td>345725.320</td>\n",
       "      <td>12375.6</td>\n",
       "      <td>27354.983333</td>\n",
       "    </tr>\n",
       "    <tr>\n",
       "      <th>2</th>\n",
       "      <td>2203.826</td>\n",
       "      <td>161.792</td>\n",
       "      <td>347373.640</td>\n",
       "      <td>9247.2</td>\n",
       "      <td>19028.433333</td>\n",
       "    </tr>\n",
       "    <tr>\n",
       "      <th>3</th>\n",
       "      <td>1666.194</td>\n",
       "      <td>150.942</td>\n",
       "      <td>348479.010</td>\n",
       "      <td>7094.0</td>\n",
       "      <td>13131.900000</td>\n",
       "    </tr>\n",
       "    <tr>\n",
       "      <th>4</th>\n",
       "      <td>2225.748</td>\n",
       "      <td>160.998</td>\n",
       "      <td>348923.610</td>\n",
       "      <td>9313.0</td>\n",
       "      <td>20384.800000</td>\n",
       "    </tr>\n",
       "  </tbody>\n",
       "</table>\n",
       "</div>"
      ],
      "text/plain": [
       "   Global_active_power  Global_reactive_power     Voltage  Global_intensity  \\\n",
       "0             1209.176                 50.212  341733.055            5180.8   \n",
       "1             2985.470                226.006  345725.320           12375.6   \n",
       "2             2203.826                161.792  347373.640            9247.2   \n",
       "3             1666.194                150.942  348479.010            7094.0   \n",
       "4             2225.748                160.998  348923.610            9313.0   \n",
       "\n",
       "   Total_power_consumed  \n",
       "0          14680.933333  \n",
       "1          27354.983333  \n",
       "2          19028.433333  \n",
       "3          13131.900000  \n",
       "4          20384.800000  "
      ]
     },
     "execution_count": 3,
     "metadata": {},
     "output_type": "execute_result"
    }
   ],
   "source": [
    "dataset.head()"
   ]
  },
  {
   "cell_type": "code",
   "execution_count": 4,
   "id": "ad7db0fe",
   "metadata": {},
   "outputs": [],
   "source": [
    "## Dependent and independent features\n",
    "\n",
    "X=dataset.iloc[:,:4]\n",
    "y=dataset.loc[:,'Total_power_consumed']"
   ]
  },
  {
   "cell_type": "code",
   "execution_count": 5,
   "id": "3efa9c09",
   "metadata": {},
   "outputs": [
    {
     "data": {
      "text/html": [
       "<div>\n",
       "<style scoped>\n",
       "    .dataframe tbody tr th:only-of-type {\n",
       "        vertical-align: middle;\n",
       "    }\n",
       "\n",
       "    .dataframe tbody tr th {\n",
       "        vertical-align: top;\n",
       "    }\n",
       "\n",
       "    .dataframe thead th {\n",
       "        text-align: right;\n",
       "    }\n",
       "</style>\n",
       "<table border=\"1\" class=\"dataframe\">\n",
       "  <thead>\n",
       "    <tr style=\"text-align: right;\">\n",
       "      <th></th>\n",
       "      <th>Global_active_power</th>\n",
       "      <th>Global_reactive_power</th>\n",
       "      <th>Voltage</th>\n",
       "      <th>Global_intensity</th>\n",
       "    </tr>\n",
       "  </thead>\n",
       "  <tbody>\n",
       "    <tr>\n",
       "      <th>0</th>\n",
       "      <td>1209.176</td>\n",
       "      <td>50.212</td>\n",
       "      <td>341733.055</td>\n",
       "      <td>5180.8</td>\n",
       "    </tr>\n",
       "    <tr>\n",
       "      <th>1</th>\n",
       "      <td>2985.470</td>\n",
       "      <td>226.006</td>\n",
       "      <td>345725.320</td>\n",
       "      <td>12375.6</td>\n",
       "    </tr>\n",
       "    <tr>\n",
       "      <th>2</th>\n",
       "      <td>2203.826</td>\n",
       "      <td>161.792</td>\n",
       "      <td>347373.640</td>\n",
       "      <td>9247.2</td>\n",
       "    </tr>\n",
       "    <tr>\n",
       "      <th>3</th>\n",
       "      <td>1666.194</td>\n",
       "      <td>150.942</td>\n",
       "      <td>348479.010</td>\n",
       "      <td>7094.0</td>\n",
       "    </tr>\n",
       "    <tr>\n",
       "      <th>4</th>\n",
       "      <td>2225.748</td>\n",
       "      <td>160.998</td>\n",
       "      <td>348923.610</td>\n",
       "      <td>9313.0</td>\n",
       "    </tr>\n",
       "  </tbody>\n",
       "</table>\n",
       "</div>"
      ],
      "text/plain": [
       "   Global_active_power  Global_reactive_power     Voltage  Global_intensity\n",
       "0             1209.176                 50.212  341733.055            5180.8\n",
       "1             2985.470                226.006  345725.320           12375.6\n",
       "2             2203.826                161.792  347373.640            9247.2\n",
       "3             1666.194                150.942  348479.010            7094.0\n",
       "4             2225.748                160.998  348923.610            9313.0"
      ]
     },
     "execution_count": 5,
     "metadata": {},
     "output_type": "execute_result"
    }
   ],
   "source": [
    "X.head()"
   ]
  },
  {
   "cell_type": "code",
   "execution_count": 6,
   "id": "af5d55c7",
   "metadata": {},
   "outputs": [
    {
     "data": {
      "text/plain": [
       "0    14680.933333\n",
       "1    27354.983333\n",
       "2    19028.433333\n",
       "3    13131.900000\n",
       "4    20384.800000\n",
       "Name: Total_power_consumed, dtype: float64"
      ]
     },
     "execution_count": 6,
     "metadata": {},
     "output_type": "execute_result"
    }
   ],
   "source": [
    "y.head()"
   ]
  },
  {
   "cell_type": "code",
   "execution_count": 45,
   "id": "3e4c1ef6",
   "metadata": {},
   "outputs": [],
   "source": [
    "## Splitting train and test data\n",
    "\n",
    "from sklearn.model_selection import train_test_split\n",
    "\n",
    "X_train,X_test,y_train,y_test=train_test_split(X,y,test_size=0.25,random_state=42)"
   ]
  },
  {
   "cell_type": "code",
   "execution_count": 46,
   "id": "11c1c15f",
   "metadata": {},
   "outputs": [],
   "source": [
    "from sklearn.preprocessing import StandardScaler"
   ]
  },
  {
   "cell_type": "code",
   "execution_count": 47,
   "id": "696d1e3a",
   "metadata": {},
   "outputs": [],
   "source": [
    "## Applying standard Scaler\n",
    "\n",
    "scaler = StandardScaler()\n",
    "X_train_scaled=scaler.fit_transform(X_train)\n",
    "X_test_scaled=scaler.transform(X_test)\n"
   ]
  },
  {
   "cell_type": "code",
   "execution_count": 29,
   "id": "28e04bcd",
   "metadata": {},
   "outputs": [],
   "source": [
    "scaler=StandardScaler()\n",
    "y_train_scaled=scaler.fit_transform(pd.DataFrame(y_train))\n",
    "y_test_scaled=scaler.fit_transform(pd.DataFrame(y_test))"
   ]
  },
  {
   "cell_type": "markdown",
   "id": "47abf55c",
   "metadata": {},
   "source": [
    "#### pickling the scaler object"
   ]
  },
  {
   "cell_type": "code",
   "execution_count": 24,
   "id": "ac0026b1",
   "metadata": {},
   "outputs": [],
   "source": [
    "import pickle\n",
    "pickle_out=open('scaler.pkl',\"wb\")\n",
    "pickle.dump(scaler,pickle_out)"
   ]
  },
  {
   "cell_type": "code",
   "execution_count": 25,
   "id": "69449ba4",
   "metadata": {},
   "outputs": [],
   "source": [
    "pickle_out.close()"
   ]
  },
  {
   "cell_type": "markdown",
   "id": "c0c145c8",
   "metadata": {},
   "source": [
    "#### loading the pickled object"
   ]
  },
  {
   "cell_type": "code",
   "execution_count": 26,
   "id": "ab9784e5",
   "metadata": {},
   "outputs": [],
   "source": [
    "pickle_in = open('scaler.pkl','rb')\n",
    "scaler_loaded=pickle.load(pickle_in)"
   ]
  },
  {
   "cell_type": "markdown",
   "id": "efe433d0",
   "metadata": {},
   "source": [
    "## Model Building"
   ]
  },
  {
   "cell_type": "code",
   "execution_count": 66,
   "id": "b3db5e48",
   "metadata": {},
   "outputs": [],
   "source": [
    "from sklearn.linear_model import LinearRegression,Lasso,Ridge,ElasticNet\n",
    "from sklearn.metrics import r2_score,mean_squared_error,mean_absolute_error\n"
   ]
  },
  {
   "cell_type": "code",
   "execution_count": 67,
   "id": "b2ee69ac",
   "metadata": {},
   "outputs": [
    {
     "name": "stdout",
     "output_type": "stream",
     "text": [
      "Training r2 score 0.8179604789750587\n",
      "Training Adjusted r2 score 0.8172793208047129\n",
      "Testing r2 score 0.8373470471206067\n",
      "Testing Adjusted r2 score 0.8355091606473932\n",
      "Mean squared error 4755914.598822532\n",
      "Mean absolute error 1704.7459596618262\n",
      "Root Mean squared error 2180.805951666157\n"
     ]
    }
   ],
   "source": [
    "## linear regression\n",
    "model = LinearRegression()\n",
    "model.fit(X_train_scaled,y_train)\n",
    "x_predicted=model.predict(X_train_scaled)\n",
    "score=r2_score(y_train,x_predicted)\n",
    "print(f\"Training r2 score {score}\")\n",
    "print(f\"Training Adjusted r2 score {1 - (1-score)*(len(y_train)-1)/(len(y_train)-X_train.shape[1]-1)}\")\n",
    "y_pred = model.predict(X_test_scaled)\n",
    "score=r2_score(y_test,y_pred)\n",
    "print(f\"Testing r2 score {score}\")\n",
    "print(f\"Testing Adjusted r2 score {1 - (1-score)*(len(y_test)-1)/(len(y_test)-X_test.shape[1]-1)}\")\n",
    "\n",
    "## MAE MSE AND RMSE\n",
    "\n",
    "print(f\"Mean squared error {mean_squared_error(y_test,y_pred)}\")\n",
    "print(f\"Mean absolute error {mean_absolute_error(y_test,y_pred)}\")\n",
    "print(f\"Root Mean squared error {np.sqrt(mean_squared_error(y_test,y_pred))}\")"
   ]
  },
  {
   "cell_type": "markdown",
   "id": "0d2e8038",
   "metadata": {},
   "source": [
    "-  Because of outliers in target feature we got high MSE value"
   ]
  },
  {
   "cell_type": "code",
   "execution_count": 68,
   "id": "3380a183",
   "metadata": {},
   "outputs": [
    {
     "name": "stdout",
     "output_type": "stream",
     "text": [
      "Training r2 score 0.817953234436507\n",
      "Training Adjusted r2 score 0.8172720491584398\n",
      "Testing r2 score 0.8373866016319191\n",
      "Testing Adjusted r2 score 0.8355491621023363\n",
      "Mean squared error 4754758.038953993\n",
      "Mean absolute error 1703.8809277998455\n",
      "Root Mean squared error 2180.540767551479\n"
     ]
    }
   ],
   "source": [
    "## Ridge Regression\n",
    "\n",
    "model = Ridge()\n",
    "model.fit(X_train_scaled,y_train)\n",
    "x_predicted=model.predict(X_train_scaled)\n",
    "score=r2_score(y_train,x_predicted)\n",
    "print(f\"Training r2 score {score}\")\n",
    "print(f\"Training Adjusted r2 score {1 - (1-score)*(len(y_train)-1)/(len(y_train)-X_train.shape[1]-1)}\")\n",
    "y_pred = model.predict(X_test_scaled)\n",
    "score=r2_score(y_test,y_pred)\n",
    "print(f\"Testing r2 score {score}\")\n",
    "print(f\"Testing Adjusted r2 score {1 - (1-score)*(len(y_test)-1)/(len(y_test)-X_test.shape[1]-1)}\")\n",
    "\n",
    "## MAE MSE AND RMSE\n",
    "\n",
    "print(f\"Mean squared error {mean_squared_error(y_test,y_pred)}\")\n",
    "print(f\"Mean absolute error {mean_absolute_error(y_test,y_pred)}\")\n",
    "print(f\"Root Mean squared error {np.sqrt(mean_squared_error(y_test,y_pred))}\")"
   ]
  },
  {
   "cell_type": "code",
   "execution_count": 69,
   "id": "64da581c",
   "metadata": {},
   "outputs": [
    {
     "name": "stdout",
     "output_type": "stream",
     "text": [
      "Training r2 score 0.8179437208308962\n",
      "Training Adjusted r2 score 0.8172624999546787\n",
      "Testing r2 score 0.837280881311848\n",
      "Training Adjusted r2 score 0.8354422472023774\n",
      "Mean squared error 4757849.263581135\n",
      "Mean absolute error 1705.98206362707\n",
      "Root Mean squared error 2181.2494730271305\n"
     ]
    }
   ],
   "source": [
    "## Lasso Regression\n",
    "\n",
    "model = Lasso()\n",
    "model.fit(X_train_scaled,y_train)\n",
    "x_predicted=model.predict(X_train_scaled)\n",
    "score=r2_score(y_train,x_predicted)\n",
    "print(f\"Training r2 score {score}\")\n",
    "print(f\"Training Adjusted r2 score {1 - (1-score)*(len(y_train)-1)/(len(y_train)-X_train.shape[1]-1)}\")\n",
    "y_pred = model.predict(X_test_scaled)\n",
    "score=r2_score(y_test,y_pred)\n",
    "print(f\"Testing r2 score {score}\")\n",
    "print(f\"Training Adjusted r2 score {1 - (1-score)*(len(y_test)-1)/(len(y_test)-X_test.shape[1]-1)}\")\n",
    "\n",
    "## MAE MSE AND RMSE\n",
    "\n",
    "print(f\"Mean squared error {mean_squared_error(y_test,y_pred)}\")\n",
    "print(f\"Mean absolute error {mean_absolute_error(y_test,y_pred)}\")\n",
    "print(f\"Root Mean squared error {np.sqrt(mean_squared_error(y_test,y_pred))}\")"
   ]
  },
  {
   "cell_type": "code",
   "execution_count": 70,
   "id": "c9342d51",
   "metadata": {},
   "outputs": [
    {
     "name": "stdout",
     "output_type": "stream",
     "text": [
      "Training r2 score 0.782305036323244\n",
      "Training Adjusted r2 score 0.78149046209059\n",
      "Testing r2 score 0.8049970339531879\n",
      "Training Adjusted r2 score 0.8027936106080261\n",
      "Mean squared error 5701817.499270399\n",
      "Mean absolute error 1871.2979654179633\n",
      "Root Mean squared error 2387.847880261722\n"
     ]
    }
   ],
   "source": [
    "## Elastic Net Regression\n",
    "\n",
    "## linear regression\n",
    "model = ElasticNet()\n",
    "model.fit(X_train_scaled,y_train)\n",
    "x_predicted=model.predict(X_train_scaled)\n",
    "score=r2_score(y_train,x_predicted)\n",
    "print(f\"Training r2 score {score}\")\n",
    "print(f\"Training Adjusted r2 score {1 - (1-score)*(len(y_train)-1)/(len(y_train)-X_train.shape[1]-1)}\")\n",
    "y_pred = model.predict(X_test_scaled)\n",
    "score=r2_score(y_test,y_pred)\n",
    "print(f\"Testing r2 score {score}\")\n",
    "print(f\"Training Adjusted r2 score {1 - (1-score)*(len(y_test)-1)/(len(y_test)-X_test.shape[1]-1)}\")\n",
    "\n",
    "## MAE MSE AND RMSE\n",
    "\n",
    "print(f\"Mean squared error {mean_squared_error(y_test,y_pred)}\")\n",
    "print(f\"Mean absolute error {mean_absolute_error(y_test,y_pred)}\")\n",
    "print(f\"Root Mean squared error {np.sqrt(mean_squared_error(y_test,y_pred))}\")"
   ]
  },
  {
   "cell_type": "code",
   "execution_count": 71,
   "id": "cb5656c2",
   "metadata": {},
   "outputs": [],
   "source": [
    "from sklearn.svm import SVR"
   ]
  },
  {
   "cell_type": "code",
   "execution_count": 72,
   "id": "a36b0407",
   "metadata": {},
   "outputs": [],
   "source": [
    "## before applying Grid Search CV\n",
    "## SVR regression\n",
    "\n",
    "\n",
    "model = SVR(kernel='rbf')\n"
   ]
  },
  {
   "cell_type": "code",
   "execution_count": 73,
   "id": "aa9bc0e1",
   "metadata": {},
   "outputs": [
    {
     "data": {
      "text/plain": [
       "SVR()"
      ]
     },
     "execution_count": 73,
     "metadata": {},
     "output_type": "execute_result"
    }
   ],
   "source": [
    "model.fit(X_train_scaled,y_train_scaled)"
   ]
  },
  {
   "cell_type": "code",
   "execution_count": 74,
   "id": "ae713544",
   "metadata": {},
   "outputs": [
    {
     "name": "stdout",
     "output_type": "stream",
     "text": [
      "Training r2 score 0.8407504722207204\n",
      "Training Adjusted r2 score 0.8401545899839411\n"
     ]
    }
   ],
   "source": [
    "x_predicted=model.predict(X_train_scaled)\n",
    "score=r2_score(y_train_scaled,x_predicted)\n",
    "print(f\"Training r2 score {score}\")\n",
    "print(f\"Training Adjusted r2 score {1 - (1-score)*(len(y_train)-1)/(len(y_train)-X_train.shape[1]-1)}\")"
   ]
  },
  {
   "cell_type": "code",
   "execution_count": 75,
   "id": "ac95e646",
   "metadata": {},
   "outputs": [
    {
     "name": "stdout",
     "output_type": "stream",
     "text": [
      "Testing r2 score 0.847470224823999\n",
      "Training Adjusted r2 score 0.8457467245395245\n"
     ]
    }
   ],
   "source": [
    "y_pred = model.predict(X_test_scaled)\n",
    "score=r2_score(y_test_scaled,y_pred)\n",
    "print(f\"Testing r2 score {score}\")\n",
    "print(f\"Training Adjusted r2 score {1 - (1-score)*(len(y_test)-1)/(len(y_test)-X_test.shape[1]-1)}\")"
   ]
  },
  {
   "cell_type": "code",
   "execution_count": 76,
   "id": "fb0269ad",
   "metadata": {},
   "outputs": [
    {
     "name": "stdout",
     "output_type": "stream",
     "text": [
      "Mean squared error 0.152529775176001\n",
      "Mean absolute error 0.2990193180187865\n",
      "Root Mean squared error 0.3905506051409996\n"
     ]
    }
   ],
   "source": [
    "## MAE MSE AND RMSE\n",
    "\n",
    "print(f\"Mean squared error {mean_squared_error(y_test_scaled,y_pred)}\")\n",
    "print(f\"Mean absolute error {mean_absolute_error(y_test_scaled,y_pred)}\")\n",
    "print(f\"Root Mean squared error {np.sqrt(mean_squared_error(y_test_scaled,y_pred))}\")"
   ]
  },
  {
   "cell_type": "code",
   "execution_count": 63,
   "id": "c3e3d7ca",
   "metadata": {},
   "outputs": [],
   "source": [
    "import pickle\n",
    "pickle_out=open('svm_model.pkl',\"wb\")\n",
    "pickle.dump(model,pickle_out)"
   ]
  }
 ],
 "metadata": {
  "kernelspec": {
   "display_name": "Python 3 (ipykernel)",
   "language": "python",
   "name": "python3"
  },
  "language_info": {
   "codemirror_mode": {
    "name": "ipython",
    "version": 3
   },
   "file_extension": ".py",
   "mimetype": "text/x-python",
   "name": "python",
   "nbconvert_exporter": "python",
   "pygments_lexer": "ipython3",
   "version": "3.9.12"
  }
 },
 "nbformat": 4,
 "nbformat_minor": 5
}
