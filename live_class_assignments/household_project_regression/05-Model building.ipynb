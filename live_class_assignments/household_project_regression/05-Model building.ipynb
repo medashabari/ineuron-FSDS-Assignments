{
 "cells": [
  {
   "cell_type": "code",
   "execution_count": 1,
   "id": "6bcd35d3",
   "metadata": {},
   "outputs": [],
   "source": [
    "import pandas as pd\n",
    "import numpy as np\n",
    "import matplotlib.pyplot as plt\n",
    "import seaborn as sns\n",
    "import warnings\n",
    "from sklearn.preprocessing import PowerTransformer\n",
    "from sklearn.preprocessing import FunctionTransformer\n",
    "warnings.filterwarnings(\"ignore\")\n",
    "\n",
    "%matplotlib inline"
   ]
  },
  {
   "cell_type": "code",
   "execution_count": 2,
   "id": "f39c2178",
   "metadata": {},
   "outputs": [],
   "source": [
    "dataset=pd.read_csv('outlier_handled')\n",
    "dataset.drop(['Unnamed: 0','Date','Time'],axis=1,inplace=True)"
   ]
  },
  {
   "cell_type": "code",
   "execution_count": 3,
   "id": "2b8133f3",
   "metadata": {},
   "outputs": [
    {
     "data": {
      "text/html": [
       "<div>\n",
       "<style scoped>\n",
       "    .dataframe tbody tr th:only-of-type {\n",
       "        vertical-align: middle;\n",
       "    }\n",
       "\n",
       "    .dataframe tbody tr th {\n",
       "        vertical-align: top;\n",
       "    }\n",
       "\n",
       "    .dataframe thead th {\n",
       "        text-align: right;\n",
       "    }\n",
       "</style>\n",
       "<table border=\"1\" class=\"dataframe\">\n",
       "  <thead>\n",
       "    <tr style=\"text-align: right;\">\n",
       "      <th></th>\n",
       "      <th>Global_active_power</th>\n",
       "      <th>Global_reactive_power</th>\n",
       "      <th>Voltage</th>\n",
       "      <th>Global_intensity</th>\n",
       "      <th>year</th>\n",
       "      <th>month</th>\n",
       "      <th>day</th>\n",
       "      <th>Total_power_consumed</th>\n",
       "    </tr>\n",
       "  </thead>\n",
       "  <tbody>\n",
       "    <tr>\n",
       "      <th>0</th>\n",
       "      <td>0.332</td>\n",
       "      <td>0.074</td>\n",
       "      <td>241.44</td>\n",
       "      <td>1.4</td>\n",
       "      <td>2010</td>\n",
       "      <td>2</td>\n",
       "      <td>19</td>\n",
       "      <td>1.0</td>\n",
       "    </tr>\n",
       "    <tr>\n",
       "      <th>1</th>\n",
       "      <td>0.624</td>\n",
       "      <td>0.128</td>\n",
       "      <td>242.91</td>\n",
       "      <td>2.6</td>\n",
       "      <td>2008</td>\n",
       "      <td>9</td>\n",
       "      <td>20</td>\n",
       "      <td>0.0</td>\n",
       "    </tr>\n",
       "    <tr>\n",
       "      <th>2</th>\n",
       "      <td>0.214</td>\n",
       "      <td>0.000</td>\n",
       "      <td>240.92</td>\n",
       "      <td>0.8</td>\n",
       "      <td>2007</td>\n",
       "      <td>2</td>\n",
       "      <td>28</td>\n",
       "      <td>0.0</td>\n",
       "    </tr>\n",
       "    <tr>\n",
       "      <th>3</th>\n",
       "      <td>0.876</td>\n",
       "      <td>0.238</td>\n",
       "      <td>246.75</td>\n",
       "      <td>3.6</td>\n",
       "      <td>2010</td>\n",
       "      <td>10</td>\n",
       "      <td>27</td>\n",
       "      <td>1.0</td>\n",
       "    </tr>\n",
       "    <tr>\n",
       "      <th>4</th>\n",
       "      <td>0.638</td>\n",
       "      <td>0.198</td>\n",
       "      <td>244.19</td>\n",
       "      <td>3.4</td>\n",
       "      <td>2007</td>\n",
       "      <td>7</td>\n",
       "      <td>14</td>\n",
       "      <td>3.0</td>\n",
       "    </tr>\n",
       "  </tbody>\n",
       "</table>\n",
       "</div>"
      ],
      "text/plain": [
       "   Global_active_power  Global_reactive_power  Voltage  Global_intensity  \\\n",
       "0                0.332                  0.074   241.44               1.4   \n",
       "1                0.624                  0.128   242.91               2.6   \n",
       "2                0.214                  0.000   240.92               0.8   \n",
       "3                0.876                  0.238   246.75               3.6   \n",
       "4                0.638                  0.198   244.19               3.4   \n",
       "\n",
       "   year  month  day  Total_power_consumed  \n",
       "0  2010      2   19                   1.0  \n",
       "1  2008      9   20                   0.0  \n",
       "2  2007      2   28                   0.0  \n",
       "3  2010     10   27                   1.0  \n",
       "4  2007      7   14                   3.0  "
      ]
     },
     "execution_count": 3,
     "metadata": {},
     "output_type": "execute_result"
    }
   ],
   "source": [
    "dataset.head()"
   ]
  },
  {
   "cell_type": "code",
   "execution_count": 4,
   "id": "ad7db0fe",
   "metadata": {},
   "outputs": [],
   "source": [
    "## Dependent and independent features\n",
    "\n",
    "X=dataset.iloc[:,:4]\n",
    "y=dataset.loc[:,'Total_power_consumed']"
   ]
  },
  {
   "cell_type": "code",
   "execution_count": 5,
   "id": "3efa9c09",
   "metadata": {},
   "outputs": [
    {
     "data": {
      "text/html": [
       "<div>\n",
       "<style scoped>\n",
       "    .dataframe tbody tr th:only-of-type {\n",
       "        vertical-align: middle;\n",
       "    }\n",
       "\n",
       "    .dataframe tbody tr th {\n",
       "        vertical-align: top;\n",
       "    }\n",
       "\n",
       "    .dataframe thead th {\n",
       "        text-align: right;\n",
       "    }\n",
       "</style>\n",
       "<table border=\"1\" class=\"dataframe\">\n",
       "  <thead>\n",
       "    <tr style=\"text-align: right;\">\n",
       "      <th></th>\n",
       "      <th>Global_active_power</th>\n",
       "      <th>Global_reactive_power</th>\n",
       "      <th>Voltage</th>\n",
       "      <th>Global_intensity</th>\n",
       "    </tr>\n",
       "  </thead>\n",
       "  <tbody>\n",
       "    <tr>\n",
       "      <th>0</th>\n",
       "      <td>0.332</td>\n",
       "      <td>0.074</td>\n",
       "      <td>241.44</td>\n",
       "      <td>1.4</td>\n",
       "    </tr>\n",
       "    <tr>\n",
       "      <th>1</th>\n",
       "      <td>0.624</td>\n",
       "      <td>0.128</td>\n",
       "      <td>242.91</td>\n",
       "      <td>2.6</td>\n",
       "    </tr>\n",
       "    <tr>\n",
       "      <th>2</th>\n",
       "      <td>0.214</td>\n",
       "      <td>0.000</td>\n",
       "      <td>240.92</td>\n",
       "      <td>0.8</td>\n",
       "    </tr>\n",
       "    <tr>\n",
       "      <th>3</th>\n",
       "      <td>0.876</td>\n",
       "      <td>0.238</td>\n",
       "      <td>246.75</td>\n",
       "      <td>3.6</td>\n",
       "    </tr>\n",
       "    <tr>\n",
       "      <th>4</th>\n",
       "      <td>0.638</td>\n",
       "      <td>0.198</td>\n",
       "      <td>244.19</td>\n",
       "      <td>3.4</td>\n",
       "    </tr>\n",
       "  </tbody>\n",
       "</table>\n",
       "</div>"
      ],
      "text/plain": [
       "   Global_active_power  Global_reactive_power  Voltage  Global_intensity\n",
       "0                0.332                  0.074   241.44               1.4\n",
       "1                0.624                  0.128   242.91               2.6\n",
       "2                0.214                  0.000   240.92               0.8\n",
       "3                0.876                  0.238   246.75               3.6\n",
       "4                0.638                  0.198   244.19               3.4"
      ]
     },
     "execution_count": 5,
     "metadata": {},
     "output_type": "execute_result"
    }
   ],
   "source": [
    "X.head()"
   ]
  },
  {
   "cell_type": "code",
   "execution_count": 6,
   "id": "af5d55c7",
   "metadata": {},
   "outputs": [
    {
     "data": {
      "text/plain": [
       "0    1.0\n",
       "1    0.0\n",
       "2    0.0\n",
       "3    1.0\n",
       "4    3.0\n",
       "Name: Total_power_consumed, dtype: float64"
      ]
     },
     "execution_count": 6,
     "metadata": {},
     "output_type": "execute_result"
    }
   ],
   "source": [
    "y.head()"
   ]
  },
  {
   "cell_type": "code",
   "execution_count": 7,
   "id": "3e4c1ef6",
   "metadata": {},
   "outputs": [],
   "source": [
    "## Splitting train and test data\n",
    "\n",
    "from sklearn.model_selection import train_test_split\n",
    "\n",
    "X_train,X_test,y_train,y_test=train_test_split(X,y,test_size=0.25,random_state=42)"
   ]
  },
  {
   "cell_type": "code",
   "execution_count": 8,
   "id": "11c1c15f",
   "metadata": {},
   "outputs": [],
   "source": [
    "from sklearn.preprocessing import StandardScaler"
   ]
  },
  {
   "cell_type": "code",
   "execution_count": 9,
   "id": "696d1e3a",
   "metadata": {},
   "outputs": [],
   "source": [
    "## Applying standard Scaler\n",
    "\n",
    "scaler = StandardScaler()\n",
    "X_train_scaled=scaler.fit_transform(X_train)\n",
    "X_test_scaled=scaler.transform(X_test)\n"
   ]
  },
  {
   "cell_type": "markdown",
   "id": "47abf55c",
   "metadata": {},
   "source": [
    "#### pickling the scaler object"
   ]
  },
  {
   "cell_type": "code",
   "execution_count": 23,
   "id": "ac0026b1",
   "metadata": {},
   "outputs": [],
   "source": [
    "import pickle\n",
    "pickle_out=open('scaler.pkl',\"wb\")\n",
    "pickle.dump(scaler,pickle_out)"
   ]
  },
  {
   "cell_type": "code",
   "execution_count": 24,
   "id": "69449ba4",
   "metadata": {},
   "outputs": [],
   "source": [
    "pickle_out.close()"
   ]
  },
  {
   "cell_type": "markdown",
   "id": "c0c145c8",
   "metadata": {},
   "source": [
    "#### loading the pickled object"
   ]
  },
  {
   "cell_type": "code",
   "execution_count": 25,
   "id": "ab9784e5",
   "metadata": {},
   "outputs": [],
   "source": [
    "pickle_in = open('scaler.pkl','rb')\n",
    "scaler_loaded=pickle.load(pickle_in)"
   ]
  },
  {
   "cell_type": "markdown",
   "id": "efe433d0",
   "metadata": {},
   "source": [
    "## Model Building"
   ]
  },
  {
   "cell_type": "code",
   "execution_count": 26,
   "id": "b3db5e48",
   "metadata": {},
   "outputs": [],
   "source": [
    "from sklearn.linear_model import LinearRegression,Lasso,Ridge,ElasticNet\n",
    "from sklearn.metrics import r2_score,mean_squared_error,mean_absolute_error\n"
   ]
  },
  {
   "cell_type": "code",
   "execution_count": 27,
   "id": "b2ee69ac",
   "metadata": {},
   "outputs": [
    {
     "name": "stdout",
     "output_type": "stream",
     "text": [
      "Training r2 score 0.698763112426554\n",
      "Training Adjusted r2 score 0.6987224019883388\n",
      "Testing r2 score 0.7013699957242017\n",
      "Testing Adjusted r2 score 0.701248884498702\n",
      "Mean squared error 38.88877640814374\n",
      "Mean absolute error 4.135562303883284\n",
      "Root Mean squared error 6.2360866260936225\n"
     ]
    }
   ],
   "source": [
    "## linear regression\n",
    "model = LinearRegression()\n",
    "model.fit(X_train_scaled,y_train)\n",
    "x_predicted=model.predict(X_train_scaled)\n",
    "score=r2_score(y_train,x_predicted)\n",
    "print(f\"Training r2 score {score}\")\n",
    "print(f\"Training Adjusted r2 score {1 - (1-score)*(len(y_train)-1)/(len(y_train)-X_train.shape[1]-1)}\")\n",
    "y_pred = model.predict(X_test_scaled)\n",
    "score=r2_score(y_test,y_pred)\n",
    "print(f\"Testing r2 score {score}\")\n",
    "print(f\"Testing Adjusted r2 score {1 - (1-score)*(len(y_test)-1)/(len(y_test)-X_test.shape[1]-1)}\")\n",
    "\n",
    "## MAE MSE AND RMSE\n",
    "\n",
    "print(f\"Mean squared error {mean_squared_error(y_test,y_pred)}\")\n",
    "print(f\"Mean absolute error {mean_absolute_error(y_test,y_pred)}\")\n",
    "print(f\"Root Mean squared error {np.sqrt(mean_squared_error(y_test,y_pred))}\")"
   ]
  },
  {
   "cell_type": "markdown",
   "id": "0d2e8038",
   "metadata": {},
   "source": [
    "-  Because of outliers in target feature we got high MSE value"
   ]
  },
  {
   "cell_type": "code",
   "execution_count": 28,
   "id": "3380a183",
   "metadata": {},
   "outputs": [
    {
     "name": "stdout",
     "output_type": "stream",
     "text": [
      "Training r2 score 0.6987529656955421\n",
      "Training Adjusted r2 score 0.6987122538860544\n",
      "Testing r2 score 0.7014411507498601\n",
      "Testing Adjusted r2 score 0.7013200683817165\n",
      "Mean squared error 38.87951032019703\n",
      "Mean absolute error 4.133987294550904\n",
      "Root Mean squared error 6.235343640906812\n"
     ]
    }
   ],
   "source": [
    "## Ridge Regression\n",
    "\n",
    "model = Ridge()\n",
    "model.fit(X_train_scaled,y_train)\n",
    "x_predicted=model.predict(X_train_scaled)\n",
    "score=r2_score(y_train,x_predicted)\n",
    "print(f\"Training r2 score {score}\")\n",
    "print(f\"Training Adjusted r2 score {1 - (1-score)*(len(y_train)-1)/(len(y_train)-X_train.shape[1]-1)}\")\n",
    "y_pred = model.predict(X_test_scaled)\n",
    "score=r2_score(y_test,y_pred)\n",
    "print(f\"Testing r2 score {score}\")\n",
    "print(f\"Testing Adjusted r2 score {1 - (1-score)*(len(y_test)-1)/(len(y_test)-X_test.shape[1]-1)}\")\n",
    "\n",
    "## MAE MSE AND RMSE\n",
    "\n",
    "print(f\"Mean squared error {mean_squared_error(y_test,y_pred)}\")\n",
    "print(f\"Mean absolute error {mean_absolute_error(y_test,y_pred)}\")\n",
    "print(f\"Root Mean squared error {np.sqrt(mean_squared_error(y_test,y_pred))}\")"
   ]
  },
  {
   "cell_type": "code",
   "execution_count": 29,
   "id": "64da581c",
   "metadata": {},
   "outputs": [
    {
     "name": "stdout",
     "output_type": "stream",
     "text": [
      "Training r2 score 0.6844962279685323\n",
      "Training Adjusted r2 score 0.6844535894426818\n",
      "Testing r2 score 0.6882375515390201\n",
      "Training Adjusted r2 score 0.6881111143704259\n",
      "Mean squared error 40.5989350603142\n",
      "Mean absolute error 4.383799421411811\n",
      "Root Mean squared error 6.371729361822754\n"
     ]
    }
   ],
   "source": [
    "## Lasso Regression\n",
    "\n",
    "model = Lasso()\n",
    "model.fit(X_train_scaled,y_train)\n",
    "x_predicted=model.predict(X_train_scaled)\n",
    "score=r2_score(y_train,x_predicted)\n",
    "print(f\"Training r2 score {score}\")\n",
    "print(f\"Training Adjusted r2 score {1 - (1-score)*(len(y_train)-1)/(len(y_train)-X_train.shape[1]-1)}\")\n",
    "y_pred = model.predict(X_test_scaled)\n",
    "score=r2_score(y_test,y_pred)\n",
    "print(f\"Testing r2 score {score}\")\n",
    "print(f\"Training Adjusted r2 score {1 - (1-score)*(len(y_test)-1)/(len(y_test)-X_test.shape[1]-1)}\")\n",
    "\n",
    "## MAE MSE AND RMSE\n",
    "\n",
    "print(f\"Mean squared error {mean_squared_error(y_test,y_pred)}\")\n",
    "print(f\"Mean absolute error {mean_absolute_error(y_test,y_pred)}\")\n",
    "print(f\"Root Mean squared error {np.sqrt(mean_squared_error(y_test,y_pred))}\")"
   ]
  },
  {
   "cell_type": "code",
   "execution_count": 30,
   "id": "c9342d51",
   "metadata": {},
   "outputs": [
    {
     "name": "stdout",
     "output_type": "stream",
     "text": [
      "Training r2 score 0.6492953817408369\n",
      "Training Adjusted r2 score 0.6492479860224425\n",
      "Testing r2 score 0.6521328848395906\n",
      "Training Adjusted r2 score 0.6519918052024983\n",
      "Mean squared error 45.300627088781454\n",
      "Mean absolute error 4.943105687511112\n",
      "Root Mean squared error 6.730574053435669\n"
     ]
    }
   ],
   "source": [
    "## Elastic Net Regression\n",
    "\n",
    "## linear regression\n",
    "model = ElasticNet()\n",
    "model.fit(X_train_scaled,y_train)\n",
    "x_predicted=model.predict(X_train_scaled)\n",
    "score=r2_score(y_train,x_predicted)\n",
    "print(f\"Training r2 score {score}\")\n",
    "print(f\"Training Adjusted r2 score {1 - (1-score)*(len(y_train)-1)/(len(y_train)-X_train.shape[1]-1)}\")\n",
    "y_pred = model.predict(X_test_scaled)\n",
    "score=r2_score(y_test,y_pred)\n",
    "print(f\"Testing r2 score {score}\")\n",
    "print(f\"Training Adjusted r2 score {1 - (1-score)*(len(y_test)-1)/(len(y_test)-X_test.shape[1]-1)}\")\n",
    "\n",
    "## MAE MSE AND RMSE\n",
    "\n",
    "print(f\"Mean squared error {mean_squared_error(y_test,y_pred)}\")\n",
    "print(f\"Mean absolute error {mean_absolute_error(y_test,y_pred)}\")\n",
    "print(f\"Root Mean squared error {np.sqrt(mean_squared_error(y_test,y_pred))}\")"
   ]
  },
  {
   "cell_type": "code",
   "execution_count": 31,
   "id": "cb5656c2",
   "metadata": {},
   "outputs": [],
   "source": [
    "from sklearn.svm import SVR"
   ]
  },
  {
   "cell_type": "code",
   "execution_count": 32,
   "id": "a36b0407",
   "metadata": {},
   "outputs": [],
   "source": [
    "## before applying Grid Search CV\n",
    "## SVR regression\n",
    "\n",
    "\n",
    "model = SVR()\n"
   ]
  },
  {
   "cell_type": "code",
   "execution_count": 33,
   "id": "aa9bc0e1",
   "metadata": {},
   "outputs": [
    {
     "data": {
      "text/plain": [
       "SVR()"
      ]
     },
     "execution_count": 33,
     "metadata": {},
     "output_type": "execute_result"
    }
   ],
   "source": [
    "model.fit(X_train_scaled,y_train)"
   ]
  },
  {
   "cell_type": "code",
   "execution_count": 34,
   "id": "ae713544",
   "metadata": {},
   "outputs": [
    {
     "name": "stdout",
     "output_type": "stream",
     "text": [
      "Training r2 score 0.7131126639350096\n",
      "Training Adjusted r2 score 0.7130738927564076\n"
     ]
    }
   ],
   "source": [
    "x_predicted=model.predict(X_train_scaled)\n",
    "score=r2_score(y_train,x_predicted)\n",
    "print(f\"Training r2 score {score}\")\n",
    "print(f\"Training Adjusted r2 score {1 - (1-score)*(len(y_train)-1)/(len(y_train)-X_train.shape[1]-1)}\")"
   ]
  },
  {
   "cell_type": "code",
   "execution_count": 35,
   "id": "ac95e646",
   "metadata": {},
   "outputs": [
    {
     "name": "stdout",
     "output_type": "stream",
     "text": [
      "Testing r2 score 0.7147240446808569\n",
      "Training Adjusted r2 score 0.7146083492716228\n"
     ]
    }
   ],
   "source": [
    "y_pred = model.predict(X_test_scaled)\n",
    "score=r2_score(y_test,y_pred)\n",
    "print(f\"Testing r2 score {score}\")\n",
    "print(f\"Training Adjusted r2 score {1 - (1-score)*(len(y_test)-1)/(len(y_test)-X_test.shape[1]-1)}\")"
   ]
  },
  {
   "cell_type": "code",
   "execution_count": 36,
   "id": "fb0269ad",
   "metadata": {},
   "outputs": [
    {
     "name": "stdout",
     "output_type": "stream",
     "text": [
      "Mean squared error 37.149759509027504\n",
      "Mean absolute error 3.0108481106702008\n",
      "Root Mean squared error 6.095060254749538\n"
     ]
    }
   ],
   "source": [
    "## MAE MSE AND RMSE\n",
    "\n",
    "print(f\"Mean squared error {mean_squared_error(y_test,y_pred)}\")\n",
    "print(f\"Mean absolute error {mean_absolute_error(y_test,y_pred)}\")\n",
    "print(f\"Root Mean squared error {np.sqrt(mean_squared_error(y_test,y_pred))}\")"
   ]
  },
  {
   "cell_type": "code",
   "execution_count": 37,
   "id": "c3e3d7ca",
   "metadata": {},
   "outputs": [],
   "source": [
    "import pickle\n",
    "pickle_out=open('svm_model.pkl',\"wb\")\n",
    "pickle.dump(model,pickle_out)"
   ]
  },
  {
   "cell_type": "code",
   "execution_count": 38,
   "id": "c3d95f02",
   "metadata": {},
   "outputs": [],
   "source": [
    "## Hyper parametet tuning\n",
    "\n",
    "from sklearn.model_selection import GridSearchCV\n",
    "\n"
   ]
  },
  {
   "cell_type": "code",
   "execution_count": 41,
   "id": "73a25018",
   "metadata": {},
   "outputs": [],
   "source": [
    "svr=SVR()\n",
    "params=[{'C':[1,10,100,1000],'kernel':['linear']},\n",
    "       {'C':[1,10,100,100],'kernel':['rbf'],'gamma':[0.1,0.2,0.3,0.4,0.5,0.6,0.7,0.8,0,9]}]\n",
    "\n",
    "Grid = GridSearchCV(estimator=svr,param_grid=params,scoring='accuracy')"
   ]
  },
  {
   "cell_type": "code",
   "execution_count": null,
   "id": "9c2d6b76",
   "metadata": {},
   "outputs": [],
   "source": [
    "Grid=Grid.fit(X_train_scaled,y_train)"
   ]
  },
  {
   "cell_type": "code",
   "execution_count": null,
   "id": "26fa5dbb",
   "metadata": {},
   "outputs": [],
   "source": [
    "from sklearn.linear_model import SGDRegressor"
   ]
  }
 ],
 "metadata": {
  "kernelspec": {
   "display_name": "Python 3 (ipykernel)",
   "language": "python",
   "name": "python3"
  },
  "language_info": {
   "codemirror_mode": {
    "name": "ipython",
    "version": 3
   },
   "file_extension": ".py",
   "mimetype": "text/x-python",
   "name": "python",
   "nbconvert_exporter": "python",
   "pygments_lexer": "ipython3",
   "version": "3.9.12"
  }
 },
 "nbformat": 4,
 "nbformat_minor": 5
}
