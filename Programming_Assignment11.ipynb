{
 "cells": [
  {
   "cell_type": "markdown",
   "id": "e4949ca4",
   "metadata": {},
   "source": [
    "#### 1. Write a Python program to find words which are greater than given length k?"
   ]
  },
  {
   "cell_type": "code",
   "execution_count": 6,
   "id": "4d617a30",
   "metadata": {},
   "outputs": [
    {
     "name": "stdout",
     "output_type": "stream",
     "text": [
      "python ml deeplearning cv datascience\n",
      "Enter k value : 4\n",
      "The words greater than length 4 are : \n",
      "['python', 'deeplearning', 'datascience']\n"
     ]
    }
   ],
   "source": [
    "def greater_words(arr,k):\n",
    "    new=arr.split()\n",
    "    for ele in new:\n",
    "        if len(ele)>k:\n",
    "            yield ele\n",
    "arr=input()\n",
    "k=int(input(\"Enter k value : \"))\n",
    "print(f\"The words greater than length {k} are : \")\n",
    "print(list(greater_words(arr,k))  )      "
   ]
  },
  {
   "cell_type": "markdown",
   "id": "440be655",
   "metadata": {},
   "source": [
    "#### 2. Write a Python program for removing i-th character from a string?"
   ]
  },
  {
   "cell_type": "code",
   "execution_count": 11,
   "id": "59ff38b0",
   "metadata": {},
   "outputs": [
    {
     "name": "stdout",
     "output_type": "stream",
     "text": [
      "Enter a string : maccbook\n",
      "Enter i value : 3\n",
      "macbook\n"
     ]
    }
   ],
   "source": [
    "s=input(\"Enter a string : \")\n",
    "i=int(input(\"Enter i value : \"))\n",
    "new=list(s)\n",
    "del new[i]\n",
    "print(''.join(new))"
   ]
  },
  {
   "cell_type": "markdown",
   "id": "68895932",
   "metadata": {},
   "source": [
    "#### 3. Write a Python program to split and join a string?"
   ]
  },
  {
   "cell_type": "code",
   "execution_count": 13,
   "id": "9ed6e576",
   "metadata": {},
   "outputs": [
    {
     "name": "stdout",
     "output_type": "stream",
     "text": [
      "Enter a string : computer\n",
      "['c', 'o', 'm', 'p', 'u', 't', 'e', 'r']\n",
      "['c', 'o', 'm', 'p', 'u', 't', 'e', 'r']\n",
      "computer\n"
     ]
    }
   ],
   "source": [
    "s=input(\"Enter a string : \")\n",
    "#we can split the string in two ways by using list(\"string\") or iterating the string through a for loop\n",
    "#way1\n",
    "l=list(s)\n",
    "print(l)\n",
    "#way2\n",
    "print([i for i in s])\n",
    "\n",
    "\n",
    "#joining a string\n",
    "print(''.join(l))\n"
   ]
  },
  {
   "cell_type": "markdown",
   "id": "e30046f2",
   "metadata": {},
   "source": [
    "#### 4. Write a Python to check if a given string is binary string or not?"
   ]
  },
  {
   "cell_type": "code",
   "execution_count": 15,
   "id": "c58883ea",
   "metadata": {},
   "outputs": [
    {
     "name": "stdout",
     "output_type": "stream",
     "text": [
      "Enter a binary string : 1x0234111110000\n",
      "The given string is not a binary string\n"
     ]
    }
   ],
   "source": [
    "def toCheckBinString(st):\n",
    "    return True if st.count('0')+st.count('1')==len(st) else False\n",
    "st=input(\"Enter a binary string : \")\n",
    "if toCheckBinString(st):\n",
    "    print(\"The given string a binary string\")\n",
    "else:\n",
    "    print(\"The given string is not a binary string\")"
   ]
  },
  {
   "cell_type": "markdown",
   "id": "1a280a8d",
   "metadata": {},
   "source": [
    "#### 5. Write a Python program to find uncommon words from two Strings?"
   ]
  },
  {
   "cell_type": "code",
   "execution_count": 20,
   "id": "af1ff6cd",
   "metadata": {},
   "outputs": [
    {
     "name": "stdout",
     "output_type": "stream",
     "text": [
      "Enter string one : This is a Python program\n",
      "Enter string two : This is HTML scripting language program\n",
      "The uncommon words are  \n",
      "a Python HTML scripting language "
     ]
    }
   ],
   "source": [
    "def uncommonWords(str1,str2):\n",
    "    for word in str1:\n",
    "        if word in str2:\n",
    "            continue\n",
    "        else:\n",
    "            print(word,end=\" \")\n",
    "    for word in str2:\n",
    "        if word in str1:\n",
    "            continue\n",
    "        else:\n",
    "            print(word,end=\" \")\n",
    "str1=input(\"Enter string one : \").split()\n",
    "str2=input(\"Enter string two : \").split()\n",
    "print(\"The uncommon words are  \")\n",
    "uncommonWords(str1,str2)"
   ]
  },
  {
   "cell_type": "markdown",
   "id": "e25e6ea8",
   "metadata": {},
   "source": [
    "#### 6. Write a Python to find all duplicate characters in string?"
   ]
  },
  {
   "cell_type": "code",
   "execution_count": 23,
   "id": "87a47faf",
   "metadata": {},
   "outputs": [
    {
     "name": "stdout",
     "output_type": "stream",
     "text": [
      "Enter a string : machinelearning\n",
      "The duplicate characters Are : \n",
      "a i n e "
     ]
    }
   ],
   "source": [
    "def findDuplicateChar(str1):\n",
    "    d={}\n",
    "    for i in str1:\n",
    "        if i in d:\n",
    "            d[i]+=1\n",
    "        else:\n",
    "            d[i]=1\n",
    "    for i,j in d.items():\n",
    "        if j>1:\n",
    "            print(i,end=\" \")\n",
    "str1 = input(\"Enter a string : \")\n",
    "print(\"The duplicate characters Are : \")\n",
    "findDuplicateChar(str1)"
   ]
  },
  {
   "cell_type": "markdown",
   "id": "7248507a",
   "metadata": {},
   "source": [
    "#### 7. Write a Python Program to check if a string contains any special character?"
   ]
  },
  {
   "cell_type": "code",
   "execution_count": 30,
   "id": "b37cc566",
   "metadata": {},
   "outputs": [
    {
     "name": "stdout",
     "output_type": "stream",
     "text": [
      "Enter string 1machinelearning\n",
      "Enter string 2@machinelearning!\n",
      "The string doesn't contain any special character\n",
      "String contains the special character \n"
     ]
    }
   ],
   "source": [
    "def checkSpecialChar(st):\n",
    "    special_char='!@#$%^&*_~?'\n",
    "    for i in st:\n",
    "        if i in special_char:\n",
    "            print(\"String contains the special character \")\n",
    "            return\n",
    "    print(\"The string doesn't contain any special character\")\n",
    "str1=input(\"Enter string 1\")\n",
    "str2=input(\"Enter string 2\")\n",
    "checkSpecialChar(str1)\n",
    "checkSpecialChar(str2)"
   ]
  }
 ],
 "metadata": {
  "kernelspec": {
   "display_name": "Python 3 (ipykernel)",
   "language": "python",
   "name": "python3"
  },
  "language_info": {
   "codemirror_mode": {
    "name": "ipython",
    "version": 3
   },
   "file_extension": ".py",
   "mimetype": "text/x-python",
   "name": "python",
   "nbconvert_exporter": "python",
   "pygments_lexer": "ipython3",
   "version": "3.10.3"
  }
 },
 "nbformat": 4,
 "nbformat_minor": 5
}
