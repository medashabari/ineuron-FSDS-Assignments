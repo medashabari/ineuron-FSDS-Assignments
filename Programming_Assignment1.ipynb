{
 "cells": [
  {
   "cell_type": "markdown",
   "id": "13725b4d",
   "metadata": {},
   "source": [
    "#### 1. Write a Python program to print &quot;Hello Python&quot;?"
   ]
  },
  {
   "cell_type": "code",
   "execution_count": 1,
   "id": "258bd90d",
   "metadata": {},
   "outputs": [
    {
     "name": "stdout",
     "output_type": "stream",
     "text": [
      "Hello Python\n",
      "Hello Python\n"
     ]
    }
   ],
   "source": [
    "ip=input()\n",
    "print(ip)"
   ]
  },
  {
   "cell_type": "markdown",
   "id": "eac68b7a",
   "metadata": {},
   "source": [
    "#### 2. Write a Python program to do arithmetical operations addition and division.?"
   ]
  },
  {
   "cell_type": "code",
   "execution_count": 2,
   "id": "0dab5ab1",
   "metadata": {},
   "outputs": [
    {
     "name": "stdout",
     "output_type": "stream",
     "text": [
      "Enter value 1 : 15\n",
      "Enter value 2 : 5\n",
      "Addition of 15 and 5 is 20\n",
      "Division of 15 and 5 is 3.0\n"
     ]
    }
   ],
   "source": [
    "def add(num1,num2):\n",
    "    return num1+num2\n",
    "def div(num1,num2):\n",
    "    return num1/num2\n",
    "value1=int(input(\"Enter value 1 : \"))\n",
    "value2=int(input(\"Enter value 2 : \"))\n",
    "print(f\"Addition of {value1} and {value2} is {add(value1,value2)}\")\n",
    "print(f\"Division of {value1} and {value2} is {div(value1,value2)}\")"
   ]
  },
  {
   "cell_type": "markdown",
   "id": "1cf7de91",
   "metadata": {},
   "source": [
    "#### 3. Write a Python program to find the area of a triangle?"
   ]
  },
  {
   "cell_type": "code",
   "execution_count": 3,
   "id": "cbf75995",
   "metadata": {},
   "outputs": [
    {
     "name": "stdout",
     "output_type": "stream",
     "text": [
      "Enter height value : 10\n",
      "Enter base value : 12\n",
      "Area of a triange is  60.0\n"
     ]
    }
   ],
   "source": [
    "height=int(input(\"Enter height value : \"))\n",
    "base=int(input(\"Enter base value : \"))\n",
    "area=(1/2)*height*base\n",
    "print(\"Area of a triange is \",area)"
   ]
  },
  {
   "cell_type": "markdown",
   "id": "fbdec75a",
   "metadata": {},
   "source": [
    "#### 4. Write a Python program to swap two variables?"
   ]
  },
  {
   "cell_type": "code",
   "execution_count": 5,
   "id": "07fbb2c0",
   "metadata": {},
   "outputs": [
    {
     "name": "stdout",
     "output_type": "stream",
     "text": [
      "Enter a value : 10\n",
      "Enter a value : 20\n",
      "Before swapping var1=10 and var2=20\n",
      "After swapping var1=20 and var2=10\n"
     ]
    }
   ],
   "source": [
    "var1=input(\"Enter a value : \")\n",
    "var2=input(\"Enter a value : \")\n",
    "print(f\"Before swapping var1={var1} and var2={var2}\")\n",
    "temp=var1\n",
    "var1=var2\n",
    "var2=temp\n",
    "print(f\"After swapping var1={var1} and var2={var2}\")"
   ]
  },
  {
   "cell_type": "markdown",
   "id": "36e89119",
   "metadata": {},
   "source": [
    "#### 5. Write a Python program to generate a random number?"
   ]
  },
  {
   "cell_type": "code",
   "execution_count": 9,
   "id": "d26d1653",
   "metadata": {},
   "outputs": [
    {
     "name": "stdout",
     "output_type": "stream",
     "text": [
      "Enter start value10\n",
      "Enter end value50\n",
      "12\n"
     ]
    }
   ],
   "source": [
    "import random as rand\n",
    "start=int(input(\"Enter start value\"))\n",
    "end=int(input(\"Enter end value\"))\n",
    "print(rand.randint(start,end))"
   ]
  }
 ],
 "metadata": {
  "kernelspec": {
   "display_name": "Python 3 (ipykernel)",
   "language": "python",
   "name": "python3"
  },
  "language_info": {
   "codemirror_mode": {
    "name": "ipython",
    "version": 3
   },
   "file_extension": ".py",
   "mimetype": "text/x-python",
   "name": "python",
   "nbconvert_exporter": "python",
   "pygments_lexer": "ipython3",
   "version": "3.10.3"
  }
 },
 "nbformat": 4,
 "nbformat_minor": 5
}
