{
 "cells": [
  {
   "cell_type": "markdown",
   "id": "55c1c1fc",
   "metadata": {},
   "source": [
    "#### 1. Write a Python program to print &quot;Hello Python&quot;?"
   ]
  },
  {
   "cell_type": "code",
   "execution_count": 11,
   "id": "3c0a2731",
   "metadata": {},
   "outputs": [
    {
     "name": "stdout",
     "output_type": "stream",
     "text": [
      "Hello Python\n",
      "Hello Python\n"
     ]
    }
   ],
   "source": [
    "ip=input()\n",
    "print(ip)"
   ]
  },
  {
   "cell_type": "markdown",
   "id": "1ea9436e",
   "metadata": {},
   "source": [
    "#### 2. Write a Python program to do arithmetical operations addition and division.?"
   ]
  },
  {
   "cell_type": "code",
   "execution_count": 12,
   "id": "0060cb2a",
   "metadata": {},
   "outputs": [
    {
     "name": "stdout",
     "output_type": "stream",
     "text": [
      "Enter value 1 : 15\n",
      "Enter value 2 : 5\n",
      "Addition of 15 and 5 is 20\n",
      "Division of 15 and 5 is 3.0\n"
     ]
    }
   ],
   "source": [
    "def add(num1,num2):\n",
    "    return num1+num2\n",
    "def div(num1,num2):\n",
    "    return num1/num2\n",
    "value1=int(input(\"Enter value 1 : \"))\n",
    "value2=int(input(\"Enter value 2 : \"))\n",
    "print(f\"Addition of {value1} and {value2} is {add(value1,value2)}\")\n",
    "print(f\"Division of {value1} and {value2} is {div(value1,value2)}\")"
   ]
  },
  {
   "cell_type": "markdown",
   "id": "5ddf8ec6",
   "metadata": {},
   "source": [
    "#### 3. Write a Python program to find the area of a triangle?"
   ]
  },
  {
   "cell_type": "code",
   "execution_count": 13,
   "id": "eb27b97b",
   "metadata": {},
   "outputs": [
    {
     "name": "stdout",
     "output_type": "stream",
     "text": [
      "Enter height value : 10\n",
      "Enter base value : 20\n",
      "Area of a triange is  100.0\n"
     ]
    }
   ],
   "source": [
    "def area(height,base):\n",
    "    return (1/2)*height*base\n",
    "\n",
    "height=int(input(\"Enter height value : \"))\n",
    "base=int(input(\"Enter base value : \"))\n",
    "print(\"Area of a triange is \",area(height,base))"
   ]
  },
  {
   "cell_type": "markdown",
   "id": "6abd4958",
   "metadata": {},
   "source": [
    "#### 4. Write a Python program to swap two variables?"
   ]
  },
  {
   "cell_type": "code",
   "execution_count": 14,
   "id": "0ceb7427",
   "metadata": {},
   "outputs": [
    {
     "name": "stdout",
     "output_type": "stream",
     "text": [
      "Enter a value : 10\n",
      "Enter a value : 20\n",
      "Before swapping var1=10 and var2=20\n",
      "After swapping var1=20 and var2=10\n"
     ]
    }
   ],
   "source": [
    "var1=input(\"Enter a value : \")\n",
    "var2=input(\"Enter a value : \")\n",
    "print(f\"Before swapping var1={var1} and var2={var2}\")\n",
    "temp=var1\n",
    "var1=var2\n",
    "var2=temp\n",
    "print(f\"After swapping var1={var1} and var2={var2}\")"
   ]
  },
  {
   "cell_type": "markdown",
   "id": "fab1d047",
   "metadata": {},
   "source": [
    "#### 5. Write a Python program to generate a random number?"
   ]
  },
  {
   "cell_type": "code",
   "execution_count": 15,
   "id": "d7ad4640",
   "metadata": {},
   "outputs": [
    {
     "name": "stdout",
     "output_type": "stream",
     "text": [
      "Enter start value20\n",
      "Enter end value100\n",
      "94\n"
     ]
    }
   ],
   "source": [
    "import random as rand\n",
    "start=int(input(\"Enter start value\"))\n",
    "end=int(input(\"Enter end value\"))\n",
    "print(rand.randint(start,end))"
   ]
  }
 ],
 "metadata": {
  "kernelspec": {
   "display_name": "Python 3 (ipykernel)",
   "language": "python",
   "name": "python3"
  },
  "language_info": {
   "codemirror_mode": {
    "name": "ipython",
    "version": 3
   },
   "file_extension": ".py",
   "mimetype": "text/x-python",
   "name": "python",
   "nbconvert_exporter": "python",
   "pygments_lexer": "ipython3",
   "version": "3.10.3"
  }
 },
 "nbformat": 4,
 "nbformat_minor": 5
}
