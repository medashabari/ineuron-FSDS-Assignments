{
 "cells": [
  {
   "cell_type": "markdown",
   "id": "c806a3fa",
   "metadata": {},
   "source": [
    "#### 1. Write a Python Program to Find LCM?"
   ]
  },
  {
   "cell_type": "code",
   "execution_count": 1,
   "id": "c8743f19",
   "metadata": {},
   "outputs": [
    {
     "name": "stdout",
     "output_type": "stream",
     "text": [
      "Enter number 1 : 3\n",
      "Enter number 2 : 5\n",
      "The LCM of 3 and 5 is 15\n"
     ]
    }
   ],
   "source": [
    "def lcm(num1,num2):\n",
    "    hcf=1\n",
    "    for i in range(1,num1+1):\n",
    "        if num1%i==0 and num2%i==0:\n",
    "            hcf=i\n",
    "    return ((num1*num2))//hcf\n",
    "num1=int(input(\"Enter number 1 : \"))\n",
    "num2=int(input(\"Enter number 2 : \"))\n",
    "print(f\"The LCM of {num1} and {num2} is {lcm(num1,num2)}\")"
   ]
  },
  {
   "cell_type": "markdown",
   "id": "7fbbf44a",
   "metadata": {},
   "source": [
    "\n",
    "#### 2. Write a Python Program to Find HCF?\n"
   ]
  },
  {
   "cell_type": "code",
   "execution_count": 3,
   "id": "8a88c200",
   "metadata": {},
   "outputs": [
    {
     "name": "stdout",
     "output_type": "stream",
     "text": [
      "Enter number 1 : 3\n",
      "Enter number 2 : 15\n",
      "The HCF of 3 and 15 is 3\n"
     ]
    }
   ],
   "source": [
    "def hcf(num1,num2):\n",
    "    hcf=1\n",
    "    for i in range(1,num1+1):\n",
    "        if num1%i==0 and num2%i==0:\n",
    "            hcf=i\n",
    "    return hcf\n",
    "num1=int(input(\"Enter number 1 : \"))\n",
    "num2=int(input(\"Enter number 2 : \"))\n",
    "print(f\"The HCF of {num1} and {num2} is {hcf(num1,num2)}\")"
   ]
  },
  {
   "cell_type": "markdown",
   "id": "6b398511",
   "metadata": {},
   "source": [
    "#### 3. Write a Python Program to Convert Decimal to Binary, Octal and Hexadecimal?"
   ]
  },
  {
   "cell_type": "code",
   "execution_count": 4,
   "id": "e82c705f",
   "metadata": {},
   "outputs": [
    {
     "name": "stdout",
     "output_type": "stream",
     "text": [
      "Enter a Decimal number : 10\n",
      "Binary number 0b1010\n",
      "Octal number 0o12\n",
      "Hexa decimal 0xa\n"
     ]
    }
   ],
   "source": [
    "num=int(input(\"Enter a Decimal number : \"))\n",
    "print(\"Binary number\",bin(num))\n",
    "print(\"Octal number\",oct(num))\n",
    "print(\"Hexa decimal\",hex(num))"
   ]
  },
  {
   "cell_type": "markdown",
   "id": "7bc01390",
   "metadata": {},
   "source": [
    "#### 4. Write a Python Program To Find ASCII value of a character?"
   ]
  },
  {
   "cell_type": "code",
   "execution_count": 5,
   "id": "250ee3b3",
   "metadata": {},
   "outputs": [
    {
     "name": "stdout",
     "output_type": "stream",
     "text": [
      "Enter a charactera\n",
      "The ASCII of the given character 97\n"
     ]
    }
   ],
   "source": [
    "chr=input(\"Enter a character\")\n",
    "print(\"The ASCII value of the given character\",ord(chr))"
   ]
  },
  {
   "cell_type": "markdown",
   "id": "90b82d7b",
   "metadata": {},
   "source": [
    "#### 5. Write a Python Program to Make a Simple Calculator with 4 basic mathematical operations?"
   ]
  },
  {
   "cell_type": "code",
   "execution_count": 7,
   "id": "6b523996",
   "metadata": {},
   "outputs": [
    {
     "name": "stdout",
     "output_type": "stream",
     "text": [
      "1.Addition\n",
      "2.Subtraction\n",
      "3.Multiplication\n",
      "4.Division\n",
      "\n",
      "Select an option in 1 2 3 4 : 3\n",
      "Enter value 1 :15\n",
      "Enter value 2 60\n",
      "Result =  900\n"
     ]
    }
   ],
   "source": [
    "def calculator(num1,num2,op):\n",
    "    if op == 1:\n",
    "        return num1+num2\n",
    "    elif op ==2:\n",
    "        return num1-num2\n",
    "    elif op==3:\n",
    "        return num1*num2\n",
    "    elif op==4:\n",
    "        return num1/num2\n",
    "    else:\n",
    "        print(\"Invalid option\")\n",
    "print(\"1.Addition\\n2.Subtraction\\n3.Multiplication\\n4.Division\")   \n",
    "print()\n",
    "op=int(input(\"Select an option in 1 2 3 4 : \"))\n",
    "num1=int(input(\"Enter value 1 :\"))\n",
    "num2=int(input(\"Enter value 2 \"))\n",
    "print(\"Result = \",calculator(num1,num2,op))"
   ]
  }
 ],
 "metadata": {
  "kernelspec": {
   "display_name": "Python 3 (ipykernel)",
   "language": "python",
   "name": "python3"
  },
  "language_info": {
   "codemirror_mode": {
    "name": "ipython",
    "version": 3
   },
   "file_extension": ".py",
   "mimetype": "text/x-python",
   "name": "python",
   "nbconvert_exporter": "python",
   "pygments_lexer": "ipython3",
   "version": "3.10.3"
  }
 },
 "nbformat": 4,
 "nbformat_minor": 5
}
