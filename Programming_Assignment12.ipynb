{
 "cells": [
  {
   "cell_type": "markdown",
   "id": "19752fc9",
   "metadata": {},
   "source": [
    "#### 1. Write a Python program to Extract Unique values dictionary values?"
   ]
  },
  {
   "cell_type": "code",
   "execution_count": 17,
   "id": "4845786d",
   "metadata": {},
   "outputs": [
    {
     "name": "stdout",
     "output_type": "stream",
     "text": [
      "The unique values : \n",
      "20 50 60 "
     ]
    }
   ],
   "source": [
    "def extractUnique(d):\n",
    "    unique={}\n",
    "    for val in d.values():\n",
    "        if val not in unique:\n",
    "            unique[val]=1\n",
    "        else:\n",
    "            unique[val]+=1\n",
    "    for i,j in unique.items():\n",
    "        if j>1:\n",
    "            continue\n",
    "        else:\n",
    "            print(i,end=\" \")\n",
    "d={'A':10,'B':20,'C':10,'D':30,'E':50,'F':30,'G':60}\n",
    "print(\"The unique values : \")\n",
    "extractUnique(d)"
   ]
  },
  {
   "cell_type": "markdown",
   "id": "a54aeed6",
   "metadata": {},
   "source": [
    "#### 2. Write a Python program to find the sum of all items in a dictionary?"
   ]
  },
  {
   "cell_type": "code",
   "execution_count": 20,
   "id": "9f0e5294",
   "metadata": {},
   "outputs": [
    {
     "name": "stdout",
     "output_type": "stream",
     "text": [
      "The sum of all items in the dictionary :  210\n"
     ]
    }
   ],
   "source": [
    "def sumOfItems(d):\n",
    "    sum=0\n",
    "    for val in d.values():\n",
    "        sum+=val\n",
    "    return sum\n",
    "d={'A':10,'B':20,'C':10,'D':30,'E':50,'F':30,'G':60}\n",
    "print(\"The sum of all items in the dictionary : \",sumOfItems(d))"
   ]
  },
  {
   "cell_type": "markdown",
   "id": "86a99df2",
   "metadata": {},
   "source": [
    "#### 3. Write a Python program to Merging two Dictionaries?"
   ]
  },
  {
   "cell_type": "code",
   "execution_count": 22,
   "id": "551f3380",
   "metadata": {},
   "outputs": [
    {
     "name": "stdout",
     "output_type": "stream",
     "text": [
      "The merged dictionary :  {'A': 10, 'B': 20, 'C': 10, 'D': 30, 'E': 50, 'F': 30, 'G': 60, 'X': 10, 'Y': 20, 'Z': 30}\n"
     ]
    }
   ],
   "source": [
    "def mergingDicts(d1,d2):\n",
    "    d1.update(d2)\n",
    "    return d1\n",
    "d1={'A':10,'B':20,'C':10,'D':30,'E':50,'F':30,'G':60}\n",
    "d2={'X':10,'Y':20,'Z':30}\n",
    "print(\"The merged dictionary : \",mergingDicts(d1,d2))"
   ]
  },
  {
   "cell_type": "markdown",
   "id": "fa816f1f",
   "metadata": {},
   "source": [
    "#### 4. Write a Python program to convert key-values list to flat dictionary?"
   ]
  },
  {
   "cell_type": "code",
   "execution_count": 29,
   "id": "31829836",
   "metadata": {},
   "outputs": [
    {
     "name": "stdout",
     "output_type": "stream",
     "text": [
      "{'A': 10, 'B': 20, 'C': 30, 'D': 40}\n"
     ]
    }
   ],
   "source": [
    "def convert_into_dict(l):\n",
    "    d={}\n",
    "    for i,j in l:\n",
    "        d[i]=j\n",
    "    return d\n",
    "key_val=[['A',10],['B',20],[\"C\",30],[\"D\",40]]\n",
    "print(convert_into_dict(key_val))"
   ]
  },
  {
   "cell_type": "markdown",
   "id": "416043dc",
   "metadata": {},
   "source": [
    "#### 5. Write a Python program to insertion at the beginning in OrderedDict?"
   ]
  },
  {
   "cell_type": "code",
   "execution_count": 32,
   "id": "fb04b440",
   "metadata": {},
   "outputs": [
    {
     "name": "stdout",
     "output_type": "stream",
     "text": [
      "OrderedDict([('A', 10), ('B', 20), ('C', 10), ('D', 30), ('E', 50), ('F', 30), ('G', 60)])\n",
      "OrderedDict([('Z', 100), ('A', 10), ('B', 20), ('C', 10), ('D', 30), ('E', 50), ('F', 30), ('G', 60)])\n"
     ]
    }
   ],
   "source": [
    "from collections import OrderedDict\n",
    "d1=OrderedDict({'A':10,'B':20,'C':10,'D':30,'E':50,'F':30,'G':60})\n",
    "print(d1)\n",
    "d1.update({'Z':100})\n",
    "d1.move_to_end('Z',last=False)\n",
    "print(d1)"
   ]
  },
  {
   "cell_type": "markdown",
   "id": "5f74190a",
   "metadata": {},
   "source": [
    "#### 6. Write a Python program to check order of character in string using OrderedDict()?"
   ]
  },
  {
   "cell_type": "code",
   "execution_count": 34,
   "id": "944dcfab",
   "metadata": {},
   "outputs": [
    {
     "name": "stdout",
     "output_type": "stream",
     "text": [
      "Enter String : abcdefghij\n",
      "Enetr order Of character : aefhi\n",
      "The characters are in given order in the given string \n"
     ]
    }
   ],
   "source": [
    "from collections import OrderedDict\n",
    "\n",
    "def orderOfChar(str1,pt):\n",
    "    d=OrderedDict.fromkeys(str1)\n",
    "    c=0\n",
    "    for i,j in d.items():\n",
    "        if i==pt[c]:\n",
    "            c+=1\n",
    "        if c==len(pt):\n",
    "            return True\n",
    "    return False\n",
    "str1=input(\"Enter String : \")\n",
    "order=input('Enetr order Of character : ')\n",
    "if orderOfChar(str1,order):\n",
    "    print(\"The characters are in given order in the given string \")\n",
    "else:\n",
    "    print(\"The characters are not in correct order in the given string\")"
   ]
  },
  {
   "cell_type": "markdown",
   "id": "d629f42a",
   "metadata": {},
   "source": [
    "#### 7. Write a Python program to sort Python Dictionaries by Key or Value?"
   ]
  },
  {
   "cell_type": "code",
   "execution_count": 46,
   "id": "5ed1a50d",
   "metadata": {},
   "outputs": [
    {
     "name": "stdout",
     "output_type": "stream",
     "text": [
      "sorted using keys\n",
      "{'A': 10, 'B': 20, 'C': 10, 'D': 30, 'E': 50, 'F': 30, 'G': 60, 'X': 10, 'Y': 20, 'Z': 30}\n",
      "sorted using values\n",
      "{'A': 10, 'C': 10, 'X': 10, 'B': 20, 'Y': 20, 'D': 30, 'F': 30, 'Z': 30, 'E': 50, 'G': 60}\n"
     ]
    }
   ],
   "source": [
    "d={'A': 10, 'B': 20, 'C': 10, 'D': 30,'Y': 20, 'Z': 30,'E': 50, 'F': 30, 'G': 60, 'X': 10}\n",
    "print(\"sorted using keys\")\n",
    "sorted_dict=dict(sorted(d.items(),key=lambda x:x[0]))\n",
    "print(sorted_dict)\n",
    "print(\"sorted using values\")\n",
    "sorted_dict_vals=dict(sorted(d.items(),key=lambda x:[x[1],x[0]]))\n",
    "print(sorted_dict_vals)"
   ]
  }
 ],
 "metadata": {
  "kernelspec": {
   "display_name": "Python 3 (ipykernel)",
   "language": "python",
   "name": "python3"
  },
  "language_info": {
   "codemirror_mode": {
    "name": "ipython",
    "version": 3
   },
   "file_extension": ".py",
   "mimetype": "text/x-python",
   "name": "python",
   "nbconvert_exporter": "python",
   "pygments_lexer": "ipython3",
   "version": "3.10.3"
  }
 },
 "nbformat": 4,
 "nbformat_minor": 5
}
