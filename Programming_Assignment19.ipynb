{
 "cells": [
  {
   "cell_type": "markdown",
   "id": "b97af758",
   "metadata": {},
   "source": [
    "### Question1\n",
    "\n",
    "Create a function that takes a string and returns a string in which each character is repeated\n",
    "\n",
    "once.\n",
    "\n",
    "Examples\n",
    "\n",
    "double_char(&quot;String&quot;) ➞ &quot;SSttrriinngg&quot;\n",
    "\n",
    "double_char(&quot;Hello World!&quot;) ➞ &quot;HHeelllloo WWoorrlldd!!&quot;\n",
    "\n",
    "double_char(&quot;1234!_ &quot;) ➞ &quot;11223344!!__ &quot;"
   ]
  },
  {
   "cell_type": "code",
   "execution_count": 3,
   "id": "4e7f5056",
   "metadata": {},
   "outputs": [
    {
     "name": "stdout",
     "output_type": "stream",
     "text": [
      "SSttrriinngg\n",
      "HHeelllloo WWoorrlldd!!\n",
      "11223344!!__\n"
     ]
    }
   ],
   "source": [
    "def double_char(s):\n",
    "    d_s=\"\"\n",
    "    for i in s:\n",
    "        if i!=\" \":\n",
    "            d_s+=i+i\n",
    "        else:\n",
    "            d_s+=i\n",
    "    return d_s\n",
    "print(double_char(\"String\"))\n",
    "print(double_char(\"Hello World!\"))\n",
    "print(double_char(\"1234!_\"))"
   ]
  },
  {
   "cell_type": "markdown",
   "id": "d277e519",
   "metadata": {},
   "source": [
    "### Question2\n",
    "\n",
    "Create a function that reverses a boolean value and returns the string &quot;boolean expected&quot;\n",
    "\n",
    "if another variable type is given.\n",
    "\n",
    "Examples\n",
    "\n",
    "reverse(True) ➞ False\n",
    "\n",
    "reverse(False) ➞ True\n",
    "\n",
    "reverse(0) ➞ &quot;boolean expected&quot;\n",
    "\n",
    "reverse(None) ➞ &quot;boolean expected&quot;"
   ]
  },
  {
   "cell_type": "code",
   "execution_count": 5,
   "id": "e88c2db3",
   "metadata": {},
   "outputs": [
    {
     "name": "stdout",
     "output_type": "stream",
     "text": [
      "False\n",
      "True\n",
      "boolean expected\n",
      "boolean expected\n"
     ]
    }
   ],
   "source": [
    "def reverse(boolean):\n",
    "    if type(boolean)==bool:\n",
    "        return not boolean\n",
    "    else:\n",
    "        return \"boolean expected\"\n",
    "print(reverse(True))\n",
    "print(reverse(False))   \n",
    "print(reverse(0))   \n",
    "print(reverse(None))   "
   ]
  },
  {
   "cell_type": "markdown",
   "id": "6946fe61",
   "metadata": {},
   "source": [
    "### Question3\n",
    "\n",
    "Create a function that returns the thickness (in meters) of a piece of paper after folding it n\n",
    "\n",
    "number of times. The paper starts off with a thickness of 0.5mm.\n",
    "\n",
    "Examples\n",
    "\n",
    "num_layers(1) ➞ &quot;0.001m&quot;\n",
    "\n",
    "Paper folded once is 1mm (equal to 0.001m)\n",
    "\n",
    "num_layers(4) ➞ &quot;0.008m&quot;\n",
    "\n",
    "Paper folded 4 times is 8mm (equal to 0.008m)\n",
    "\n",
    "num_layers(21) ➞ &quot;1048.576m&quot;\n",
    "\n",
    "paper folded 21 times is 1048576mm (equal to 1048.576m)"
   ]
  },
  {
   "cell_type": "code",
   "execution_count": 8,
   "id": "0c5a0d3d",
   "metadata": {},
   "outputs": [
    {
     "name": "stdout",
     "output_type": "stream",
     "text": [
      "paper folder once is(equal to 0.001m)\n",
      "paper folder 4 times (equal to 0.008m)\n",
      "paper folder 21 times is (equal to 1048.576m)\n"
     ]
    }
   ],
   "source": [
    "def num_layers(n):\n",
    "    return 0.0005*(2**n)\n",
    "print(f'paper folder once is(equal to {num_layers(1)}m)')\n",
    "print(f'paper folder 4 times (equal to {num_layers(4)}m)')\n",
    "print(f'paper folder 21 times is (equal to {num_layers(21)}m)')"
   ]
  },
  {
   "cell_type": "markdown",
   "id": "045462b0",
   "metadata": {},
   "source": [
    "### Question4\n",
    "\n",
    "\n",
    "Create a function that takes a single string as argument and returns an ordered list containing\n",
    "\n",
    "the indices of all capital letters in the string.\n",
    "\n",
    "Examples\n",
    "\n",
    "index_of_caps(&quot;eDaBiT&quot;) ➞ [1, 3, 5]\n",
    "\n",
    "index_of_caps(&quot;eQuINoX&quot;) ➞ [1, 3, 4, 6]\n",
    "\n",
    "index_of_caps(&quot;determine&quot;) ➞ []\n",
    "\n",
    "index_of_caps(&quot;STRIKE&quot;) ➞ [0, 1, 2, 3, 4, 5]\n",
    "\n",
    "index_of_caps(&quot;sUn&quot;) ➞ [1]"
   ]
  },
  {
   "cell_type": "code",
   "execution_count": 9,
   "id": "4d12aa63",
   "metadata": {},
   "outputs": [
    {
     "name": "stdout",
     "output_type": "stream",
     "text": [
      "[1, 3, 5]\n",
      "[1, 3, 4, 6]\n",
      "[]\n",
      "[0, 1, 2, 3, 4, 5]\n",
      "[1]\n"
     ]
    }
   ],
   "source": [
    "def index_of_caps(s):\n",
    "    for i in s:\n",
    "        if i.isupper():\n",
    "            yield s.index(i)\n",
    "print(list(index_of_caps(\"eDaBiT\")))\n",
    "\n",
    "print(list(index_of_caps(\"eQuINoX\")))\n",
    "\n",
    "print(list(index_of_caps(\"determine\")))\n",
    "\n",
    "print(list(index_of_caps(\"STRIKE\"))) \n",
    "\n",
    "print(list(index_of_caps(\"sUn\")))  "
   ]
  },
  {
   "cell_type": "markdown",
   "id": "3da492bb",
   "metadata": {},
   "source": [
    "### Question5\n",
    "\n",
    "Using list comprehensions, create a function that finds all even numbers from 1 to the given\n",
    "\n",
    "number.\n",
    "\n",
    "Examples\n",
    "\n",
    "find_even_nums(8) ➞ [2, 4, 6, 8]\n",
    "\n",
    "find_even_nums(4) ➞ [2, 4]\n",
    "\n",
    "find_even_nums(2) ➞ [2]"
   ]
  },
  {
   "cell_type": "code",
   "execution_count": 11,
   "id": "ed8b1416",
   "metadata": {},
   "outputs": [
    {
     "name": "stdout",
     "output_type": "stream",
     "text": [
      "[2, 4, 6, 8]\n",
      "[2, 4]\n",
      "[2]\n"
     ]
    }
   ],
   "source": [
    "def find_even_nums(r):\n",
    "    return [i for i in range(1,r+1) if i%2==0]\n",
    "print(find_even_nums(8))\n",
    "print(find_even_nums(4))\n",
    "print(find_even_nums(2))"
   ]
  }
 ],
 "metadata": {
  "kernelspec": {
   "display_name": "Python 3 (ipykernel)",
   "language": "python",
   "name": "python3"
  },
  "language_info": {
   "codemirror_mode": {
    "name": "ipython",
    "version": 3
   },
   "file_extension": ".py",
   "mimetype": "text/x-python",
   "name": "python",
   "nbconvert_exporter": "python",
   "pygments_lexer": "ipython3",
   "version": "3.10.3"
  }
 },
 "nbformat": 4,
 "nbformat_minor": 5
}
