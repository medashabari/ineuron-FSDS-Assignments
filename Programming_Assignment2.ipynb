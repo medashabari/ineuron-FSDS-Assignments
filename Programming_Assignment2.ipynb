{
 "cells": [
  {
   "cell_type": "markdown",
   "id": "0a3f9c8e",
   "metadata": {},
   "source": [
    "#### 1. Write a Python program to convert kilometers to miles?"
   ]
  },
  {
   "cell_type": "code",
   "execution_count": 2,
   "id": "c9fc2e48",
   "metadata": {},
   "outputs": [
    {
     "name": "stdout",
     "output_type": "stream",
     "text": [
      "Enter number of kilometers10\n",
      "10 is equal to 6.21371 miles\n"
     ]
    }
   ],
   "source": [
    "def kilo_to_miles(k):\n",
    "    \"\"\"One kilometer is equal to 0.62171 miles\"\"\"\n",
    "    return k*0.621371\n",
    "kilo_mts=int(input(\"Enter number of kilometers\"))\n",
    "print(f\"{kilo_mts} kilometers is equal to {kilo_to_miles(kilo_mts)} miles\")\n"
   ]
  },
  {
   "cell_type": "markdown",
   "id": "3a151c10",
   "metadata": {},
   "source": [
    "#### 2. Write a Python program to convert Celsius to Fahrenheit?"
   ]
  },
  {
   "cell_type": "code",
   "execution_count": 3,
   "id": "6f2e7bb5",
   "metadata": {},
   "outputs": [
    {
     "name": "stdout",
     "output_type": "stream",
     "text": [
      "Enter celsius : 35\n",
      "35 celsius is equal to 95.0 fahrenheit\n"
     ]
    }
   ],
   "source": [
    "c=int(input(\"Enter celsius : \"))\n",
    "f=(c*9/5)+32\n",
    "print(f\"{c} celsius is equal to {f} fahrenheit\")"
   ]
  },
  {
   "cell_type": "markdown",
   "id": "210239c3",
   "metadata": {},
   "source": [
    "#### 3. Write a Python program to display calendar?"
   ]
  },
  {
   "cell_type": "code",
   "execution_count": 5,
   "id": "f2148577",
   "metadata": {},
   "outputs": [
    {
     "name": "stdout",
     "output_type": "stream",
     "text": [
      "Enter year : 2001\n",
      "                                  2001\n",
      "\n",
      "      January                   February                   March\n",
      "Mo Tu We Th Fr Sa Su      Mo Tu We Th Fr Sa Su      Mo Tu We Th Fr Sa Su\n",
      " 1  2  3  4  5  6  7                1  2  3  4                1  2  3  4\n",
      " 8  9 10 11 12 13 14       5  6  7  8  9 10 11       5  6  7  8  9 10 11\n",
      "15 16 17 18 19 20 21      12 13 14 15 16 17 18      12 13 14 15 16 17 18\n",
      "22 23 24 25 26 27 28      19 20 21 22 23 24 25      19 20 21 22 23 24 25\n",
      "29 30 31                  26 27 28                  26 27 28 29 30 31\n",
      "\n",
      "       April                      May                       June\n",
      "Mo Tu We Th Fr Sa Su      Mo Tu We Th Fr Sa Su      Mo Tu We Th Fr Sa Su\n",
      "                   1          1  2  3  4  5  6                   1  2  3\n",
      " 2  3  4  5  6  7  8       7  8  9 10 11 12 13       4  5  6  7  8  9 10\n",
      " 9 10 11 12 13 14 15      14 15 16 17 18 19 20      11 12 13 14 15 16 17\n",
      "16 17 18 19 20 21 22      21 22 23 24 25 26 27      18 19 20 21 22 23 24\n",
      "23 24 25 26 27 28 29      28 29 30 31               25 26 27 28 29 30\n",
      "30\n",
      "\n",
      "        July                     August                  September\n",
      "Mo Tu We Th Fr Sa Su      Mo Tu We Th Fr Sa Su      Mo Tu We Th Fr Sa Su\n",
      "                   1             1  2  3  4  5                      1  2\n",
      " 2  3  4  5  6  7  8       6  7  8  9 10 11 12       3  4  5  6  7  8  9\n",
      " 9 10 11 12 13 14 15      13 14 15 16 17 18 19      10 11 12 13 14 15 16\n",
      "16 17 18 19 20 21 22      20 21 22 23 24 25 26      17 18 19 20 21 22 23\n",
      "23 24 25 26 27 28 29      27 28 29 30 31            24 25 26 27 28 29 30\n",
      "30 31\n",
      "\n",
      "      October                   November                  December\n",
      "Mo Tu We Th Fr Sa Su      Mo Tu We Th Fr Sa Su      Mo Tu We Th Fr Sa Su\n",
      " 1  2  3  4  5  6  7                1  2  3  4                      1  2\n",
      " 8  9 10 11 12 13 14       5  6  7  8  9 10 11       3  4  5  6  7  8  9\n",
      "15 16 17 18 19 20 21      12 13 14 15 16 17 18      10 11 12 13 14 15 16\n",
      "22 23 24 25 26 27 28      19 20 21 22 23 24 25      17 18 19 20 21 22 23\n",
      "29 30 31                  26 27 28 29 30            24 25 26 27 28 29 30\n",
      "                                                    31\n",
      "\n"
     ]
    }
   ],
   "source": [
    "import calendar as cad\n",
    "year=int(input(\"Enter year : \"))\n",
    "print(cad.calendar(year))"
   ]
  },
  {
   "cell_type": "markdown",
   "id": "2eaffa97",
   "metadata": {},
   "source": [
    "#### 4. Write a Python program to solve quadratic equation?"
   ]
  },
  {
   "cell_type": "code",
   "execution_count": 11,
   "id": "d6371090",
   "metadata": {},
   "outputs": [
    {
     "name": "stdout",
     "output_type": "stream",
     "text": [
      "Enter the value of A : 5\n",
      "Enter the value of A : 9\n",
      "Enter the value of A : 2\n",
      "Roots are real and unequal\n",
      "Roots are -6.492189406417879 and -38.50781059358212\n"
     ]
    }
   ],
   "source": [
    "#quadratic equation formula (b*b)-(4*a*c)\n",
    "import math\n",
    "\n",
    "def qudratic_equation(a,b,c):\n",
    "    d=(b*b)-(4*a*c)\n",
    "    f=0\n",
    "    if d==0:\n",
    "        print(\"Roots are real and imaginary\")\n",
    "        f=1\n",
    "    elif d>0:\n",
    "        print(\"Roots are real and unequal\")\n",
    "        f=1\n",
    "    else:\n",
    "        print(\"Roots are imaginary\")\n",
    "    if f==1:\n",
    "        r1=(-b+math.sqrt(d))/2*a\n",
    "        r2=(-b-math.sqrt(d))/2*a\n",
    "        print(f\"Roots are {r1} and {r2}\")\n",
    "\n",
    "a=int(input(\"Enter the value of A : \"))\n",
    "b=int(input(\"Enter the value of A : \"))\n",
    "c=int(input(\"Enter the value of A : \"))\n",
    "qudratic_equation(a,b,c)\n",
    "        "
   ]
  },
  {
   "cell_type": "markdown",
   "id": "5db30f71",
   "metadata": {},
   "source": [
    "#### 5. Write a Python program to swap two variables without temp variable?"
   ]
  },
  {
   "cell_type": "code",
   "execution_count": 12,
   "id": "8d819372",
   "metadata": {},
   "outputs": [
    {
     "name": "stdout",
     "output_type": "stream",
     "text": [
      "Enter a value : 10\n",
      "Enter a value : 20\n",
      "Before swapping var1=10 and var2=20\n",
      "After swapping var1=20 and var2=10\n"
     ]
    }
   ],
   "source": [
    "var1=input(\"Enter a value : \")\n",
    "var2=input(\"Enter a value : \")\n",
    "print(f\"Before swapping var1={var1} and var2={var2}\")\n",
    "var1,var2=var2,var1\n",
    "print(f\"After swapping var1={var1} and var2={var2}\")"
   ]
  }
 ],
 "metadata": {
  "kernelspec": {
   "display_name": "Python 3 (ipykernel)",
   "language": "python",
   "name": "python3"
  },
  "language_info": {
   "codemirror_mode": {
    "name": "ipython",
    "version": 3
   },
   "file_extension": ".py",
   "mimetype": "text/x-python",
   "name": "python",
   "nbconvert_exporter": "python",
   "pygments_lexer": "ipython3",
   "version": "3.10.3"
  }
 },
 "nbformat": 4,
 "nbformat_minor": 5
}
